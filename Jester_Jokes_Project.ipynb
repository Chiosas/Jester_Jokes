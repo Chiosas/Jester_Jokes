{
  "nbformat": 4,
  "nbformat_minor": 0,
  "metadata": {
    "colab": {
      "name": "Jester Jokes - Project.ipynb",
      "provenance": [],
      "collapsed_sections": [],
      "toc_visible": true,
      "include_colab_link": true
    },
    "kernelspec": {
      "name": "python3",
      "display_name": "Python 3"
    },
    "accelerator": "GPU"
  },
  "cells": [
    {
      "cell_type": "markdown",
      "metadata": {
        "id": "view-in-github",
        "colab_type": "text"
      },
      "source": [
        "<a href=\"https://colab.research.google.com/github/Chiosas/Jester_Jokes/blob/master/Jester_Jokes_Project.ipynb\" target=\"_parent\"><img src=\"https://colab.research.google.com/assets/colab-badge.svg\" alt=\"Open In Colab\"/></a>"
      ]
    },
    {
      "cell_type": "markdown",
      "metadata": {
        "id": "7GeydWKk_VqR",
        "colab_type": "text"
      },
      "source": [
        "## ***Initial Setup***"
      ]
    },
    {
      "cell_type": "markdown",
      "metadata": {
        "id": "d5wifo6R_aA_",
        "colab_type": "text"
      },
      "source": [
        "### ***Environment Setup***"
      ]
    },
    {
      "cell_type": "code",
      "metadata": {
        "id": "h5a2BFIa_drg",
        "colab_type": "code",
        "colab": {}
      },
      "source": [
        "import os\n",
        "from pathlib import Path"
      ],
      "execution_count": 0,
      "outputs": []
    },
    {
      "cell_type": "code",
      "metadata": {
        "id": "sbzG2bNq_G-N",
        "colab_type": "code",
        "colab": {}
      },
      "source": [
        "dir_name = 'jokes'\n",
        "DATA_DIR = Path(f'data/{dir_name}')\n",
        "MODEL_DIR = Path(f'model/{dir_name}')"
      ],
      "execution_count": 0,
      "outputs": []
    },
    {
      "cell_type": "code",
      "metadata": {
        "id": "JKbmUE_h_q5w",
        "colab_type": "code",
        "colab": {}
      },
      "source": [
        "try:\n",
        "    import google.colab\n",
        "    IN_COLAB = True\n",
        "except:\n",
        "    IN_COLAB = False\n",
        "\n",
        "FIRST_RUN = not os.path.exists(str(MODEL_DIR))"
      ],
      "execution_count": 0,
      "outputs": []
    },
    {
      "cell_type": "code",
      "metadata": {
        "id": "4tqOFrpd_uSL",
        "colab_type": "code",
        "colab": {}
      },
      "source": [
        "if not IN_COLAB:\n",
        "    os.environ['CUDA_DEVICE_ORDER']='PCI_BUS_ID'\n",
        "    os.environ['CUDA_VISIBLE_DEVICES']='0'\n",
        "\n",
        "if FIRST_RUN:\n",
        "    os.makedirs(MODEL_DIR, exist_ok=True)\n",
        "    os.makedirs(DATA_DIR, exist_ok=True)"
      ],
      "execution_count": 0,
      "outputs": []
    },
    {
      "cell_type": "code",
      "metadata": {
        "id": "hezTDZbS_yDL",
        "colab_type": "code",
        "colab": {}
      },
      "source": [
        "if IN_COLAB and FIRST_RUN:\n",
        "    !pip install -q --upgrade scikit-optimize\n",
        "    !pip install -q -U --pre efficientnet\n",
        "    !pip install -q -U --no-deps tensorflow-addons~=0.6\n",
        "    # !pip install -q -U tensorflow-datasets\n",
        "    # !pip install -q -U tensorflow_hub\n",
        "    !pip install -q -U keras-tuner"
      ],
      "execution_count": 0,
      "outputs": []
    },
    {
      "cell_type": "markdown",
      "metadata": {
        "id": "TnwjN_cCAeAB",
        "colab_type": "text"
      },
      "source": [
        "### ***Kaggle Setup***"
      ]
    },
    {
      "cell_type": "code",
      "metadata": {
        "id": "mWtUrR3AAZZh",
        "colab_type": "code",
        "colab": {}
      },
      "source": [
        "def setup_kaggle():\n",
        "    x = !ls kaggle.json\n",
        "    assert x == ['kaggle.json'], 'Upload kaggle.json'\n",
        "    !mkdir /root/.kaggle\n",
        "    !mv kaggle.json /root/.kaggle\n",
        "    !chmod 600 /root/.kaggle/kaggle.json"
      ],
      "execution_count": 0,
      "outputs": []
    },
    {
      "cell_type": "code",
      "metadata": {
        "id": "x0vOWkHSAnOM",
        "colab_type": "code",
        "colab": {}
      },
      "source": [
        "# Make sure you've uploaded 'kaggle.json' file into Colab\n",
        "if IN_COLAB and FIRST_RUN:\n",
        "    setup_kaggle()"
      ],
      "execution_count": 0,
      "outputs": []
    },
    {
      "cell_type": "code",
      "metadata": {
        "id": "19GsIpwbAvks",
        "colab_type": "code",
        "colab": {}
      },
      "source": [
        "import kaggle"
      ],
      "execution_count": 0,
      "outputs": []
    },
    {
      "cell_type": "code",
      "metadata": {
        "id": "Yd_E-ZHDA2Yb",
        "colab_type": "code",
        "colab": {}
      },
      "source": [
        "if IN_COLAB and FIRST_RUN:\n",
        "    kaggle.api.authenticate()\n",
        "    kaggle.api.dataset_download_files(\n",
        "        dataset='vikashrajluhaniwal/jester-17m-jokes-ratings-dataset',\n",
        "        path=DATA_DIR,\n",
        "        unzip=True,\n",
        "    )"
      ],
      "execution_count": 0,
      "outputs": []
    },
    {
      "cell_type": "markdown",
      "metadata": {
        "id": "A0e8Kt-vBVL6",
        "colab_type": "text"
      },
      "source": [
        "### ***Importing Dependencies***"
      ]
    },
    {
      "cell_type": "code",
      "metadata": {
        "id": "jBswXvLhBZkO",
        "colab_type": "code",
        "outputId": "db697e5b-0b56-4c01-8a49-1f4bb926b30e",
        "colab": {
          "base_uri": "https://localhost:8080/",
          "height": 35
        }
      },
      "source": [
        "try:\n",
        "    # %tensorflow_version only exists in Colab.\n",
        "    %tensorflow_version 2.x\n",
        "except Exception:\n",
        "    pass"
      ],
      "execution_count": 0,
      "outputs": [
        {
          "output_type": "stream",
          "text": [
            "TensorFlow 2.x selected.\n"
          ],
          "name": "stdout"
        }
      ]
    },
    {
      "cell_type": "code",
      "metadata": {
        "id": "SqsGD-9yBksi",
        "colab_type": "code",
        "outputId": "54098430-06ca-4d96-a569-27ed8b00ac4a",
        "colab": {
          "base_uri": "https://localhost:8080/",
          "height": 107
        }
      },
      "source": [
        "from imports import *\n",
        "\n",
        "import tensorflow_addons as tfa\n",
        "# import tensorflow_datasets as tfds\n",
        "# import tensorflow_hub as hub\n",
        "import kerastuner as kt"
      ],
      "execution_count": 0,
      "outputs": [
        {
          "output_type": "stream",
          "text": [
            "/usr/local/lib/python3.6/dist-packages/sklearn/externals/joblib/__init__.py:15: FutureWarning: sklearn.externals.joblib is deprecated in 0.21 and will be removed in 0.23. Please import this functionality directly from joblib, which can be installed with: pip install joblib. If this warning is raised when loading pickled models, you may need to re-serialize those models with scikit-learn 0.21+.\n",
            "  warnings.warn(msg, category=FutureWarning)\n",
            "/usr/local/lib/python3.6/dist-packages/sklearn/utils/deprecation.py:144: FutureWarning: The sklearn.metrics.scorer module is  deprecated in version 0.22 and will be removed in version 0.24. The corresponding classes / functions should instead be imported from sklearn.metrics. Anything that cannot be imported from sklearn.metrics is now part of the private API.\n",
            "  warnings.warn(message, FutureWarning)\n"
          ],
          "name": "stderr"
        }
      ]
    },
    {
      "cell_type": "code",
      "metadata": {
        "id": "3Nx9Ii7mBoYu",
        "colab_type": "code",
        "outputId": "108585cf-6b55-4a84-a9f5-d4c410dd2201",
        "colab": {
          "base_uri": "https://localhost:8080/",
          "height": 35
        }
      },
      "source": [
        "tf.__version__"
      ],
      "execution_count": 0,
      "outputs": [
        {
          "output_type": "execute_result",
          "data": {
            "text/plain": [
              "'2.1.0-rc1'"
            ]
          },
          "metadata": {
            "tags": []
          },
          "execution_count": 12
        }
      ]
    },
    {
      "cell_type": "code",
      "metadata": {
        "id": "zfJ4GhzJBs2-",
        "colab_type": "code",
        "colab": {}
      },
      "source": [
        "if FIRST_RUN:\n",
        "    exit()"
      ],
      "execution_count": 0,
      "outputs": []
    },
    {
      "cell_type": "code",
      "metadata": {
        "id": "TSCxNSBoByL9",
        "colab_type": "code",
        "colab": {}
      },
      "source": [
        "%matplotlib inline"
      ],
      "execution_count": 0,
      "outputs": []
    },
    {
      "cell_type": "markdown",
      "metadata": {
        "id": "GkWABjopB3pu",
        "colab_type": "text"
      },
      "source": [
        "## ***Data Description***"
      ]
    },
    {
      "cell_type": "markdown",
      "metadata": {
        "id": "upWXBxSBB8Su",
        "colab_type": "text"
      },
      "source": [
        "### **Content**\n",
        "\n",
        "![Jokes](https://short-funny.com/cartoon-jokes/400/donkey-joke.jpg)\n",
        "\n",
        "Jester is an online joke recommender system developed by Ken Goldberg and the team at UC Berkeley. Users are presented jokes through an HTML client interface and allowed to rate jokes. Once a user rates all jokes in the gauge set, the system recommends new jokes to the user.\n",
        "\n",
        "The dataset contains over 1.7 million continuous ratings (-10.00 to +10.00) of 150 jokes from 59,132 users. The dataset was collected between November 2006 - May 2009. The complete dataset has two CSV files:\n",
        "* *jester_ratings.csv* - Ratings of jokes\n",
        "* *jester_items.csv* - Contents of jokes\n",
        "\n",
        "The ratings are real values ranging from -10.00 to +10.00.\n",
        "As of May 2009, the jokes {7, 8, 13, 15, 16, 17, 18, 19} are the \"gauge set\".\n",
        "\n",
        "The columns of *jester_ratings.csv* file are:\n",
        "\n",
        "* User ID — unique ID of a website user,\n",
        "* Joke ID — unique ID of a joke posted on the website,\n",
        "* Rating — rating of the joke assigned by the user.\n",
        "\n",
        "The columns of *jester_items.csv* file are:\n",
        "\n",
        "* Joke ID — unique ID of a joke posted on the website,\n",
        "* Joke Text — actual joke content.\n",
        "\n",
        "\n",
        "We will use the dataset to build a collaborative filtering or hybrid recommender system model."
      ]
    },
    {
      "cell_type": "markdown",
      "metadata": {
        "id": "9cVtCPxICB_m",
        "colab_type": "text"
      },
      "source": [
        "### ***Data Exploration***"
      ]
    },
    {
      "cell_type": "code",
      "metadata": {
        "id": "x5K6jffxB21u",
        "colab_type": "code",
        "colab": {}
      },
      "source": [
        "# Reading the data from the file\n",
        "raw_data = pd.read_csv(DATA_DIR/'jester_ratings.csv', low_memory=False)"
      ],
      "execution_count": 0,
      "outputs": []
    },
    {
      "cell_type": "code",
      "metadata": {
        "id": "beN-_joMyeCF",
        "colab_type": "code",
        "outputId": "c4612182-2155-443e-c46e-30b82833e01c",
        "colab": {
          "base_uri": "https://localhost:8080/",
          "height": 52
        }
      },
      "source": [
        "print('Number of rows in the dataset:', raw_data.shape[0])\n",
        "print('Number of columns in the dataset:', raw_data.shape[1])"
      ],
      "execution_count": 0,
      "outputs": [
        {
          "output_type": "stream",
          "text": [
            "Number of rows in the dataset: 1761439\n",
            "Number of columns in the dataset: 3\n"
          ],
          "name": "stdout"
        }
      ]
    },
    {
      "cell_type": "code",
      "metadata": {
        "id": "BSEDpiHyyix1",
        "colab_type": "code",
        "outputId": "db85ba51-a63a-471f-9051-5af8046f0df8",
        "colab": {
          "base_uri": "https://localhost:8080/",
          "height": 158
        }
      },
      "source": [
        "raw_data.info(null_counts=True)"
      ],
      "execution_count": 0,
      "outputs": [
        {
          "output_type": "stream",
          "text": [
            "<class 'pandas.core.frame.DataFrame'>\n",
            "RangeIndex: 1761439 entries, 0 to 1761438\n",
            "Data columns (total 3 columns):\n",
            "userId    1761439 non-null int64\n",
            "jokeId    1761439 non-null int64\n",
            "rating    1761439 non-null float64\n",
            "dtypes: float64(1), int64(2)\n",
            "memory usage: 40.3 MB\n"
          ],
          "name": "stdout"
        }
      ]
    },
    {
      "cell_type": "code",
      "metadata": {
        "id": "dgb75uG629XH",
        "colab_type": "code",
        "outputId": "45b8fe06-e7e1-49b9-c108-ce1a24c3311c",
        "colab": {
          "base_uri": "https://localhost:8080/",
          "height": 87
        }
      },
      "source": [
        "raw_data.isna().sum()"
      ],
      "execution_count": 0,
      "outputs": [
        {
          "output_type": "execute_result",
          "data": {
            "text/plain": [
              "userId    0\n",
              "jokeId    0\n",
              "rating    0\n",
              "dtype: int64"
            ]
          },
          "metadata": {
            "tags": []
          },
          "execution_count": 18
        }
      ]
    },
    {
      "cell_type": "code",
      "metadata": {
        "id": "LqPxS-iiyyyj",
        "colab_type": "code",
        "outputId": "7663206b-0850-4723-e38c-f60ab1dbd2c9",
        "colab": {
          "base_uri": "https://localhost:8080/",
          "height": 295
        }
      },
      "source": [
        "raw_data.describe(include='all')"
      ],
      "execution_count": 0,
      "outputs": [
        {
          "output_type": "execute_result",
          "data": {
            "text/html": [
              "<div>\n",
              "<style scoped>\n",
              "    .dataframe tbody tr th:only-of-type {\n",
              "        vertical-align: middle;\n",
              "    }\n",
              "\n",
              "    .dataframe tbody tr th {\n",
              "        vertical-align: top;\n",
              "    }\n",
              "\n",
              "    .dataframe thead th {\n",
              "        text-align: right;\n",
              "    }\n",
              "</style>\n",
              "<table border=\"1\" class=\"dataframe\">\n",
              "  <thead>\n",
              "    <tr style=\"text-align: right;\">\n",
              "      <th></th>\n",
              "      <th>userId</th>\n",
              "      <th>jokeId</th>\n",
              "      <th>rating</th>\n",
              "    </tr>\n",
              "  </thead>\n",
              "  <tbody>\n",
              "    <tr>\n",
              "      <th>count</th>\n",
              "      <td>1.761439e+06</td>\n",
              "      <td>1.761439e+06</td>\n",
              "      <td>1.761439e+06</td>\n",
              "    </tr>\n",
              "    <tr>\n",
              "      <th>mean</th>\n",
              "      <td>3.272322e+04</td>\n",
              "      <td>7.071133e+01</td>\n",
              "      <td>1.618602e+00</td>\n",
              "    </tr>\n",
              "    <tr>\n",
              "      <th>std</th>\n",
              "      <td>1.828011e+04</td>\n",
              "      <td>4.600790e+01</td>\n",
              "      <td>5.302608e+00</td>\n",
              "    </tr>\n",
              "    <tr>\n",
              "      <th>min</th>\n",
              "      <td>1.000000e+00</td>\n",
              "      <td>5.000000e+00</td>\n",
              "      <td>-1.000000e+01</td>\n",
              "    </tr>\n",
              "    <tr>\n",
              "      <th>25%</th>\n",
              "      <td>1.720200e+04</td>\n",
              "      <td>2.100000e+01</td>\n",
              "      <td>-2.031000e+00</td>\n",
              "    </tr>\n",
              "    <tr>\n",
              "      <th>50%</th>\n",
              "      <td>3.480800e+04</td>\n",
              "      <td>6.900000e+01</td>\n",
              "      <td>2.219000e+00</td>\n",
              "    </tr>\n",
              "    <tr>\n",
              "      <th>75%</th>\n",
              "      <td>4.730600e+04</td>\n",
              "      <td>1.120000e+02</td>\n",
              "      <td>5.719000e+00</td>\n",
              "    </tr>\n",
              "    <tr>\n",
              "      <th>max</th>\n",
              "      <td>6.397800e+04</td>\n",
              "      <td>1.500000e+02</td>\n",
              "      <td>1.000000e+01</td>\n",
              "    </tr>\n",
              "  </tbody>\n",
              "</table>\n",
              "</div>"
            ],
            "text/plain": [
              "             userId        jokeId        rating\n",
              "count  1.761439e+06  1.761439e+06  1.761439e+06\n",
              "mean   3.272322e+04  7.071133e+01  1.618602e+00\n",
              "std    1.828011e+04  4.600790e+01  5.302608e+00\n",
              "min    1.000000e+00  5.000000e+00 -1.000000e+01\n",
              "25%    1.720200e+04  2.100000e+01 -2.031000e+00\n",
              "50%    3.480800e+04  6.900000e+01  2.219000e+00\n",
              "75%    4.730600e+04  1.120000e+02  5.719000e+00\n",
              "max    6.397800e+04  1.500000e+02  1.000000e+01"
            ]
          },
          "metadata": {
            "tags": []
          },
          "execution_count": 19
        }
      ]
    },
    {
      "cell_type": "code",
      "metadata": {
        "id": "AYdQOx49y8aS",
        "colab_type": "code",
        "outputId": "7e10e336-f2c0-44d3-bd24-1c0d6da5d0ad",
        "colab": {
          "base_uri": "https://localhost:8080/",
          "height": 203
        }
      },
      "source": [
        "raw_data.head()"
      ],
      "execution_count": 0,
      "outputs": [
        {
          "output_type": "execute_result",
          "data": {
            "text/html": [
              "<div>\n",
              "<style scoped>\n",
              "    .dataframe tbody tr th:only-of-type {\n",
              "        vertical-align: middle;\n",
              "    }\n",
              "\n",
              "    .dataframe tbody tr th {\n",
              "        vertical-align: top;\n",
              "    }\n",
              "\n",
              "    .dataframe thead th {\n",
              "        text-align: right;\n",
              "    }\n",
              "</style>\n",
              "<table border=\"1\" class=\"dataframe\">\n",
              "  <thead>\n",
              "    <tr style=\"text-align: right;\">\n",
              "      <th></th>\n",
              "      <th>userId</th>\n",
              "      <th>jokeId</th>\n",
              "      <th>rating</th>\n",
              "    </tr>\n",
              "  </thead>\n",
              "  <tbody>\n",
              "    <tr>\n",
              "      <th>0</th>\n",
              "      <td>1</td>\n",
              "      <td>5</td>\n",
              "      <td>0.219</td>\n",
              "    </tr>\n",
              "    <tr>\n",
              "      <th>1</th>\n",
              "      <td>1</td>\n",
              "      <td>7</td>\n",
              "      <td>-9.281</td>\n",
              "    </tr>\n",
              "    <tr>\n",
              "      <th>2</th>\n",
              "      <td>1</td>\n",
              "      <td>8</td>\n",
              "      <td>-9.281</td>\n",
              "    </tr>\n",
              "    <tr>\n",
              "      <th>3</th>\n",
              "      <td>1</td>\n",
              "      <td>13</td>\n",
              "      <td>-6.781</td>\n",
              "    </tr>\n",
              "    <tr>\n",
              "      <th>4</th>\n",
              "      <td>1</td>\n",
              "      <td>15</td>\n",
              "      <td>0.875</td>\n",
              "    </tr>\n",
              "  </tbody>\n",
              "</table>\n",
              "</div>"
            ],
            "text/plain": [
              "   userId  jokeId  rating\n",
              "0       1       5   0.219\n",
              "1       1       7  -9.281\n",
              "2       1       8  -9.281\n",
              "3       1      13  -6.781\n",
              "4       1      15   0.875"
            ]
          },
          "metadata": {
            "tags": []
          },
          "execution_count": 20
        }
      ]
    },
    {
      "cell_type": "code",
      "metadata": {
        "id": "GJJZH0_UzNvt",
        "colab_type": "code",
        "outputId": "30fda5a4-f86a-48f5-9b75-08caaaa3767f",
        "colab": {
          "base_uri": "https://localhost:8080/",
          "height": 203
        }
      },
      "source": [
        "raw_data.tail()"
      ],
      "execution_count": 0,
      "outputs": [
        {
          "output_type": "execute_result",
          "data": {
            "text/html": [
              "<div>\n",
              "<style scoped>\n",
              "    .dataframe tbody tr th:only-of-type {\n",
              "        vertical-align: middle;\n",
              "    }\n",
              "\n",
              "    .dataframe tbody tr th {\n",
              "        vertical-align: top;\n",
              "    }\n",
              "\n",
              "    .dataframe thead th {\n",
              "        text-align: right;\n",
              "    }\n",
              "</style>\n",
              "<table border=\"1\" class=\"dataframe\">\n",
              "  <thead>\n",
              "    <tr style=\"text-align: right;\">\n",
              "      <th></th>\n",
              "      <th>userId</th>\n",
              "      <th>jokeId</th>\n",
              "      <th>rating</th>\n",
              "    </tr>\n",
              "  </thead>\n",
              "  <tbody>\n",
              "    <tr>\n",
              "      <th>1761434</th>\n",
              "      <td>63978</td>\n",
              "      <td>57</td>\n",
              "      <td>-8.531</td>\n",
              "    </tr>\n",
              "    <tr>\n",
              "      <th>1761435</th>\n",
              "      <td>63978</td>\n",
              "      <td>24</td>\n",
              "      <td>-9.062</td>\n",
              "    </tr>\n",
              "    <tr>\n",
              "      <th>1761436</th>\n",
              "      <td>63978</td>\n",
              "      <td>124</td>\n",
              "      <td>-9.031</td>\n",
              "    </tr>\n",
              "    <tr>\n",
              "      <th>1761437</th>\n",
              "      <td>63978</td>\n",
              "      <td>58</td>\n",
              "      <td>-8.656</td>\n",
              "    </tr>\n",
              "    <tr>\n",
              "      <th>1761438</th>\n",
              "      <td>63978</td>\n",
              "      <td>44</td>\n",
              "      <td>-8.438</td>\n",
              "    </tr>\n",
              "  </tbody>\n",
              "</table>\n",
              "</div>"
            ],
            "text/plain": [
              "         userId  jokeId  rating\n",
              "1761434   63978      57  -8.531\n",
              "1761435   63978      24  -9.062\n",
              "1761436   63978     124  -9.031\n",
              "1761437   63978      58  -8.656\n",
              "1761438   63978      44  -8.438"
            ]
          },
          "metadata": {
            "tags": []
          },
          "execution_count": 21
        }
      ]
    },
    {
      "cell_type": "code",
      "metadata": {
        "id": "F0ZDzhKe1fsA",
        "colab_type": "code",
        "outputId": "b1a965cf-b03e-4636-c43d-832962ef8031",
        "colab": {
          "base_uri": "https://localhost:8080/",
          "height": 52
        }
      },
      "source": [
        "print('Number of users in the dataset:', raw_data['userId'].nunique())\n",
        "print('Number of jokes in the dataset:', raw_data['jokeId'].nunique())"
      ],
      "execution_count": 0,
      "outputs": [
        {
          "output_type": "stream",
          "text": [
            "Number of users in the dataset: 59132\n",
            "Number of jokes in the dataset: 140\n"
          ],
          "name": "stdout"
        }
      ]
    },
    {
      "cell_type": "code",
      "metadata": {
        "id": "yI4KsM0vzjeL",
        "colab_type": "code",
        "colab": {}
      },
      "source": [
        "raw_data['new_rating'] = raw_data['rating'].round()"
      ],
      "execution_count": 0,
      "outputs": []
    },
    {
      "cell_type": "code",
      "metadata": {
        "id": "_yQO86KA4f0B",
        "colab_type": "code",
        "colab": {}
      },
      "source": [
        "target_col = 'new_rating'\n",
        "item_col = 'jokeId'\n",
        "user_col = 'userId'"
      ],
      "execution_count": 0,
      "outputs": []
    },
    {
      "cell_type": "code",
      "metadata": {
        "id": "JM7RHg_w0AeR",
        "colab_type": "code",
        "colab": {}
      },
      "source": [
        "class_dist_df = raw_data[[item_col, target_col]].groupby(target_col, as_index=False).count()\n",
        "max_count = class_dist_df[item_col].max()"
      ],
      "execution_count": 0,
      "outputs": []
    },
    {
      "cell_type": "code",
      "metadata": {
        "id": "ou6a3uqZ0Ktc",
        "colab_type": "code",
        "outputId": "f1161605-ee8b-48eb-978c-4939648f381d",
        "colab": {
          "base_uri": "https://localhost:8080/",
          "height": 411
        }
      },
      "source": [
        "# setting plot style & size\n",
        "sns.set(style='darkgrid')\n",
        "plt.figure(figsize=(17, 6))\n",
        "\n",
        "# rendering plot\n",
        "sns.barplot(x=target_col, y=item_col, data=class_dist_df, edgecolor='black')\n",
        "\n",
        "# adding chart title\n",
        "plt.title('# of ratings by score', size=14)\n",
        "\n",
        "# adding custom labels for axes\n",
        "plt.ylabel('Count')\n",
        "plt.xlabel('Ratings')\n",
        "\n",
        "# adding labels on data points\n",
        "for index, row in class_dist_df.iterrows():\n",
        "    plt.text(index, row.jokeId + (max_count // 100) * 1.5, row.jokeId.astype('int'), color='black', ha=\"center\", size=11)"
      ],
      "execution_count": 0,
      "outputs": [
        {
          "output_type": "display_data",
          "data": {
            "image/png": "[encoded data removed]",
            "text/plain": [
              "<Figure size 1224x432 with 1 Axes>"
            ]
          },
          "metadata": {
            "tags": []
          }
        }
      ]
    },
    {
      "cell_type": "markdown",
      "metadata": {
        "id": "sbdSv2VBbUj_",
        "colab_type": "text"
      },
      "source": [
        "## ***Data Preparation***"
      ]
    },
    {
      "cell_type": "markdown",
      "metadata": {
        "id": "LvyrV1jNbat3",
        "colab_type": "text"
      },
      "source": [
        "###***Data Split - Train/Validation***"
      ]
    },
    {
      "cell_type": "code",
      "metadata": {
        "id": "2uird4vG49r4",
        "colab_type": "code",
        "colab": {}
      },
      "source": [
        "work_data = raw_data.copy()"
      ],
      "execution_count": 0,
      "outputs": []
    },
    {
      "cell_type": "code",
      "metadata": {
        "id": "znk2kABpblir",
        "colab_type": "code",
        "colab": {}
      },
      "source": [
        "def data_split(data, ratio, save_data=True, load_data=True):\n",
        "    # Data split part\n",
        "    train_data, testval_data = train_test_split(data, test_size=ratio, random_state=10, stratify=data[target_col])\n",
        "    val_data, test_data = train_test_split(testval_data, test_size=0.5, random_state=10, stratify=testval_data[target_col])\n",
        "\n",
        "    # Setting variables\n",
        "    file_contents = [train_data, val_data, test_data]\n",
        "    file_names = ['train_data.csv', 'val_data.csv', 'test_data.csv']\n",
        "\n",
        "    # Reseting indices on data\n",
        "    for contents in file_contents:\n",
        "        contents.reset_index(drop=True, inplace=True)\n",
        "\n",
        "    # Saving data to csv files\n",
        "    if save_data:\n",
        "        for name, contents in zip(file_names, file_contents):\n",
        "            contents.to_csv(path_or_buf=DATA_DIR/name, index=False, header=True)\n",
        "    \n",
        "    # Loading data from csv files\n",
        "    if load_data:\n",
        "        for name, contents in zip(file_names, file_contents):\n",
        "            contents = pd.read_csv(DATA_DIR/name, low_memory=False)\n",
        "    \n",
        "    return train_data, test_data, val_data"
      ],
      "execution_count": 0,
      "outputs": []
    },
    {
      "cell_type": "code",
      "metadata": {
        "id": "5r4OgHImbqbK",
        "colab_type": "code",
        "colab": {}
      },
      "source": [
        "train_data, test_data, val_data = data_split(data=work_data, ratio=0.1)"
      ],
      "execution_count": 0,
      "outputs": []
    },
    {
      "cell_type": "code",
      "metadata": {
        "id": "5Mz7Z0sLb_Yf",
        "colab_type": "code",
        "outputId": "15963173-610f-4bb1-807e-02dcc9157e75",
        "colab": {
          "base_uri": "https://localhost:8080/",
          "height": 35
        }
      },
      "source": [
        "# Checking the shapes of splited data\n",
        "[x.shape for x in (train_data, val_data, test_data)]"
      ],
      "execution_count": 0,
      "outputs": [
        {
          "output_type": "execute_result",
          "data": {
            "text/plain": [
              "[(1585295, 4), (88072, 4), (88072, 4)]"
            ]
          },
          "metadata": {
            "tags": []
          },
          "execution_count": 30
        }
      ]
    },
    {
      "cell_type": "code",
      "metadata": {
        "id": "McCeza8BcDfR",
        "colab_type": "code",
        "outputId": "237bc36d-e916-4453-8300-a3b5c3a45935",
        "colab": {
          "base_uri": "https://localhost:8080/",
          "height": 203
        }
      },
      "source": [
        "train_data.head()"
      ],
      "execution_count": 0,
      "outputs": [
        {
          "output_type": "execute_result",
          "data": {
            "text/html": [
              "<div>\n",
              "<style scoped>\n",
              "    .dataframe tbody tr th:only-of-type {\n",
              "        vertical-align: middle;\n",
              "    }\n",
              "\n",
              "    .dataframe tbody tr th {\n",
              "        vertical-align: top;\n",
              "    }\n",
              "\n",
              "    .dataframe thead th {\n",
              "        text-align: right;\n",
              "    }\n",
              "</style>\n",
              "<table border=\"1\" class=\"dataframe\">\n",
              "  <thead>\n",
              "    <tr style=\"text-align: right;\">\n",
              "      <th></th>\n",
              "      <th>userId</th>\n",
              "      <th>jokeId</th>\n",
              "      <th>rating</th>\n",
              "      <th>new_rating</th>\n",
              "    </tr>\n",
              "  </thead>\n",
              "  <tbody>\n",
              "    <tr>\n",
              "      <th>0</th>\n",
              "      <td>36445</td>\n",
              "      <td>19</td>\n",
              "      <td>1.438</td>\n",
              "      <td>1.0</td>\n",
              "    </tr>\n",
              "    <tr>\n",
              "      <th>1</th>\n",
              "      <td>2727</td>\n",
              "      <td>13</td>\n",
              "      <td>3.781</td>\n",
              "      <td>4.0</td>\n",
              "    </tr>\n",
              "    <tr>\n",
              "      <th>2</th>\n",
              "      <td>33219</td>\n",
              "      <td>53</td>\n",
              "      <td>5.562</td>\n",
              "      <td>6.0</td>\n",
              "    </tr>\n",
              "    <tr>\n",
              "      <th>3</th>\n",
              "      <td>30926</td>\n",
              "      <td>141</td>\n",
              "      <td>-9.250</td>\n",
              "      <td>-9.0</td>\n",
              "    </tr>\n",
              "    <tr>\n",
              "      <th>4</th>\n",
              "      <td>36586</td>\n",
              "      <td>104</td>\n",
              "      <td>3.125</td>\n",
              "      <td>3.0</td>\n",
              "    </tr>\n",
              "  </tbody>\n",
              "</table>\n",
              "</div>"
            ],
            "text/plain": [
              "   userId  jokeId  rating  new_rating\n",
              "0   36445      19   1.438         1.0\n",
              "1    2727      13   3.781         4.0\n",
              "2   33219      53   5.562         6.0\n",
              "3   30926     141  -9.250        -9.0\n",
              "4   36586     104   3.125         3.0"
            ]
          },
          "metadata": {
            "tags": []
          },
          "execution_count": 31
        }
      ]
    },
    {
      "cell_type": "code",
      "metadata": {
        "id": "-mcKBFcaesyP",
        "colab_type": "code",
        "outputId": "26ec7433-ac29-4496-8fdf-f895120d9c99",
        "colab": {
          "base_uri": "https://localhost:8080/",
          "height": 52
        }
      },
      "source": [
        "rates = train_data[target_col].unique()\n",
        "rates.sort()\n",
        "rates"
      ],
      "execution_count": 0,
      "outputs": [
        {
          "output_type": "execute_result",
          "data": {
            "text/plain": [
              "array([-10.,  -9.,  -8.,  -7.,  -6.,  -5.,  -4.,  -3.,  -2.,  -1.,   0.,\n",
              "         1.,   2.,   3.,   4.,   5.,   6.,   7.,   8.,   9.,  10.])"
            ]
          },
          "metadata": {
            "tags": []
          },
          "execution_count": 32
        }
      ]
    },
    {
      "cell_type": "markdown",
      "metadata": {
        "id": "QGKYU4aLgIo3",
        "colab_type": "text"
      },
      "source": [
        "### ***Data Preprocessing***"
      ]
    },
    {
      "cell_type": "code",
      "metadata": {
        "id": "evBpr829FJ2C",
        "colab_type": "code",
        "colab": {}
      },
      "source": [
        "target_col = 'rating'"
      ],
      "execution_count": 0,
      "outputs": []
    },
    {
      "cell_type": "code",
      "metadata": {
        "id": "1pBwOJ0A4MkM",
        "colab_type": "code",
        "colab": {}
      },
      "source": [
        "def data_scale(data, save_scaler=True, load_scaler=True):\n",
        "    scale_data = data.copy()\n",
        "\n",
        "    # Saving scaler for target column into the file\n",
        "    if save_scaler:\n",
        "        scaler = MinMaxScaler(feature_range=(-1, 1))\n",
        "        scaler.fit(scale_data[[target_col]])\n",
        "        with open(MODEL_DIR/'scaler.pkl', 'wb') as f:\n",
        "            pickle.dump(scaler, f, pickle.HIGHEST_PROTOCOL)\n",
        "\n",
        "    # Loading scaler for target column from the file\n",
        "    if load_scaler:\n",
        "        with open(MODEL_DIR/'scaler.pkl', 'rb') as f:\n",
        "            scaler = pickle.load(f)\n",
        "        scale_data[target_col] = scaler.transform(scale_data[[target_col]])\n",
        "\n",
        "    return scale_data, scaler"
      ],
      "execution_count": 0,
      "outputs": []
    },
    {
      "cell_type": "code",
      "metadata": {
        "id": "xywThLJ__Lq0",
        "colab_type": "code",
        "outputId": "9a0581a2-272a-4c42-ac2b-6b91bd314033",
        "colab": {
          "base_uri": "https://localhost:8080/",
          "height": 52
        }
      },
      "source": [
        "train_data[target_col].values[:10]"
      ],
      "execution_count": 0,
      "outputs": [
        {
          "output_type": "execute_result",
          "data": {
            "text/plain": [
              "array([ 1.438,  3.781,  5.562, -9.25 ,  3.125,  6.5  ,  2.531,  1.906,\n",
              "        0.031,  2.125])"
            ]
          },
          "metadata": {
            "tags": []
          },
          "execution_count": 35
        }
      ]
    },
    {
      "cell_type": "code",
      "metadata": {
        "id": "JyR-k82577OS",
        "colab_type": "code",
        "colab": {}
      },
      "source": [
        "train_data, scaler = data_scale(train_data)"
      ],
      "execution_count": 0,
      "outputs": []
    },
    {
      "cell_type": "code",
      "metadata": {
        "id": "ZKDotLV585Lk",
        "colab_type": "code",
        "colab": {}
      },
      "source": [
        "val_data, _ = data_scale(val_data, save_scaler=False)"
      ],
      "execution_count": 0,
      "outputs": []
    },
    {
      "cell_type": "code",
      "metadata": {
        "id": "mJfqSGa_9jjX",
        "colab_type": "code",
        "outputId": "03813eb6-a2bb-4dc4-f6c5-ab06e05c1e33",
        "colab": {
          "base_uri": "https://localhost:8080/",
          "height": 203
        }
      },
      "source": [
        "train_data.head()"
      ],
      "execution_count": 0,
      "outputs": [
        {
          "output_type": "execute_result",
          "data": {
            "text/html": [
              "<div>\n",
              "<style scoped>\n",
              "    .dataframe tbody tr th:only-of-type {\n",
              "        vertical-align: middle;\n",
              "    }\n",
              "\n",
              "    .dataframe tbody tr th {\n",
              "        vertical-align: top;\n",
              "    }\n",
              "\n",
              "    .dataframe thead th {\n",
              "        text-align: right;\n",
              "    }\n",
              "</style>\n",
              "<table border=\"1\" class=\"dataframe\">\n",
              "  <thead>\n",
              "    <tr style=\"text-align: right;\">\n",
              "      <th></th>\n",
              "      <th>userId</th>\n",
              "      <th>jokeId</th>\n",
              "      <th>rating</th>\n",
              "      <th>new_rating</th>\n",
              "    </tr>\n",
              "  </thead>\n",
              "  <tbody>\n",
              "    <tr>\n",
              "      <th>0</th>\n",
              "      <td>36445</td>\n",
              "      <td>19</td>\n",
              "      <td>0.1438</td>\n",
              "      <td>1.0</td>\n",
              "    </tr>\n",
              "    <tr>\n",
              "      <th>1</th>\n",
              "      <td>2727</td>\n",
              "      <td>13</td>\n",
              "      <td>0.3781</td>\n",
              "      <td>4.0</td>\n",
              "    </tr>\n",
              "    <tr>\n",
              "      <th>2</th>\n",
              "      <td>33219</td>\n",
              "      <td>53</td>\n",
              "      <td>0.5562</td>\n",
              "      <td>6.0</td>\n",
              "    </tr>\n",
              "    <tr>\n",
              "      <th>3</th>\n",
              "      <td>30926</td>\n",
              "      <td>141</td>\n",
              "      <td>-0.9250</td>\n",
              "      <td>-9.0</td>\n",
              "    </tr>\n",
              "    <tr>\n",
              "      <th>4</th>\n",
              "      <td>36586</td>\n",
              "      <td>104</td>\n",
              "      <td>0.3125</td>\n",
              "      <td>3.0</td>\n",
              "    </tr>\n",
              "  </tbody>\n",
              "</table>\n",
              "</div>"
            ],
            "text/plain": [
              "   userId  jokeId  rating  new_rating\n",
              "0   36445      19  0.1438         1.0\n",
              "1    2727      13  0.3781         4.0\n",
              "2   33219      53  0.5562         6.0\n",
              "3   30926     141 -0.9250        -9.0\n",
              "4   36586     104  0.3125         3.0"
            ]
          },
          "metadata": {
            "tags": []
          },
          "execution_count": 38
        }
      ]
    },
    {
      "cell_type": "code",
      "metadata": {
        "id": "Kt5GmLgh79Kd",
        "colab_type": "code",
        "outputId": "6ec812ff-39ad-4f43-c91d-91d07049102b",
        "colab": {
          "base_uri": "https://localhost:8080/",
          "height": 52
        }
      },
      "source": [
        "scaler.inverse_transform(train_data[[target_col]][:10]).flatten()"
      ],
      "execution_count": 0,
      "outputs": [
        {
          "output_type": "execute_result",
          "data": {
            "text/plain": [
              "array([ 1.438,  3.781,  5.562, -9.25 ,  3.125,  6.5  ,  2.531,  1.906,\n",
              "        0.031,  2.125])"
            ]
          },
          "metadata": {
            "tags": []
          },
          "execution_count": 39
        }
      ]
    },
    {
      "cell_type": "markdown",
      "metadata": {
        "id": "y1Jl1LwgEgHp",
        "colab_type": "text"
      },
      "source": [
        "### ***Dataset Creation***"
      ]
    },
    {
      "cell_type": "code",
      "metadata": {
        "id": "O98MSrtPEg0Y",
        "colab_type": "code",
        "colab": {}
      },
      "source": [
        "BATCH_SIZE = 4096\n",
        "AUTOTUNE = tf.data.experimental.AUTOTUNE"
      ],
      "execution_count": 0,
      "outputs": []
    },
    {
      "cell_type": "code",
      "metadata": {
        "id": "JNI5uPdMIvXL",
        "colab_type": "code",
        "outputId": "188d77d2-1548-4daa-809d-152002bd0412",
        "colab": {
          "base_uri": "https://localhost:8080/",
          "height": 140
        }
      },
      "source": [
        "print('Maximum User ID:')\n",
        "print(f'Train data - {train_data[user_col].max()}.')\n",
        "print(f'Validation data - {val_data[user_col].max()}.\\n')\n",
        "\n",
        "print('Maximum Joke ID:')\n",
        "print(f'Train data - {train_data[item_col].max()}.')\n",
        "print(f'Validation data - {val_data[item_col].max()}.')"
      ],
      "execution_count": 0,
      "outputs": [
        {
          "output_type": "stream",
          "text": [
            "Maximum User ID:\n",
            "Train data - 63978.\n",
            "Validation data - 63978.\n",
            "\n",
            "Maximum Joke ID:\n",
            "Train data - 150.\n",
            "Validation data - 150.\n"
          ],
          "name": "stdout"
        }
      ]
    },
    {
      "cell_type": "code",
      "metadata": {
        "id": "ZpNJkprEKty_",
        "colab_type": "code",
        "outputId": "0b427e57-9cfa-4182-f703-d19416df5cd4",
        "colab": {
          "base_uri": "https://localhost:8080/",
          "height": 35
        }
      },
      "source": [
        "n_users = int(round(max(train_data[user_col].max(), val_data[user_col].max()) * 1.05, -3))\n",
        "n_users"
      ],
      "execution_count": 0,
      "outputs": [
        {
          "output_type": "execute_result",
          "data": {
            "text/plain": [
              "67000"
            ]
          },
          "metadata": {
            "tags": []
          },
          "execution_count": 42
        }
      ]
    },
    {
      "cell_type": "code",
      "metadata": {
        "id": "8YSmMspUI6aT",
        "colab_type": "code",
        "outputId": "ffb0c697-afe1-4be2-87a3-df1c3446b548",
        "colab": {
          "base_uri": "https://localhost:8080/",
          "height": 35
        }
      },
      "source": [
        "n_items = int(round(max(train_data[item_col].max(), val_data[item_col].max()) * 1.1, -1))\n",
        "n_items"
      ],
      "execution_count": 0,
      "outputs": [
        {
          "output_type": "execute_result",
          "data": {
            "text/plain": [
              "160"
            ]
          },
          "metadata": {
            "tags": []
          },
          "execution_count": 43
        }
      ]
    },
    {
      "cell_type": "code",
      "metadata": {
        "id": "YX0_HJjTJGZM",
        "colab_type": "code",
        "colab": {}
      },
      "source": [
        "def make_dataset(data, train_set=True):\n",
        "    dataset = tf.data.Dataset.zip(\n",
        "        (\n",
        "            tf.data.Dataset.from_tensor_slices((data[user_col].values, data[item_col].values)),\n",
        "            tf.data.Dataset.from_tensor_slices(data[target_col].values),\n",
        "        )\n",
        "    )\n",
        "    if train_set:\n",
        "        dataset = dataset.cache()\n",
        "        dataset = dataset.repeat()\n",
        "        dataset = dataset.shuffle(buffer_size=len(data))\n",
        "    dataset = dataset.batch(batch_size=BATCH_SIZE)\n",
        "    dataset = dataset.prefetch(buffer_size=AUTOTUNE)\n",
        "    return dataset"
      ],
      "execution_count": 0,
      "outputs": []
    },
    {
      "cell_type": "code",
      "metadata": {
        "id": "z3dV9yEtRPNe",
        "colab_type": "code",
        "colab": {}
      },
      "source": [
        "train_dataset = make_dataset(train_data, train_set=True)\n",
        "train_dataset_steps = math.ceil(len(train_data) / BATCH_SIZE)"
      ],
      "execution_count": 0,
      "outputs": []
    },
    {
      "cell_type": "code",
      "metadata": {
        "id": "4bgZgA8uYMfY",
        "colab_type": "code",
        "colab": {}
      },
      "source": [
        "val_dataset = make_dataset(val_data, train_set=False)"
      ],
      "execution_count": 0,
      "outputs": []
    },
    {
      "cell_type": "code",
      "metadata": {
        "id": "MyciKmFgZEdi",
        "colab_type": "code",
        "outputId": "2b807639-0704-49bd-b581-5f7c3dfc3975",
        "colab": {
          "base_uri": "https://localhost:8080/",
          "height": 70
        }
      },
      "source": [
        "train_dataset.element_spec"
      ],
      "execution_count": 0,
      "outputs": [
        {
          "output_type": "execute_result",
          "data": {
            "text/plain": [
              "((TensorSpec(shape=(None,), dtype=tf.int64, name=None),\n",
              "  TensorSpec(shape=(None,), dtype=tf.int64, name=None)),\n",
              " TensorSpec(shape=(None,), dtype=tf.float64, name=None))"
            ]
          },
          "metadata": {
            "tags": []
          },
          "execution_count": 47
        }
      ]
    },
    {
      "cell_type": "code",
      "metadata": {
        "id": "Pe3n7nuEZG7C",
        "colab_type": "code",
        "outputId": "914e164f-3150-4252-d516-848b583f3f3a",
        "colab": {
          "base_uri": "https://localhost:8080/",
          "height": 90
        }
      },
      "source": [
        "for xs, ys in train_dataset.take(1):\n",
        "    print(xs[0].shape, xs[1].shape, ys.shape)\n",
        "    print(xs[0], xs[1])\n",
        "    print(ys[0])"
      ],
      "execution_count": 0,
      "outputs": [
        {
          "output_type": "stream",
          "text": [
            "(4096,) (4096,) (4096,)\n",
            "tf.Tensor([54629  1423 31368 ... 15621 21702 46127], shape=(4096,), dtype=int64) tf.Tensor([ 83  79  19 ...   8  19 129], shape=(4096,), dtype=int64)\n",
            "tf.Tensor(0.625, shape=(), dtype=float64)\n"
          ],
          "name": "stdout"
        }
      ]
    },
    {
      "cell_type": "markdown",
      "metadata": {
        "id": "W1LRdPqkC7ZB",
        "colab_type": "text"
      },
      "source": [
        "## ***Exploring Different Model Architectures***"
      ]
    },
    {
      "cell_type": "markdown",
      "metadata": {
        "id": "S2cytg6S1S3y",
        "colab_type": "text"
      },
      "source": [
        "### ***Utilities & Setup***"
      ]
    },
    {
      "cell_type": "code",
      "metadata": {
        "id": "HvYDhhOc1awU",
        "colab_type": "code",
        "colab": {}
      },
      "source": [
        "def plot_history(history, contains, skip=0):\n",
        "    _, ax = plt.subplots(1, len(contains), figsize=(20, 5))\n",
        "\n",
        "    df = pd.DataFrame(history.history)\n",
        "    for idx, item in enumerate(contains):\n",
        "        ax[idx].plot(df[list(df.filter(regex=item))].iloc[skip:])\n",
        "        ax[idx].set_title(item)"
      ],
      "execution_count": 0,
      "outputs": []
    },
    {
      "cell_type": "code",
      "metadata": {
        "id": "5axDjxUA6T-U",
        "colab_type": "code",
        "colab": {}
      },
      "source": [
        "def model_capture(model, name, history, save_model=True, load_model=True):\n",
        "    name = name.strip().replace(' ', '_').lower()\n",
        "    architecture_path = str(Path(MODEL_DIR/f'{name}_weights.h5'))\n",
        "    weights_path = str(Path(MODEL_DIR/f'{name}_arch.json'))\n",
        "    history_path = str(Path(MODEL_DIR/f'{name}_hist.csv'))\n",
        "\n",
        "    # Saving model weights and architecture into the files\n",
        "    if save_model:\n",
        "        model.save_weights(weights_path)\n",
        "        with open(architecture_path, \"w\") as f:\n",
        "            f.write(model.to_json())\n",
        "        \n",
        "        pd.DataFrame(history.history).to_csv(path_or_buf=history_path, index=False, header=True)\n",
        "    \n",
        "    # Loading model weights and architecture from the files\n",
        "    if load_model:\n",
        "        with open(architecture_path, \"r\") as f:\n",
        "            model = keras.models.model_from_json(f.read())\n",
        "        model.load_weights(weights_path)\n",
        "    \n",
        "    return model"
      ],
      "execution_count": 0,
      "outputs": []
    },
    {
      "cell_type": "code",
      "metadata": {
        "id": "ZwVmo14YGHF9",
        "colab_type": "code",
        "colab": {}
      },
      "source": [
        "def model_predictions(model, dataset):\n",
        "    labels = np.concatenate(\n",
        "        [y.numpy().reshape(-1, 1) for _, y in dataset]\n",
        "    )\n",
        "    predictions = model.predict(dataset)\n",
        "    return labels, predictions"
      ],
      "execution_count": 0,
      "outputs": []
    },
    {
      "cell_type": "code",
      "metadata": {
        "id": "sTl-bfLCbkL6",
        "colab_type": "code",
        "colab": {}
      },
      "source": [
        "def model_metric(model, dataset, scaler):\n",
        "    labels, predictions = model_predictions(model, dataset)\n",
        "\n",
        "    rmse = keras.metrics.RootMeanSquaredError()\n",
        "    rmse.update_state(scaler.inverse_transform(labels), scaler.inverse_transform(predictions))\n",
        "\n",
        "    return rmse.result().numpy()"
      ],
      "execution_count": 0,
      "outputs": []
    },
    {
      "cell_type": "code",
      "metadata": {
        "id": "P3_E2cXshjFD",
        "colab_type": "code",
        "colab": {}
      },
      "source": [
        "EPOCHS = 50\n",
        "PATIENCE = max(EPOCHS // 10, 3)"
      ],
      "execution_count": 0,
      "outputs": []
    },
    {
      "cell_type": "code",
      "metadata": {
        "id": "GLlQMLzZkAC4",
        "colab_type": "code",
        "colab": {}
      },
      "source": [
        "LEARN_RATE = 3e-4\n",
        "L1_REG = 1e-4\n",
        "L2_REG = 1e-6\n",
        "DROPOUT = 0.2"
      ],
      "execution_count": 0,
      "outputs": []
    },
    {
      "cell_type": "code",
      "metadata": {
        "id": "pIk8nlYkj7-W",
        "colab_type": "code",
        "colab": {}
      },
      "source": [
        "callbacks=[\n",
        "    keras.callbacks.ReduceLROnPlateau(factor=0.3, patience=PATIENCE),\n",
        "    keras.callbacks.EarlyStopping(patience=int(PATIENCE * 2.5), restore_best_weights=True),\n",
        "    keras.callbacks.TerminateOnNaN(),\n",
        "]"
      ],
      "execution_count": 0,
      "outputs": []
    },
    {
      "cell_type": "code",
      "metadata": {
        "id": "pJxV0huDBa8y",
        "colab_type": "code",
        "colab": {}
      },
      "source": [
        "# Preparing to capture models & metrics\n",
        "model_metrics = pd.DataFrame(columns=['RMSE', 'History'])"
      ],
      "execution_count": 0,
      "outputs": []
    },
    {
      "cell_type": "markdown",
      "metadata": {
        "id": "qqMKcgrpDZOB",
        "colab_type": "text"
      },
      "source": [
        "### ***Concat Model***"
      ]
    },
    {
      "cell_type": "code",
      "metadata": {
        "id": "p2rjfHW-DYXh",
        "colab_type": "code",
        "colab": {}
      },
      "source": [
        "def make_concat_model(\n",
        "    user_dim,\n",
        "    item_dim,\n",
        "    embedding_dim,\n",
        "    layer_size=256,\n",
        "    dropout_rate=0.0,\n",
        "    regularization=None,\n",
        "):\n",
        "    user_input = keras.layers.Input(shape=(1,))\n",
        "    user_embedding = keras.layers.Embedding(user_dim, embedding_dim, input_length=1,)(user_input)\n",
        "    user_embedding = keras.layers.Flatten()(user_embedding)\n",
        "    user_bias = keras.layers.Embedding(user_dim, 1, input_length=1,)(user_input)\n",
        "    user_bias = keras.layers.Flatten()(user_bias)\n",
        "\n",
        "    item_input = keras.layers.Input(shape=(1,))\n",
        "    item_embedding = keras.layers.Embedding(item_dim, embedding_dim, input_length=1,)(item_input)\n",
        "    item_embedding = keras.layers.Flatten()(item_embedding)\n",
        "    item_bias = keras.layers.Embedding(item_dim, 1, input_length=1,)(item_input)\n",
        "    item_bias = keras.layers.Flatten()(item_bias)\n",
        "\n",
        "    x = keras.layers.Concatenate()([user_embedding, user_bias, item_embedding, item_bias])\n",
        "    x = keras.layers.BatchNormalization()(x)\n",
        "    x = keras.layers.Dropout(dropout_rate)(x)\n",
        "    x = keras.layers.Dense(\n",
        "        layer_size,\n",
        "        kernel_initializer=keras.initializers.he_uniform(),\n",
        "        kernel_regularizer=regularization and keras.regularizers.l1_l2(*regularization),\n",
        "    )(x)\n",
        "    x = keras.layers.LeakyReLU()(x)\n",
        "    x = keras.layers.BatchNormalization()(x)\n",
        "    x = keras.layers.Dropout(dropout_rate)(x)\n",
        "    x = keras.layers.Dense(1)(x)\n",
        "    outputs = keras.layers.Activation(keras.activations.tanh)(x)\n",
        "\n",
        "    model = keras.Model(inputs=[user_input, item_input], outputs=outputs)\n",
        "    return model"
      ],
      "execution_count": 0,
      "outputs": []
    },
    {
      "cell_type": "code",
      "metadata": {
        "id": "q33Xpp-7egPI",
        "colab_type": "code",
        "colab": {}
      },
      "source": [
        "model = make_concat_model(\n",
        "    user_dim=n_users,\n",
        "    item_dim=n_items,\n",
        "    embedding_dim=128,\n",
        "    layer_size=256,\n",
        "    dropout_rate=DROPOUT,\n",
        "    regularization=(L1_REG, L2_REG),\n",
        ")"
      ],
      "execution_count": 0,
      "outputs": []
    },
    {
      "cell_type": "code",
      "metadata": {
        "id": "Ag6y7SB7fVBn",
        "colab_type": "code",
        "outputId": "eaf595a6-21fa-4abb-8f91-3a1d2aeffddc",
        "colab": {
          "base_uri": "https://localhost:8080/",
          "height": 879
        }
      },
      "source": [
        "model.summary()"
      ],
      "execution_count": 0,
      "outputs": [
        {
          "output_type": "stream",
          "text": [
            "Model: \"model\"\n",
            "__________________________________________________________________________________________________\n",
            "Layer (type)                    Output Shape         Param #     Connected to                     \n",
            "==================================================================================================\n",
            "input_1 (InputLayer)            [(None, 1)]          0                                            \n",
            "__________________________________________________________________________________________________\n",
            "input_2 (InputLayer)            [(None, 1)]          0                                            \n",
            "__________________________________________________________________________________________________\n",
            "embedding (Embedding)           (None, 1, 128)       8576000     input_1[0][0]                    \n",
            "__________________________________________________________________________________________________\n",
            "embedding_1 (Embedding)         (None, 1, 1)         67000       input_1[0][0]                    \n",
            "__________________________________________________________________________________________________\n",
            "embedding_2 (Embedding)         (None, 1, 128)       20480       input_2[0][0]                    \n",
            "__________________________________________________________________________________________________\n",
            "embedding_3 (Embedding)         (None, 1, 1)         160         input_2[0][0]                    \n",
            "__________________________________________________________________________________________________\n",
            "flatten (Flatten)               (None, 128)          0           embedding[0][0]                  \n",
            "__________________________________________________________________________________________________\n",
            "flatten_1 (Flatten)             (None, 1)            0           embedding_1[0][0]                \n",
            "__________________________________________________________________________________________________\n",
            "flatten_2 (Flatten)             (None, 128)          0           embedding_2[0][0]                \n",
            "__________________________________________________________________________________________________\n",
            "flatten_3 (Flatten)             (None, 1)            0           embedding_3[0][0]                \n",
            "__________________________________________________________________________________________________\n",
            "concatenate (Concatenate)       (None, 258)          0           flatten[0][0]                    \n",
            "                                                                 flatten_1[0][0]                  \n",
            "                                                                 flatten_2[0][0]                  \n",
            "                                                                 flatten_3[0][0]                  \n",
            "__________________________________________________________________________________________________\n",
            "batch_normalization (BatchNorma (None, 258)          1032        concatenate[0][0]                \n",
            "__________________________________________________________________________________________________\n",
            "dropout (Dropout)               (None, 258)          0           batch_normalization[0][0]        \n",
            "__________________________________________________________________________________________________\n",
            "dense (Dense)                   (None, 256)          66304       dropout[0][0]                    \n",
            "__________________________________________________________________________________________________\n",
            "leaky_re_lu (LeakyReLU)         (None, 256)          0           dense[0][0]                      \n",
            "__________________________________________________________________________________________________\n",
            "batch_normalization_1 (BatchNor (None, 256)          1024        leaky_re_lu[0][0]                \n",
            "__________________________________________________________________________________________________\n",
            "dropout_1 (Dropout)             (None, 256)          0           batch_normalization_1[0][0]      \n",
            "__________________________________________________________________________________________________\n",
            "dense_1 (Dense)                 (None, 1)            257         dropout_1[0][0]                  \n",
            "__________________________________________________________________________________________________\n",
            "activation (Activation)         (None, 1)            0           dense_1[0][0]                    \n",
            "==================================================================================================\n",
            "Total params: 8,732,257\n",
            "Trainable params: 8,731,229\n",
            "Non-trainable params: 1,028\n",
            "__________________________________________________________________________________________________\n"
          ],
          "name": "stdout"
        }
      ]
    },
    {
      "cell_type": "code",
      "metadata": {
        "id": "mDmKqJJ1foDX",
        "colab_type": "code",
        "colab": {}
      },
      "source": [
        "model.compile(\n",
        "    optimizer=keras.optimizers.Adam(lr=LEARN_RATE),\n",
        "    loss=keras.losses.mse,\n",
        "    metrics=[keras.metrics.mae, keras.metrics.RootMeanSquaredError()],\n",
        ")"
      ],
      "execution_count": 0,
      "outputs": []
    },
    {
      "cell_type": "code",
      "metadata": {
        "id": "vEVsR07Gidxz",
        "colab_type": "code",
        "outputId": "3a275af5-a4da-45e2-c1d9-cba5cfb56bb7",
        "colab": {
          "base_uri": "https://localhost:8080/",
          "height": 1000
        }
      },
      "source": [
        "model_history = model.fit(\n",
        "    train_dataset,\n",
        "    steps_per_epoch=train_dataset_steps,\n",
        "    validation_data=val_dataset,\n",
        "    epochs=EPOCHS,\n",
        "    callbacks=callbacks,\n",
        "    verbose=2,\n",
        ")"
      ],
      "execution_count": 0,
      "outputs": [
        {
          "output_type": "stream",
          "text": [
            "Train for 388 steps, validate for 22 steps\n",
            "Epoch 1/50\n",
            "388/388 - 48s - loss: 0.8195 - mean_absolute_error: 0.4854 - root_mean_squared_error: 0.6167 - val_loss: 0.6081 - val_mean_absolute_error: 0.3980 - val_root_mean_squared_error: 0.4879\n",
            "Epoch 2/50\n",
            "388/388 - 44s - loss: 0.5077 - mean_absolute_error: 0.3558 - root_mean_squared_error: 0.4515 - val_loss: 0.4287 - val_mean_absolute_error: 0.3437 - val_root_mean_squared_error: 0.4333\n",
            "Epoch 3/50\n",
            "388/388 - 44s - loss: 0.3682 - mean_absolute_error: 0.3317 - root_mean_squared_error: 0.4260 - val_loss: 0.3190 - val_mean_absolute_error: 0.3324 - val_root_mean_squared_error: 0.4262\n",
            "Epoch 4/50\n",
            "388/388 - 44s - loss: 0.2750 - mean_absolute_error: 0.3251 - root_mean_squared_error: 0.4200 - val_loss: 0.2455 - val_mean_absolute_error: 0.3313 - val_root_mean_squared_error: 0.4248\n",
            "Epoch 5/50\n",
            "388/388 - 44s - loss: 0.2154 - mean_absolute_error: 0.3208 - root_mean_squared_error: 0.4159 - val_loss: 0.2041 - val_mean_absolute_error: 0.3295 - val_root_mean_squared_error: 0.4234\n",
            "Epoch 6/50\n",
            "388/388 - 45s - loss: 0.1840 - mean_absolute_error: 0.3154 - root_mean_squared_error: 0.4109 - val_loss: 0.1843 - val_mean_absolute_error: 0.3233 - val_root_mean_squared_error: 0.4192\n",
            "Epoch 7/50\n",
            "388/388 - 45s - loss: 0.1714 - mean_absolute_error: 0.3106 - root_mean_squared_error: 0.4066 - val_loss: 0.1785 - val_mean_absolute_error: 0.3185 - val_root_mean_squared_error: 0.4169\n",
            "Epoch 8/50\n",
            "388/388 - 45s - loss: 0.1671 - mean_absolute_error: 0.3074 - root_mean_squared_error: 0.4035 - val_loss: 0.1776 - val_mean_absolute_error: 0.3165 - val_root_mean_squared_error: 0.4167\n",
            "Epoch 9/50\n",
            "388/388 - 44s - loss: 0.1642 - mean_absolute_error: 0.3046 - root_mean_squared_error: 0.4005 - val_loss: 0.1765 - val_mean_absolute_error: 0.3161 - val_root_mean_squared_error: 0.4156\n",
            "Epoch 10/50\n",
            "388/388 - 44s - loss: 0.1626 - mean_absolute_error: 0.3025 - root_mean_squared_error: 0.3987 - val_loss: 0.1764 - val_mean_absolute_error: 0.3150 - val_root_mean_squared_error: 0.4156\n",
            "Epoch 11/50\n",
            "388/388 - 44s - loss: 0.1615 - mean_absolute_error: 0.3012 - root_mean_squared_error: 0.3974 - val_loss: 0.1764 - val_mean_absolute_error: 0.3122 - val_root_mean_squared_error: 0.4155\n",
            "Epoch 12/50\n",
            "388/388 - 44s - loss: 0.1596 - mean_absolute_error: 0.2989 - root_mean_squared_error: 0.3949 - val_loss: 0.1763 - val_mean_absolute_error: 0.3148 - val_root_mean_squared_error: 0.4156\n",
            "Epoch 13/50\n",
            "388/388 - 44s - loss: 0.1584 - mean_absolute_error: 0.2972 - root_mean_squared_error: 0.3934 - val_loss: 0.1759 - val_mean_absolute_error: 0.3152 - val_root_mean_squared_error: 0.4149\n",
            "Epoch 14/50\n",
            "388/388 - 44s - loss: 0.1566 - mean_absolute_error: 0.2949 - root_mean_squared_error: 0.3910 - val_loss: 0.1762 - val_mean_absolute_error: 0.3101 - val_root_mean_squared_error: 0.4151\n",
            "Epoch 15/50\n",
            "388/388 - 44s - loss: 0.1557 - mean_absolute_error: 0.2938 - root_mean_squared_error: 0.3898 - val_loss: 0.1758 - val_mean_absolute_error: 0.3156 - val_root_mean_squared_error: 0.4150\n",
            "Epoch 16/50\n",
            "388/388 - 44s - loss: 0.1546 - mean_absolute_error: 0.2927 - root_mean_squared_error: 0.3886 - val_loss: 0.1757 - val_mean_absolute_error: 0.3119 - val_root_mean_squared_error: 0.4147\n",
            "Epoch 17/50\n",
            "388/388 - 44s - loss: 0.1530 - mean_absolute_error: 0.2908 - root_mean_squared_error: 0.3864 - val_loss: 0.1760 - val_mean_absolute_error: 0.3116 - val_root_mean_squared_error: 0.4149\n",
            "Epoch 18/50\n",
            "388/388 - 44s - loss: 0.1525 - mean_absolute_error: 0.2899 - root_mean_squared_error: 0.3856 - val_loss: 0.1761 - val_mean_absolute_error: 0.3099 - val_root_mean_squared_error: 0.4147\n",
            "Epoch 19/50\n",
            "388/388 - 44s - loss: 0.1512 - mean_absolute_error: 0.2883 - root_mean_squared_error: 0.3839 - val_loss: 0.1769 - val_mean_absolute_error: 0.3092 - val_root_mean_squared_error: 0.4158\n",
            "Epoch 20/50\n",
            "388/388 - 44s - loss: 0.1501 - mean_absolute_error: 0.2870 - root_mean_squared_error: 0.3823 - val_loss: 0.1761 - val_mean_absolute_error: 0.3098 - val_root_mean_squared_error: 0.4150\n",
            "Epoch 21/50\n",
            "388/388 - 44s - loss: 0.1493 - mean_absolute_error: 0.2858 - root_mean_squared_error: 0.3812 - val_loss: 0.1757 - val_mean_absolute_error: 0.3104 - val_root_mean_squared_error: 0.4144\n",
            "Epoch 22/50\n",
            "388/388 - 43s - loss: 0.1455 - mean_absolute_error: 0.2820 - root_mean_squared_error: 0.3772 - val_loss: 0.1743 - val_mean_absolute_error: 0.3087 - val_root_mean_squared_error: 0.4138\n",
            "Epoch 23/50\n",
            "388/388 - 44s - loss: 0.1433 - mean_absolute_error: 0.2799 - root_mean_squared_error: 0.3747 - val_loss: 0.1744 - val_mean_absolute_error: 0.3083 - val_root_mean_squared_error: 0.4141\n",
            "Epoch 24/50\n",
            "388/388 - 44s - loss: 0.1424 - mean_absolute_error: 0.2788 - root_mean_squared_error: 0.3737 - val_loss: 0.1752 - val_mean_absolute_error: 0.3111 - val_root_mean_squared_error: 0.4152\n",
            "Epoch 25/50\n",
            "388/388 - 44s - loss: 0.1423 - mean_absolute_error: 0.2788 - root_mean_squared_error: 0.3737 - val_loss: 0.1744 - val_mean_absolute_error: 0.3088 - val_root_mean_squared_error: 0.4144\n",
            "Epoch 26/50\n",
            "388/388 - 44s - loss: 0.1417 - mean_absolute_error: 0.2782 - root_mean_squared_error: 0.3729 - val_loss: 0.1748 - val_mean_absolute_error: 0.3077 - val_root_mean_squared_error: 0.4149\n",
            "Epoch 27/50\n",
            "388/388 - 44s - loss: 0.1411 - mean_absolute_error: 0.2774 - root_mean_squared_error: 0.3722 - val_loss: 0.1747 - val_mean_absolute_error: 0.3079 - val_root_mean_squared_error: 0.4149\n",
            "Epoch 28/50\n",
            "388/388 - 44s - loss: 0.1399 - mean_absolute_error: 0.2763 - root_mean_squared_error: 0.3709 - val_loss: 0.1740 - val_mean_absolute_error: 0.3077 - val_root_mean_squared_error: 0.4143\n",
            "Epoch 29/50\n",
            "388/388 - 43s - loss: 0.1390 - mean_absolute_error: 0.2754 - root_mean_squared_error: 0.3698 - val_loss: 0.1739 - val_mean_absolute_error: 0.3082 - val_root_mean_squared_error: 0.4143\n",
            "Epoch 30/50\n",
            "388/388 - 44s - loss: 0.1386 - mean_absolute_error: 0.2749 - root_mean_squared_error: 0.3692 - val_loss: 0.1741 - val_mean_absolute_error: 0.3077 - val_root_mean_squared_error: 0.4145\n",
            "Epoch 31/50\n",
            "388/388 - 44s - loss: 0.1385 - mean_absolute_error: 0.2749 - root_mean_squared_error: 0.3692 - val_loss: 0.1738 - val_mean_absolute_error: 0.3083 - val_root_mean_squared_error: 0.4143\n",
            "Epoch 32/50\n",
            "388/388 - 43s - loss: 0.1383 - mean_absolute_error: 0.2745 - root_mean_squared_error: 0.3690 - val_loss: 0.1740 - val_mean_absolute_error: 0.3071 - val_root_mean_squared_error: 0.4145\n",
            "Epoch 33/50\n",
            "388/388 - 43s - loss: 0.1382 - mean_absolute_error: 0.2745 - root_mean_squared_error: 0.3689 - val_loss: 0.1740 - val_mean_absolute_error: 0.3076 - val_root_mean_squared_error: 0.4146\n",
            "Epoch 34/50\n",
            "388/388 - 43s - loss: 0.1381 - mean_absolute_error: 0.2745 - root_mean_squared_error: 0.3689 - val_loss: 0.1743 - val_mean_absolute_error: 0.3074 - val_root_mean_squared_error: 0.4150\n",
            "Epoch 35/50\n",
            "388/388 - 43s - loss: 0.1379 - mean_absolute_error: 0.2744 - root_mean_squared_error: 0.3687 - val_loss: 0.1739 - val_mean_absolute_error: 0.3071 - val_root_mean_squared_error: 0.4146\n",
            "Epoch 36/50\n",
            "388/388 - 43s - loss: 0.1379 - mean_absolute_error: 0.2743 - root_mean_squared_error: 0.3687 - val_loss: 0.1738 - val_mean_absolute_error: 0.3069 - val_root_mean_squared_error: 0.4145\n",
            "Epoch 37/50\n",
            "388/388 - 43s - loss: 0.1369 - mean_absolute_error: 0.2732 - root_mean_squared_error: 0.3674 - val_loss: 0.1740 - val_mean_absolute_error: 0.3070 - val_root_mean_squared_error: 0.4148\n",
            "Epoch 38/50\n",
            "388/388 - 43s - loss: 0.1370 - mean_absolute_error: 0.2734 - root_mean_squared_error: 0.3676 - val_loss: 0.1738 - val_mean_absolute_error: 0.3075 - val_root_mean_squared_error: 0.4146\n",
            "Epoch 39/50\n",
            "388/388 - 44s - loss: 0.1368 - mean_absolute_error: 0.2732 - root_mean_squared_error: 0.3673 - val_loss: 0.1739 - val_mean_absolute_error: 0.3071 - val_root_mean_squared_error: 0.4147\n",
            "Epoch 40/50\n",
            "388/388 - 44s - loss: 0.1369 - mean_absolute_error: 0.2732 - root_mean_squared_error: 0.3675 - val_loss: 0.1739 - val_mean_absolute_error: 0.3073 - val_root_mean_squared_error: 0.4147\n",
            "Epoch 41/50\n",
            "388/388 - 44s - loss: 0.1370 - mean_absolute_error: 0.2734 - root_mean_squared_error: 0.3676 - val_loss: 0.1739 - val_mean_absolute_error: 0.3072 - val_root_mean_squared_error: 0.4148\n",
            "Epoch 42/50\n",
            "388/388 - 44s - loss: 0.1365 - mean_absolute_error: 0.2729 - root_mean_squared_error: 0.3670 - val_loss: 0.1739 - val_mean_absolute_error: 0.3072 - val_root_mean_squared_error: 0.4148\n",
            "Epoch 43/50\n",
            "388/388 - 44s - loss: 0.1368 - mean_absolute_error: 0.2731 - root_mean_squared_error: 0.3674 - val_loss: 0.1739 - val_mean_absolute_error: 0.3073 - val_root_mean_squared_error: 0.4148\n",
            "Epoch 44/50\n",
            "388/388 - 44s - loss: 0.1365 - mean_absolute_error: 0.2727 - root_mean_squared_error: 0.3670 - val_loss: 0.1738 - val_mean_absolute_error: 0.3073 - val_root_mean_squared_error: 0.4147\n",
            "Epoch 45/50\n",
            "388/388 - 44s - loss: 0.1367 - mean_absolute_error: 0.2731 - root_mean_squared_error: 0.3673 - val_loss: 0.1738 - val_mean_absolute_error: 0.3071 - val_root_mean_squared_error: 0.4147\n",
            "Epoch 46/50\n",
            "388/388 - 44s - loss: 0.1363 - mean_absolute_error: 0.2727 - root_mean_squared_error: 0.3668 - val_loss: 0.1739 - val_mean_absolute_error: 0.3071 - val_root_mean_squared_error: 0.4148\n",
            "Epoch 47/50\n",
            "388/388 - 44s - loss: 0.1364 - mean_absolute_error: 0.2727 - root_mean_squared_error: 0.3670 - val_loss: 0.1738 - val_mean_absolute_error: 0.3071 - val_root_mean_squared_error: 0.4148\n",
            "Epoch 48/50\n",
            "388/388 - 44s - loss: 0.1363 - mean_absolute_error: 0.2727 - root_mean_squared_error: 0.3667 - val_loss: 0.1739 - val_mean_absolute_error: 0.3071 - val_root_mean_squared_error: 0.4148\n",
            "Epoch 49/50\n",
            "388/388 - 44s - loss: 0.1364 - mean_absolute_error: 0.2728 - root_mean_squared_error: 0.3670 - val_loss: 0.1738 - val_mean_absolute_error: 0.3071 - val_root_mean_squared_error: 0.4148\n",
            "Epoch 50/50\n",
            "388/388 - 44s - loss: 0.1360 - mean_absolute_error: 0.2723 - root_mean_squared_error: 0.3664 - val_loss: 0.1739 - val_mean_absolute_error: 0.3072 - val_root_mean_squared_error: 0.4149\n"
          ],
          "name": "stdout"
        }
      ]
    },
    {
      "cell_type": "code",
      "metadata": {
        "id": "LIUJOJ7EklJM",
        "colab_type": "code",
        "outputId": "ac430c3d-4a53-47f4-89b6-c63270a4ff3b",
        "colab": {
          "base_uri": "https://localhost:8080/",
          "height": 358
        }
      },
      "source": [
        "plot_history(model_history, ['root_mean_squared', 'loss', 'lr'])"
      ],
      "execution_count": 0,
      "outputs": [
        {
          "output_type": "display_data",
          "data": {
            "image/png": "[encoded data removed]",
            "text/plain": [
              "<Figure size 1440x360 with 3 Axes>"
            ]
          },
          "metadata": {
            "tags": []
          }
        }
      ]
    },
    {
      "cell_type": "code",
      "metadata": {
        "id": "LoI2eGzQ7RxZ",
        "colab_type": "code",
        "outputId": "93f0e7bd-7f0a-4187-81c6-c496fafe1fdc",
        "colab": {
          "base_uri": "https://localhost:8080/",
          "height": 52
        }
      },
      "source": [
        "model.evaluate(val_dataset)"
      ],
      "execution_count": 0,
      "outputs": [
        {
          "output_type": "stream",
          "text": [
            "22/22 [==============================] - 0s 19ms/step - loss: 0.1738 - mean_absolute_error: 0.3075 - root_mean_squared_error: 0.4146\n"
          ],
          "name": "stdout"
        },
        {
          "output_type": "execute_result",
          "data": {
            "text/plain": [
              "[0.17377463321794162, 0.307454, 0.41456014]"
            ]
          },
          "metadata": {
            "tags": []
          },
          "execution_count": 63
        }
      ]
    },
    {
      "cell_type": "code",
      "metadata": {
        "id": "B462gvKRTfkh",
        "colab_type": "code",
        "colab": {}
      },
      "source": [
        "model_name = 'Concat'\n",
        "model_hist_file = f'{model_name.strip().replace(\" \", \"_\").lower()}_hist.csv'\n",
        "loaded_model = model_capture(model, model_name, model_history)"
      ],
      "execution_count": 0,
      "outputs": []
    },
    {
      "cell_type": "code",
      "metadata": {
        "id": "sllz8JgY_30H",
        "colab_type": "code",
        "colab": {}
      },
      "source": [
        "loaded_model.compile(\n",
        "    optimizer=keras.optimizers.Adam(lr=LEARN_RATE),\n",
        "    loss=keras.losses.mse,\n",
        "    metrics=[keras.metrics.mae, keras.metrics.RootMeanSquaredError()],\n",
        ")"
      ],
      "execution_count": 0,
      "outputs": []
    },
    {
      "cell_type": "code",
      "metadata": {
        "id": "s-gxBNpA7IHn",
        "colab_type": "code",
        "outputId": "b58dc2b5-18ae-47bd-94cb-324603e9d10b",
        "colab": {
          "base_uri": "https://localhost:8080/",
          "height": 52
        }
      },
      "source": [
        "loaded_model.evaluate(val_dataset)"
      ],
      "execution_count": 0,
      "outputs": [
        {
          "output_type": "stream",
          "text": [
            "22/22 [==============================] - 1s 26ms/step - loss: 0.1738 - mean_absolute_error: 0.3075 - root_mean_squared_error: 0.4146\n"
          ],
          "name": "stdout"
        },
        {
          "output_type": "execute_result",
          "data": {
            "text/plain": [
              "[0.17377463321794162, 0.307454, 0.41456014]"
            ]
          },
          "metadata": {
            "tags": []
          },
          "execution_count": 66
        }
      ]
    },
    {
      "cell_type": "code",
      "metadata": {
        "id": "cEAELtvx3h3J",
        "colab_type": "code",
        "colab": {}
      },
      "source": [
        "del model"
      ],
      "execution_count": 0,
      "outputs": []
    },
    {
      "cell_type": "code",
      "metadata": {
        "id": "7ncHn473or8W",
        "colab_type": "code",
        "outputId": "5f70040f-07ff-430d-ee27-b8441571bf98",
        "colab": {
          "base_uri": "https://localhost:8080/",
          "height": 35
        }
      },
      "source": [
        "model_rmse = model_metric(loaded_model, val_dataset, scaler)\n",
        "model_rmse"
      ],
      "execution_count": 0,
      "outputs": [
        {
          "output_type": "execute_result",
          "data": {
            "text/plain": [
              "4.1456017"
            ]
          },
          "metadata": {
            "tags": []
          },
          "execution_count": 68
        }
      ]
    },
    {
      "cell_type": "code",
      "metadata": {
        "id": "-oF5BvuI-w9X",
        "colab_type": "code",
        "colab": {}
      },
      "source": [
        "model_metrics.loc[f'{model_name} model', 'RMSE'] = model_rmse\n",
        "model_metrics.loc[f'{model_name} model', 'History'] = model_hist_file"
      ],
      "execution_count": 0,
      "outputs": []
    },
    {
      "cell_type": "markdown",
      "metadata": {
        "id": "LnHk9s4J3hbE",
        "colab_type": "text"
      },
      "source": [
        "### ***Dot Model***"
      ]
    },
    {
      "cell_type": "code",
      "metadata": {
        "id": "Kdhmdh7Q3sVe",
        "colab_type": "code",
        "colab": {}
      },
      "source": [
        "def make_dot_model(\n",
        "    user_dim,\n",
        "    item_dim,\n",
        "    embedding_dim,\n",
        "):\n",
        "    user_input = keras.layers.Input(shape=(1,))\n",
        "    user_embedding = keras.layers.Embedding(user_dim, embedding_dim, input_length=1,)(user_input)\n",
        "    user_embedding = keras.layers.Flatten()(user_embedding)\n",
        "    user_bias = keras.layers.Embedding(user_dim, 1, input_length=1,)(user_input)\n",
        "    user_bias = keras.layers.Flatten()(user_bias)\n",
        "\n",
        "    item_input = keras.layers.Input(shape=(1,))\n",
        "    item_embedding = keras.layers.Embedding(item_dim, embedding_dim, input_length=1,)(item_input)\n",
        "    item_embedding = keras.layers.Flatten()(item_embedding)\n",
        "    item_bias = keras.layers.Embedding(item_dim, 1, input_length=1,)(item_input)\n",
        "    item_bias = keras.layers.Flatten()(item_bias)\n",
        "\n",
        "    dot_product = keras.layers.Dot(axes=1)([user_embedding, item_embedding])\n",
        "    logits = keras.layers.Add()([dot_product, user_bias, item_bias])\n",
        "    outputs = keras.layers.Activation(keras.activations.tanh)(logits)\n",
        "\n",
        "    model = keras.Model(inputs=[user_input, item_input], outputs=outputs)\n",
        "    return model"
      ],
      "execution_count": 0,
      "outputs": []
    },
    {
      "cell_type": "code",
      "metadata": {
        "id": "f0ZX1n0T4huX",
        "colab_type": "code",
        "colab": {}
      },
      "source": [
        "model = make_dot_model(\n",
        "    user_dim=n_users,\n",
        "    item_dim=n_items,\n",
        "    embedding_dim=128,\n",
        ")"
      ],
      "execution_count": 0,
      "outputs": []
    },
    {
      "cell_type": "code",
      "metadata": {
        "id": "H2mp3IB641_1",
        "colab_type": "code",
        "outputId": "db676357-fddf-42dd-c714-e88c53278891",
        "colab": {
          "base_uri": "https://localhost:8080/",
          "height": 668
        }
      },
      "source": [
        "model.summary()"
      ],
      "execution_count": 0,
      "outputs": [
        {
          "output_type": "stream",
          "text": [
            "Model: \"model_1\"\n",
            "__________________________________________________________________________________________________\n",
            "Layer (type)                    Output Shape         Param #     Connected to                     \n",
            "==================================================================================================\n",
            "input_3 (InputLayer)            [(None, 1)]          0                                            \n",
            "__________________________________________________________________________________________________\n",
            "input_4 (InputLayer)            [(None, 1)]          0                                            \n",
            "__________________________________________________________________________________________________\n",
            "embedding_4 (Embedding)         (None, 1, 128)       8576000     input_3[0][0]                    \n",
            "__________________________________________________________________________________________________\n",
            "embedding_6 (Embedding)         (None, 1, 128)       20480       input_4[0][0]                    \n",
            "__________________________________________________________________________________________________\n",
            "flatten_4 (Flatten)             (None, 128)          0           embedding_4[0][0]                \n",
            "__________________________________________________________________________________________________\n",
            "flatten_6 (Flatten)             (None, 128)          0           embedding_6[0][0]                \n",
            "__________________________________________________________________________________________________\n",
            "embedding_5 (Embedding)         (None, 1, 1)         67000       input_3[0][0]                    \n",
            "__________________________________________________________________________________________________\n",
            "embedding_7 (Embedding)         (None, 1, 1)         160         input_4[0][0]                    \n",
            "__________________________________________________________________________________________________\n",
            "dot (Dot)                       (None, 1)            0           flatten_4[0][0]                  \n",
            "                                                                 flatten_6[0][0]                  \n",
            "__________________________________________________________________________________________________\n",
            "flatten_5 (Flatten)             (None, 1)            0           embedding_5[0][0]                \n",
            "__________________________________________________________________________________________________\n",
            "flatten_7 (Flatten)             (None, 1)            0           embedding_7[0][0]                \n",
            "__________________________________________________________________________________________________\n",
            "add (Add)                       (None, 1)            0           dot[0][0]                        \n",
            "                                                                 flatten_5[0][0]                  \n",
            "                                                                 flatten_7[0][0]                  \n",
            "__________________________________________________________________________________________________\n",
            "activation_1 (Activation)       (None, 1)            0           add[0][0]                        \n",
            "==================================================================================================\n",
            "Total params: 8,663,640\n",
            "Trainable params: 8,663,640\n",
            "Non-trainable params: 0\n",
            "__________________________________________________________________________________________________\n"
          ],
          "name": "stdout"
        }
      ]
    },
    {
      "cell_type": "code",
      "metadata": {
        "id": "I47t2bj-46u-",
        "colab_type": "code",
        "colab": {}
      },
      "source": [
        "model.compile(\n",
        "    optimizer=keras.optimizers.Adam(lr=LEARN_RATE),\n",
        "    loss=keras.losses.mse,\n",
        "    metrics=[keras.metrics.mae, keras.metrics.RootMeanSquaredError()],\n",
        ")"
      ],
      "execution_count": 0,
      "outputs": []
    },
    {
      "cell_type": "code",
      "metadata": {
        "id": "NzU4xUHa46gn",
        "colab_type": "code",
        "outputId": "e1d874c4-df34-43a1-8f02-e53a2df33b73",
        "colab": {
          "base_uri": "https://localhost:8080/",
          "height": 688
        }
      },
      "source": [
        "model_history = model.fit(\n",
        "    train_dataset,\n",
        "    steps_per_epoch=train_dataset_steps,\n",
        "    validation_data=val_dataset,\n",
        "    epochs=EPOCHS,\n",
        "    callbacks=callbacks,\n",
        "    verbose=2,\n",
        ")"
      ],
      "execution_count": 0,
      "outputs": [
        {
          "output_type": "stream",
          "text": [
            "Train for 388 steps, validate for 22 steps\n",
            "Epoch 1/50\n",
            "388/388 - 48s - loss: 0.2850 - mean_absolute_error: 0.4487 - root_mean_squared_error: 0.5339 - val_loss: 0.2600 - val_mean_absolute_error: 0.4252 - val_root_mean_squared_error: 0.5099\n",
            "Epoch 2/50\n",
            "388/388 - 43s - loss: 0.2147 - mean_absolute_error: 0.3778 - root_mean_squared_error: 0.4634 - val_loss: 0.1910 - val_mean_absolute_error: 0.3486 - val_root_mean_squared_error: 0.4369\n",
            "Epoch 3/50\n",
            "388/388 - 43s - loss: 0.1633 - mean_absolute_error: 0.3156 - root_mean_squared_error: 0.4041 - val_loss: 0.1753 - val_mean_absolute_error: 0.3246 - val_root_mean_squared_error: 0.4187\n",
            "Epoch 4/50\n",
            "388/388 - 43s - loss: 0.1403 - mean_absolute_error: 0.2852 - root_mean_squared_error: 0.3746 - val_loss: 0.1702 - val_mean_absolute_error: 0.3158 - val_root_mean_squared_error: 0.4125\n",
            "Epoch 5/50\n",
            "388/388 - 43s - loss: 0.1217 - mean_absolute_error: 0.2602 - root_mean_squared_error: 0.3489 - val_loss: 0.1680 - val_mean_absolute_error: 0.3120 - val_root_mean_squared_error: 0.4097\n",
            "Epoch 6/50\n",
            "388/388 - 43s - loss: 0.1043 - mean_absolute_error: 0.2354 - root_mean_squared_error: 0.3229 - val_loss: 0.1672 - val_mean_absolute_error: 0.3103 - val_root_mean_squared_error: 0.4088\n",
            "Epoch 7/50\n",
            "388/388 - 43s - loss: 0.0900 - mean_absolute_error: 0.2133 - root_mean_squared_error: 0.3000 - val_loss: 0.1673 - val_mean_absolute_error: 0.3099 - val_root_mean_squared_error: 0.4089\n",
            "Epoch 8/50\n",
            "388/388 - 43s - loss: 0.0784 - mean_absolute_error: 0.1944 - root_mean_squared_error: 0.2800 - val_loss: 0.1678 - val_mean_absolute_error: 0.3099 - val_root_mean_squared_error: 0.4095\n",
            "Epoch 9/50\n",
            "388/388 - 43s - loss: 0.0683 - mean_absolute_error: 0.1778 - root_mean_squared_error: 0.2614 - val_loss: 0.1690 - val_mean_absolute_error: 0.3106 - val_root_mean_squared_error: 0.4110\n",
            "Epoch 10/50\n",
            "388/388 - 43s - loss: 0.0593 - mean_absolute_error: 0.1623 - root_mean_squared_error: 0.2434 - val_loss: 0.1705 - val_mean_absolute_error: 0.3118 - val_root_mean_squared_error: 0.4128\n",
            "Epoch 11/50\n",
            "388/388 - 43s - loss: 0.0510 - mean_absolute_error: 0.1481 - root_mean_squared_error: 0.2258 - val_loss: 0.1722 - val_mean_absolute_error: 0.3131 - val_root_mean_squared_error: 0.4148\n",
            "Epoch 12/50\n",
            "388/388 - 43s - loss: 0.0455 - mean_absolute_error: 0.1374 - root_mean_squared_error: 0.2134 - val_loss: 0.1726 - val_mean_absolute_error: 0.3133 - val_root_mean_squared_error: 0.4153\n",
            "Epoch 13/50\n",
            "388/388 - 43s - loss: 0.0422 - mean_absolute_error: 0.1306 - root_mean_squared_error: 0.2055 - val_loss: 0.1731 - val_mean_absolute_error: 0.3137 - val_root_mean_squared_error: 0.4159\n",
            "Epoch 14/50\n",
            "388/388 - 43s - loss: 0.0399 - mean_absolute_error: 0.1257 - root_mean_squared_error: 0.1998 - val_loss: 0.1737 - val_mean_absolute_error: 0.3141 - val_root_mean_squared_error: 0.4166\n",
            "Epoch 15/50\n",
            "388/388 - 43s - loss: 0.0379 - mean_absolute_error: 0.1212 - root_mean_squared_error: 0.1946 - val_loss: 0.1743 - val_mean_absolute_error: 0.3146 - val_root_mean_squared_error: 0.4174\n",
            "Epoch 16/50\n",
            "388/388 - 43s - loss: 0.0363 - mean_absolute_error: 0.1175 - root_mean_squared_error: 0.1905 - val_loss: 0.1750 - val_mean_absolute_error: 0.3151 - val_root_mean_squared_error: 0.4182\n",
            "Epoch 17/50\n",
            "388/388 - 43s - loss: 0.0347 - mean_absolute_error: 0.1141 - root_mean_squared_error: 0.1862 - val_loss: 0.1752 - val_mean_absolute_error: 0.3152 - val_root_mean_squared_error: 0.4184\n",
            "Epoch 18/50\n",
            "388/388 - 43s - loss: 0.0340 - mean_absolute_error: 0.1124 - root_mean_squared_error: 0.1843 - val_loss: 0.1754 - val_mean_absolute_error: 0.3154 - val_root_mean_squared_error: 0.4187\n"
          ],
          "name": "stdout"
        }
      ]
    },
    {
      "cell_type": "code",
      "metadata": {
        "id": "GKnL9e7Y5Lra",
        "colab_type": "code",
        "outputId": "2771dc78-d060-443c-aa7c-cce420bd3827",
        "colab": {
          "base_uri": "https://localhost:8080/",
          "height": 358
        }
      },
      "source": [
        "plot_history(model_history, ['root_mean_squared', 'loss', 'lr'])"
      ],
      "execution_count": 0,
      "outputs": [
        {
          "output_type": "display_data",
          "data": {
            "image/png": "[encoded data removed]",
            "text/plain": [
              "<Figure size 1440x360 with 3 Axes>"
            ]
          },
          "metadata": {
            "tags": []
          }
        }
      ]
    },
    {
      "cell_type": "code",
      "metadata": {
        "id": "8ObRxXxpNjdI",
        "colab_type": "code",
        "outputId": "2270c522-cfe1-48cf-e657-c784c154ef1f",
        "colab": {
          "base_uri": "https://localhost:8080/",
          "height": 52
        }
      },
      "source": [
        "model.evaluate(val_dataset)"
      ],
      "execution_count": 0,
      "outputs": [
        {
          "output_type": "stream",
          "text": [
            "22/22 [==============================] - 0s 18ms/step - loss: 0.1672 - mean_absolute_error: 0.3103 - root_mean_squared_error: 0.4088\n"
          ],
          "name": "stdout"
        },
        {
          "output_type": "execute_result",
          "data": {
            "text/plain": [
              "[0.16720516776496713, 0.31033832, 0.40879577]"
            ]
          },
          "metadata": {
            "tags": []
          },
          "execution_count": 76
        }
      ]
    },
    {
      "cell_type": "code",
      "metadata": {
        "id": "onGONIptlUFo",
        "colab_type": "code",
        "colab": {}
      },
      "source": [
        "model_name = 'Dot Product'\n",
        "model_hist_file = f'{model_name.strip().replace(\" \", \"_\").lower()}_hist.csv'\n",
        "loaded_model = model_capture(model, model_name, model_history)"
      ],
      "execution_count": 0,
      "outputs": []
    },
    {
      "cell_type": "code",
      "metadata": {
        "id": "wysiXyl_OnYl",
        "colab_type": "code",
        "colab": {}
      },
      "source": [
        "loaded_model.compile(\n",
        "    optimizer=keras.optimizers.Adam(lr=LEARN_RATE),\n",
        "    loss=keras.losses.mse,\n",
        "    metrics=[keras.metrics.mae, keras.metrics.RootMeanSquaredError()],\n",
        ")"
      ],
      "execution_count": 0,
      "outputs": []
    },
    {
      "cell_type": "code",
      "metadata": {
        "id": "Epr5z8p0Ot2s",
        "colab_type": "code",
        "outputId": "e6cca792-996c-4a79-b6d9-6e863ee48c77",
        "colab": {
          "base_uri": "https://localhost:8080/",
          "height": 52
        }
      },
      "source": [
        "loaded_model.evaluate(val_dataset)"
      ],
      "execution_count": 0,
      "outputs": [
        {
          "output_type": "stream",
          "text": [
            "22/22 [==============================] - 0s 22ms/step - loss: 0.1672 - mean_absolute_error: 0.3103 - root_mean_squared_error: 0.4088\n"
          ],
          "name": "stdout"
        },
        {
          "output_type": "execute_result",
          "data": {
            "text/plain": [
              "[0.16720516776496713, 0.31033832, 0.40879577]"
            ]
          },
          "metadata": {
            "tags": []
          },
          "execution_count": 79
        }
      ]
    },
    {
      "cell_type": "code",
      "metadata": {
        "id": "nNDtI4Bj5QWX",
        "colab_type": "code",
        "colab": {}
      },
      "source": [
        "del model"
      ],
      "execution_count": 0,
      "outputs": []
    },
    {
      "cell_type": "code",
      "metadata": {
        "id": "cJa43qdPl1VZ",
        "colab_type": "code",
        "outputId": "70a3015f-59fa-4714-ab5f-b9e4caa22600",
        "colab": {
          "base_uri": "https://localhost:8080/",
          "height": 35
        }
      },
      "source": [
        "model_rmse = model_metric(loaded_model, val_dataset, scaler)\n",
        "model_rmse"
      ],
      "execution_count": 0,
      "outputs": [
        {
          "output_type": "execute_result",
          "data": {
            "text/plain": [
              "4.0879574"
            ]
          },
          "metadata": {
            "tags": []
          },
          "execution_count": 81
        }
      ]
    },
    {
      "cell_type": "code",
      "metadata": {
        "id": "xzu8hguel2pD",
        "colab_type": "code",
        "colab": {}
      },
      "source": [
        "model_metrics.loc[f'{model_name} model', 'RMSE'] = model_rmse\n",
        "model_metrics.loc[f'{model_name} model', 'History'] = model_hist_file"
      ],
      "execution_count": 0,
      "outputs": []
    },
    {
      "cell_type": "markdown",
      "metadata": {
        "id": "1giV8cCFOtYP",
        "colab_type": "text"
      },
      "source": [
        "### ***Combo Model***"
      ]
    },
    {
      "cell_type": "code",
      "metadata": {
        "id": "eegfhjFLq_ql",
        "colab_type": "code",
        "colab": {}
      },
      "source": [
        "def make_combo_model(\n",
        "    user_dim,\n",
        "    item_dim,\n",
        "    embedding_dim,\n",
        "    layer_size=256,\n",
        "    dropout_rate=0.0,\n",
        "    regularization=None,\n",
        "):\n",
        "    user_input = keras.layers.Input(shape=(1,))\n",
        "    user_embedding = keras.layers.Embedding(user_dim, embedding_dim, input_length=1,)(user_input)\n",
        "    user_embedding = keras.layers.Flatten()(user_embedding)\n",
        "    user_bias = keras.layers.Embedding(user_dim, 1, input_length=1,)(user_input)\n",
        "    user_bias = keras.layers.Flatten()(user_bias)\n",
        "\n",
        "    item_input = keras.layers.Input(shape=(1,))\n",
        "    item_embedding = keras.layers.Embedding(item_dim, embedding_dim, input_length=1,)(item_input)\n",
        "    item_embedding = keras.layers.Flatten()(item_embedding)\n",
        "    item_bias = keras.layers.Embedding(item_dim, 1, input_length=1,)(item_input)\n",
        "    item_bias = keras.layers.Flatten()(item_bias)\n",
        "\n",
        "    concat = keras.layers.Concatenate()([user_embedding, user_bias, item_embedding, item_bias])\n",
        "    concat = keras.layers.BatchNormalization()(concat)\n",
        "    concat = keras.layers.Dropout(dropout_rate)(concat)\n",
        "    concat = keras.layers.Dense(\n",
        "        layer_size,\n",
        "        kernel_initializer=keras.initializers.he_uniform(),\n",
        "        kernel_regularizer=regularization and keras.regularizers.l1_l2(*regularization),\n",
        "    )(concat)\n",
        "    concat = keras.layers.LeakyReLU()(concat)\n",
        "    concat = keras.layers.BatchNormalization()(concat)\n",
        "    concat = keras.layers.Dropout(dropout_rate)(concat)\n",
        "    concat = keras.layers.Dense(1)(concat)\n",
        "\n",
        "    dot_product = keras.layers.Dot(axes=1)([user_embedding, item_embedding])\n",
        "    dot_product = keras.layers.Add()([dot_product, user_bias, item_bias])\n",
        "\n",
        "    combo = keras.layers.Concatenate()([concat, dot_product])\n",
        "    combo = keras.layers.Dense(1)(combo)\n",
        "    outputs = keras.layers.Activation(keras.activations.tanh)(combo)\n",
        "\n",
        "    model = keras.Model(inputs=[user_input, item_input], outputs=outputs)\n",
        "    return model"
      ],
      "execution_count": 0,
      "outputs": []
    },
    {
      "cell_type": "code",
      "metadata": {
        "id": "NBucKhcYq7T8",
        "colab_type": "code",
        "outputId": "9b4b95da-7d43-4152-c3f8-fa928476da9e",
        "colab": {
          "base_uri": "https://localhost:8080/",
          "height": 143
        }
      },
      "source": [
        "model = make_combo_model(\n",
        "    user_dim=n_users,\n",
        "    item_dim=n_items,\n",
        "    embedding_dim=128,\n",
        "    layer_size=256,\n",
        "    dropout_rate=DROPOUT,\n",
        "    regularization=(L1_REG, L2_REG),\n",
        ")"
      ],
      "execution_count": 0,
      "outputs": [
        {
          "output_type": "stream",
          "text": [
            "WARNING:tensorflow:Unresolved object in checkpoint: (root).optimizer.iter\n",
            "WARNING:tensorflow:Unresolved object in checkpoint: (root).optimizer.beta_1\n",
            "WARNING:tensorflow:Unresolved object in checkpoint: (root).optimizer.beta_2\n",
            "WARNING:tensorflow:Unresolved object in checkpoint: (root).optimizer.decay\n",
            "WARNING:tensorflow:Unresolved object in checkpoint: (root).optimizer.learning_rate\n",
            "WARNING:tensorflow:A checkpoint was restored (e.g. tf.train.Checkpoint.restore or tf.keras.Model.load_weights) but not all checkpointed values were used. See above for specific issues. Use expect_partial() on the load status object, e.g. tf.train.Checkpoint.restore(...).expect_partial(), to silence these warnings, or use assert_consumed() to make the check explicit. See https://www.tensorflow.org/guide/checkpoint#loading_mechanics for details.\n"
          ],
          "name": "stdout"
        }
      ]
    },
    {
      "cell_type": "code",
      "metadata": {
        "id": "_347knibq0b5",
        "colab_type": "code",
        "outputId": "055bad58-d65f-4f77-c49c-dc1fe98de2b8",
        "colab": {
          "base_uri": "https://localhost:8080/",
          "height": 1000
        }
      },
      "source": [
        "model.summary()"
      ],
      "execution_count": 0,
      "outputs": [
        {
          "output_type": "stream",
          "text": [
            "Model: \"model_2\"\n",
            "__________________________________________________________________________________________________\n",
            "Layer (type)                    Output Shape         Param #     Connected to                     \n",
            "==================================================================================================\n",
            "input_5 (InputLayer)            [(None, 1)]          0                                            \n",
            "__________________________________________________________________________________________________\n",
            "input_6 (InputLayer)            [(None, 1)]          0                                            \n",
            "__________________________________________________________________________________________________\n",
            "embedding_8 (Embedding)         (None, 1, 128)       8576000     input_5[0][0]                    \n",
            "__________________________________________________________________________________________________\n",
            "embedding_9 (Embedding)         (None, 1, 1)         67000       input_5[0][0]                    \n",
            "__________________________________________________________________________________________________\n",
            "embedding_10 (Embedding)        (None, 1, 128)       20480       input_6[0][0]                    \n",
            "__________________________________________________________________________________________________\n",
            "embedding_11 (Embedding)        (None, 1, 1)         160         input_6[0][0]                    \n",
            "__________________________________________________________________________________________________\n",
            "flatten_8 (Flatten)             (None, 128)          0           embedding_8[0][0]                \n",
            "__________________________________________________________________________________________________\n",
            "flatten_9 (Flatten)             (None, 1)            0           embedding_9[0][0]                \n",
            "__________________________________________________________________________________________________\n",
            "flatten_10 (Flatten)            (None, 128)          0           embedding_10[0][0]               \n",
            "__________________________________________________________________________________________________\n",
            "flatten_11 (Flatten)            (None, 1)            0           embedding_11[0][0]               \n",
            "__________________________________________________________________________________________________\n",
            "concatenate_1 (Concatenate)     (None, 258)          0           flatten_8[0][0]                  \n",
            "                                                                 flatten_9[0][0]                  \n",
            "                                                                 flatten_10[0][0]                 \n",
            "                                                                 flatten_11[0][0]                 \n",
            "__________________________________________________________________________________________________\n",
            "batch_normalization_2 (BatchNor (None, 258)          1032        concatenate_1[0][0]              \n",
            "__________________________________________________________________________________________________\n",
            "dropout_2 (Dropout)             (None, 258)          0           batch_normalization_2[0][0]      \n",
            "__________________________________________________________________________________________________\n",
            "dense_2 (Dense)                 (None, 256)          66304       dropout_2[0][0]                  \n",
            "__________________________________________________________________________________________________\n",
            "leaky_re_lu_1 (LeakyReLU)       (None, 256)          0           dense_2[0][0]                    \n",
            "__________________________________________________________________________________________________\n",
            "batch_normalization_3 (BatchNor (None, 256)          1024        leaky_re_lu_1[0][0]              \n",
            "__________________________________________________________________________________________________\n",
            "dropout_3 (Dropout)             (None, 256)          0           batch_normalization_3[0][0]      \n",
            "__________________________________________________________________________________________________\n",
            "dot_1 (Dot)                     (None, 1)            0           flatten_8[0][0]                  \n",
            "                                                                 flatten_10[0][0]                 \n",
            "__________________________________________________________________________________________________\n",
            "dense_3 (Dense)                 (None, 1)            257         dropout_3[0][0]                  \n",
            "__________________________________________________________________________________________________\n",
            "add_1 (Add)                     (None, 1)            0           dot_1[0][0]                      \n",
            "                                                                 flatten_9[0][0]                  \n",
            "                                                                 flatten_11[0][0]                 \n",
            "__________________________________________________________________________________________________\n",
            "concatenate_2 (Concatenate)     (None, 2)            0           dense_3[0][0]                    \n",
            "                                                                 add_1[0][0]                      \n",
            "__________________________________________________________________________________________________\n",
            "dense_4 (Dense)                 (None, 1)            3           concatenate_2[0][0]              \n",
            "__________________________________________________________________________________________________\n",
            "activation_2 (Activation)       (None, 1)            0           dense_4[0][0]                    \n",
            "==================================================================================================\n",
            "Total params: 8,732,260\n",
            "Trainable params: 8,731,232\n",
            "Non-trainable params: 1,028\n",
            "__________________________________________________________________________________________________\n"
          ],
          "name": "stdout"
        }
      ]
    },
    {
      "cell_type": "code",
      "metadata": {
        "id": "ne211S5aqsVy",
        "colab_type": "code",
        "colab": {}
      },
      "source": [
        "model.compile(\n",
        "    optimizer=keras.optimizers.Adam(lr=LEARN_RATE),\n",
        "    loss=keras.losses.mse,\n",
        "    metrics=[keras.metrics.mae, keras.metrics.RootMeanSquaredError()],\n",
        ")"
      ],
      "execution_count": 0,
      "outputs": []
    },
    {
      "cell_type": "code",
      "metadata": {
        "id": "_5ReG6Tgqkla",
        "colab_type": "code",
        "outputId": "31d9bc09-6185-4992-c38b-8342ce3e4ec8",
        "colab": {
          "base_uri": "https://localhost:8080/",
          "height": 970
        }
      },
      "source": [
        "model_history = model.fit(\n",
        "    train_dataset,\n",
        "    steps_per_epoch=train_dataset_steps,\n",
        "    validation_data=val_dataset,\n",
        "    epochs=EPOCHS,\n",
        "    callbacks=callbacks,\n",
        "    verbose=2,\n",
        ")"
      ],
      "execution_count": 0,
      "outputs": [
        {
          "output_type": "stream",
          "text": [
            "Train for 388 steps, validate for 22 steps\n",
            "Epoch 1/50\n",
            "388/388 - 47s - loss: 0.7631 - mean_absolute_error: 0.4561 - root_mean_squared_error: 0.5798 - val_loss: 0.6222 - val_mean_absolute_error: 0.4484 - val_root_mean_squared_error: 0.5248\n",
            "Epoch 2/50\n",
            "388/388 - 43s - loss: 0.4745 - mean_absolute_error: 0.3496 - root_mean_squared_error: 0.4456 - val_loss: 0.3994 - val_mean_absolute_error: 0.3468 - val_root_mean_squared_error: 0.4336\n",
            "Epoch 3/50\n",
            "388/388 - 43s - loss: 0.3393 - mean_absolute_error: 0.3304 - root_mean_squared_error: 0.4247 - val_loss: 0.2934 - val_mean_absolute_error: 0.3344 - val_root_mean_squared_error: 0.4264\n",
            "Epoch 4/50\n",
            "388/388 - 43s - loss: 0.2511 - mean_absolute_error: 0.3237 - root_mean_squared_error: 0.4184 - val_loss: 0.2265 - val_mean_absolute_error: 0.3316 - val_root_mean_squared_error: 0.4244\n",
            "Epoch 5/50\n",
            "388/388 - 43s - loss: 0.2004 - mean_absolute_error: 0.3200 - root_mean_squared_error: 0.4151 - val_loss: 0.1932 - val_mean_absolute_error: 0.3288 - val_root_mean_squared_error: 0.4225\n",
            "Epoch 6/50\n",
            "388/388 - 43s - loss: 0.1770 - mean_absolute_error: 0.3145 - root_mean_squared_error: 0.4100 - val_loss: 0.1810 - val_mean_absolute_error: 0.3211 - val_root_mean_squared_error: 0.4188\n",
            "Epoch 7/50\n",
            "388/388 - 43s - loss: 0.1684 - mean_absolute_error: 0.3085 - root_mean_squared_error: 0.4045 - val_loss: 0.1783 - val_mean_absolute_error: 0.3183 - val_root_mean_squared_error: 0.4172\n",
            "Epoch 8/50\n",
            "388/388 - 43s - loss: 0.1652 - mean_absolute_error: 0.3054 - root_mean_squared_error: 0.4015 - val_loss: 0.1767 - val_mean_absolute_error: 0.3160 - val_root_mean_squared_error: 0.4157\n",
            "Epoch 9/50\n",
            "388/388 - 44s - loss: 0.1630 - mean_absolute_error: 0.3032 - root_mean_squared_error: 0.3992 - val_loss: 0.1760 - val_mean_absolute_error: 0.3148 - val_root_mean_squared_error: 0.4151\n",
            "Epoch 10/50\n",
            "388/388 - 43s - loss: 0.1604 - mean_absolute_error: 0.3003 - root_mean_squared_error: 0.3960 - val_loss: 0.1763 - val_mean_absolute_error: 0.3131 - val_root_mean_squared_error: 0.4156\n",
            "Epoch 11/50\n",
            "388/388 - 43s - loss: 0.1576 - mean_absolute_error: 0.2970 - root_mean_squared_error: 0.3925 - val_loss: 0.1758 - val_mean_absolute_error: 0.3124 - val_root_mean_squared_error: 0.4149\n",
            "Epoch 12/50\n",
            "388/388 - 43s - loss: 0.1551 - mean_absolute_error: 0.2939 - root_mean_squared_error: 0.3892 - val_loss: 0.1751 - val_mean_absolute_error: 0.3116 - val_root_mean_squared_error: 0.4142\n",
            "Epoch 13/50\n",
            "388/388 - 43s - loss: 0.1513 - mean_absolute_error: 0.2895 - root_mean_squared_error: 0.3842 - val_loss: 0.1755 - val_mean_absolute_error: 0.3114 - val_root_mean_squared_error: 0.4145\n",
            "Epoch 14/50\n",
            "388/388 - 43s - loss: 0.1465 - mean_absolute_error: 0.2841 - root_mean_squared_error: 0.3778 - val_loss: 0.1749 - val_mean_absolute_error: 0.3118 - val_root_mean_squared_error: 0.4134\n",
            "Epoch 15/50\n",
            "388/388 - 43s - loss: 0.1398 - mean_absolute_error: 0.2763 - root_mean_squared_error: 0.3687 - val_loss: 0.1756 - val_mean_absolute_error: 0.3122 - val_root_mean_squared_error: 0.4145\n",
            "Epoch 16/50\n",
            "388/388 - 43s - loss: 0.1308 - mean_absolute_error: 0.2658 - root_mean_squared_error: 0.3565 - val_loss: 0.1753 - val_mean_absolute_error: 0.3106 - val_root_mean_squared_error: 0.4142\n",
            "Epoch 17/50\n",
            "388/388 - 43s - loss: 0.1195 - mean_absolute_error: 0.2515 - root_mean_squared_error: 0.3405 - val_loss: 0.1754 - val_mean_absolute_error: 0.3113 - val_root_mean_squared_error: 0.4148\n",
            "Epoch 18/50\n",
            "388/388 - 43s - loss: 0.1072 - mean_absolute_error: 0.2348 - root_mean_squared_error: 0.3228 - val_loss: 0.1759 - val_mean_absolute_error: 0.3126 - val_root_mean_squared_error: 0.4161\n",
            "Epoch 19/50\n",
            "388/388 - 43s - loss: 0.0949 - mean_absolute_error: 0.2172 - root_mean_squared_error: 0.3040 - val_loss: 0.1774 - val_mean_absolute_error: 0.3132 - val_root_mean_squared_error: 0.4185\n",
            "Epoch 20/50\n",
            "388/388 - 43s - loss: 0.0845 - mean_absolute_error: 0.2023 - root_mean_squared_error: 0.2878 - val_loss: 0.1770 - val_mean_absolute_error: 0.3134 - val_root_mean_squared_error: 0.4189\n",
            "Epoch 21/50\n",
            "388/388 - 43s - loss: 0.0793 - mean_absolute_error: 0.1940 - root_mean_squared_error: 0.2791 - val_loss: 0.1776 - val_mean_absolute_error: 0.3133 - val_root_mean_squared_error: 0.4198\n",
            "Epoch 22/50\n",
            "388/388 - 43s - loss: 0.0751 - mean_absolute_error: 0.1872 - root_mean_squared_error: 0.2715 - val_loss: 0.1785 - val_mean_absolute_error: 0.3139 - val_root_mean_squared_error: 0.4209\n",
            "Epoch 23/50\n",
            "388/388 - 43s - loss: 0.0710 - mean_absolute_error: 0.1807 - root_mean_squared_error: 0.2641 - val_loss: 0.1796 - val_mean_absolute_error: 0.3155 - val_root_mean_squared_error: 0.4224\n",
            "Epoch 24/50\n",
            "388/388 - 43s - loss: 0.0672 - mean_absolute_error: 0.1745 - root_mean_squared_error: 0.2570 - val_loss: 0.1806 - val_mean_absolute_error: 0.3154 - val_root_mean_squared_error: 0.4236\n",
            "Epoch 25/50\n",
            "388/388 - 43s - loss: 0.0640 - mean_absolute_error: 0.1692 - root_mean_squared_error: 0.2512 - val_loss: 0.1807 - val_mean_absolute_error: 0.3161 - val_root_mean_squared_error: 0.4241\n",
            "Epoch 26/50\n",
            "388/388 - 43s - loss: 0.0623 - mean_absolute_error: 0.1663 - root_mean_squared_error: 0.2479 - val_loss: 0.1811 - val_mean_absolute_error: 0.3163 - val_root_mean_squared_error: 0.4246\n"
          ],
          "name": "stdout"
        }
      ]
    },
    {
      "cell_type": "code",
      "metadata": {
        "id": "YtHmtJ28qb1T",
        "colab_type": "code",
        "outputId": "7fb50965-9aa4-4bf3-c51c-c6afefefb381",
        "colab": {
          "base_uri": "https://localhost:8080/",
          "height": 358
        }
      },
      "source": [
        "plot_history(model_history, ['root_mean_squared', 'loss', 'lr'])"
      ],
      "execution_count": 0,
      "outputs": [
        {
          "output_type": "display_data",
          "data": {
            "image/png": "[encoded data removed]",
            "text/plain": [
              "<Figure size 1440x360 with 3 Axes>"
            ]
          },
          "metadata": {
            "tags": []
          }
        }
      ]
    },
    {
      "cell_type": "code",
      "metadata": {
        "id": "ffXePwO2qW0c",
        "colab_type": "code",
        "outputId": "4294ba75-9d54-4462-b0b8-0df213d84d30",
        "colab": {
          "base_uri": "https://localhost:8080/",
          "height": 52
        }
      },
      "source": [
        "model.evaluate(val_dataset)"
      ],
      "execution_count": 0,
      "outputs": [
        {
          "output_type": "stream",
          "text": [
            "22/22 [==============================] - 0s 19ms/step - loss: 0.1749 - mean_absolute_error: 0.3118 - root_mean_squared_error: 0.4134\n"
          ],
          "name": "stdout"
        },
        {
          "output_type": "execute_result",
          "data": {
            "text/plain": [
              "[0.17485847933725876, 0.31183013, 0.41336685]"
            ]
          },
          "metadata": {
            "tags": []
          },
          "execution_count": 89
        }
      ]
    },
    {
      "cell_type": "code",
      "metadata": {
        "id": "Q3WhTcu8qOOn",
        "colab_type": "code",
        "colab": {}
      },
      "source": [
        "model_name = 'Combo'\n",
        "model_hist_file = f'{model_name.strip().replace(\" \", \"_\").lower()}_hist.csv'\n",
        "loaded_model = model_capture(model, model_name, model_history)"
      ],
      "execution_count": 0,
      "outputs": []
    },
    {
      "cell_type": "code",
      "metadata": {
        "id": "n7oEfFbNqKsS",
        "colab_type": "code",
        "colab": {}
      },
      "source": [
        "loaded_model.compile(\n",
        "    optimizer=keras.optimizers.Adam(lr=LEARN_RATE),\n",
        "    loss=keras.losses.mse,\n",
        "    metrics=[keras.metrics.mae, keras.metrics.RootMeanSquaredError()],\n",
        ")"
      ],
      "execution_count": 0,
      "outputs": []
    },
    {
      "cell_type": "code",
      "metadata": {
        "id": "JsAiLGC6qGDn",
        "colab_type": "code",
        "outputId": "95774aa7-e8b8-4bfe-c7f8-7c3443831700",
        "colab": {
          "base_uri": "https://localhost:8080/",
          "height": 52
        }
      },
      "source": [
        "loaded_model.evaluate(val_dataset)"
      ],
      "execution_count": 0,
      "outputs": [
        {
          "output_type": "stream",
          "text": [
            "22/22 [==============================] - 1s 27ms/step - loss: 0.1749 - mean_absolute_error: 0.3118 - root_mean_squared_error: 0.4134\n"
          ],
          "name": "stdout"
        },
        {
          "output_type": "execute_result",
          "data": {
            "text/plain": [
              "[0.17485847933725876, 0.31183013, 0.41336685]"
            ]
          },
          "metadata": {
            "tags": []
          },
          "execution_count": 92
        }
      ]
    },
    {
      "cell_type": "code",
      "metadata": {
        "id": "WzM2nX1Yp9P1",
        "colab_type": "code",
        "colab": {}
      },
      "source": [
        "del model"
      ],
      "execution_count": 0,
      "outputs": []
    },
    {
      "cell_type": "code",
      "metadata": {
        "id": "tPI9E7o7p5vz",
        "colab_type": "code",
        "outputId": "a88b36b8-6863-4768-f63e-12a215444602",
        "colab": {
          "base_uri": "https://localhost:8080/",
          "height": 35
        }
      },
      "source": [
        "model_rmse = model_metric(loaded_model, val_dataset, scaler)\n",
        "model_rmse"
      ],
      "execution_count": 0,
      "outputs": [
        {
          "output_type": "execute_result",
          "data": {
            "text/plain": [
              "4.133669"
            ]
          },
          "metadata": {
            "tags": []
          },
          "execution_count": 94
        }
      ]
    },
    {
      "cell_type": "code",
      "metadata": {
        "id": "5Axj8ziZO1x-",
        "colab_type": "code",
        "colab": {}
      },
      "source": [
        "model_metrics.loc[f'{model_name} model', 'RMSE'] = model_rmse\n",
        "model_metrics.loc[f'{model_name} model', 'History'] = model_hist_file"
      ],
      "execution_count": 0,
      "outputs": []
    },
    {
      "cell_type": "code",
      "metadata": {
        "id": "7ctKlyiqPXY7",
        "colab_type": "code",
        "outputId": "06692dcd-e815-4cb8-e95e-85a75c75092f",
        "colab": {
          "base_uri": "https://localhost:8080/",
          "height": 141
        }
      },
      "source": [
        "model_metrics[['RMSE']]"
      ],
      "execution_count": 0,
      "outputs": [
        {
          "output_type": "execute_result",
          "data": {
            "text/html": [
              "<div>\n",
              "<style scoped>\n",
              "    .dataframe tbody tr th:only-of-type {\n",
              "        vertical-align: middle;\n",
              "    }\n",
              "\n",
              "    .dataframe tbody tr th {\n",
              "        vertical-align: top;\n",
              "    }\n",
              "\n",
              "    .dataframe thead th {\n",
              "        text-align: right;\n",
              "    }\n",
              "</style>\n",
              "<table border=\"1\" class=\"dataframe\">\n",
              "  <thead>\n",
              "    <tr style=\"text-align: right;\">\n",
              "      <th></th>\n",
              "      <th>RMSE</th>\n",
              "    </tr>\n",
              "  </thead>\n",
              "  <tbody>\n",
              "    <tr>\n",
              "      <th>Concat model</th>\n",
              "      <td>4.1456</td>\n",
              "    </tr>\n",
              "    <tr>\n",
              "      <th>Dot Product model</th>\n",
              "      <td>4.08796</td>\n",
              "    </tr>\n",
              "    <tr>\n",
              "      <th>Combo model</th>\n",
              "      <td>4.13367</td>\n",
              "    </tr>\n",
              "  </tbody>\n",
              "</table>\n",
              "</div>"
            ],
            "text/plain": [
              "                      RMSE\n",
              "Concat model        4.1456\n",
              "Dot Product model  4.08796\n",
              "Combo model        4.13367"
            ]
          },
          "metadata": {
            "tags": []
          },
          "execution_count": 96
        }
      ]
    },
    {
      "cell_type": "markdown",
      "metadata": {
        "id": "txa4CHqpy0r0",
        "colab_type": "text"
      },
      "source": [
        "## ***Hyperparameter Tuning***"
      ]
    },
    {
      "cell_type": "markdown",
      "metadata": {
        "id": "8D36bzRU_WzD",
        "colab_type": "text"
      },
      "source": [
        "### ***Keras Tuner - Random Search***"
      ]
    },
    {
      "cell_type": "code",
      "metadata": {
        "id": "pQzAnv6WzG7b",
        "colab_type": "code",
        "colab": {}
      },
      "source": [
        "def make_hp_dot_model(hp):\n",
        "    user_dim = hp.Fixed(\"user_dim\", 1)\n",
        "    item_dim = hp.Fixed(\"item_dim\", 1)\n",
        "    embedding_dim = hp.Choice(\"embedding_dim\", [16, 32, 64, 128, 256])\n",
        "\n",
        "    user_input = keras.layers.Input(shape=(1,))\n",
        "    user_embedding = keras.layers.Embedding(\n",
        "        user_dim,\n",
        "        embedding_dim,\n",
        "        embeddings_regularizer=keras.regularizers.l2(\n",
        "            hp.Float(\n",
        "                \"user_embeddings_regularization_l2\",\n",
        "                min_value=1e-8,\n",
        "                max_value=5e-2,\n",
        "                sampling=\"log\",\n",
        "            )\n",
        "        ),\n",
        "        input_length=1,\n",
        "    )(user_input)\n",
        "    user_embedding = keras.layers.Flatten()(user_embedding)\n",
        "    user_embedding = keras.layers.Dropout(\n",
        "        hp.Float(\"user_embedding_dropout\", min_value=0.0, max_value=0.8, step=0.1)\n",
        "    )(user_embedding)\n",
        "    user_bias = keras.layers.Embedding(user_dim, 1, input_length=1,)(user_input)\n",
        "    user_bias = keras.layers.Flatten()(user_bias)\n",
        "\n",
        "    item_input = keras.layers.Input(shape=(1,))\n",
        "    item_embedding = keras.layers.Embedding(\n",
        "        item_dim, \n",
        "        embedding_dim, \n",
        "        embeddings_regularizer=keras.regularizers.l2(\n",
        "            hp.Float(\n",
        "                \"item_embeddings_regularization_l2\",\n",
        "                min_value=1e-8,\n",
        "                max_value=5e-2,\n",
        "                sampling=\"log\",\n",
        "            )\n",
        "        ),\n",
        "        input_length=1,\n",
        "    )(item_input)\n",
        "    item_embedding = keras.layers.Flatten()(item_embedding)\n",
        "    item_embedding = keras.layers.Dropout(\n",
        "        hp.Float(\"item_embedding_dropout\", min_value=0.0, max_value=0.8, step=0.1)\n",
        "    )(item_embedding)\n",
        "    item_bias = keras.layers.Embedding(item_dim, 1, input_length=1,)(item_input)\n",
        "    item_bias = keras.layers.Flatten()(item_bias)\n",
        "\n",
        "    dot_product = keras.layers.Dot(axes=1)([user_embedding, item_embedding])\n",
        "    logits = keras.layers.Add()([dot_product, user_bias, item_bias])\n",
        "    outputs = keras.layers.Activation(keras.activations.tanh)(logits)\n",
        "\n",
        "    model = keras.Model(inputs=[user_input, item_input], outputs=outputs)\n",
        "\n",
        "    model.compile(\n",
        "        optimizer=keras.optimizers.Adam(\n",
        "            hp.Choice(\"learning_rate\", [3e-3, 1e-3, 5e-4, 3e-4, 1e-4])\n",
        "        ),\n",
        "        loss=keras.losses.mse,\n",
        "        metrics=[keras.metrics.mae, keras.metrics.RootMeanSquaredError()],\n",
        "    )\n",
        "    return model"
      ],
      "execution_count": 0,
      "outputs": []
    },
    {
      "cell_type": "code",
      "metadata": {
        "id": "1Ifw0-RcU9-A",
        "colab_type": "code",
        "colab": {}
      },
      "source": [
        "hp = kt.HyperParameters()\n",
        "hp.Fixed(\"user_dim\", n_users)\n",
        "hp.Fixed(\"item_dim\", n_items)\n",
        "\n",
        "tuner = kt.tuners.RandomSearch(\n",
        "    make_hp_dot_model,\n",
        "    objective=\"val_loss\",\n",
        "    max_trials=30,\n",
        "    hyperparameters=hp,\n",
        "    directory=MODEL_DIR,\n",
        "    project_name=\"hyper_dot_model_3\",\n",
        ")"
      ],
      "execution_count": 0,
      "outputs": []
    },
    {
      "cell_type": "code",
      "metadata": {
        "id": "oEyfZRywVP84",
        "colab_type": "code",
        "outputId": "7cc9ba3e-a6dd-4ef0-e247-838bce484be9",
        "colab": {
          "base_uri": "https://localhost:8080/",
          "height": 849
        }
      },
      "source": [
        "tuner.search_space_summary()"
      ],
      "execution_count": 0,
      "outputs": [
        {
          "output_type": "display_data",
          "data": {
            "text/html": [
              "<span style=\"color:#4527A0\"><h1 style=\"font-size:18px\">Search space summary</h1></span>"
            ],
            "text/plain": [
              "<IPython.core.display.HTML object>"
            ]
          },
          "metadata": {
            "tags": []
          }
        },
        {
          "output_type": "display_data",
          "data": {
            "text/html": [
              "<span style=\"color:cyan\"> |-Default search space size: 8</span>"
            ],
            "text/plain": [
              "<IPython.core.display.HTML object>"
            ]
          },
          "metadata": {
            "tags": []
          }
        },
        {
          "output_type": "display_data",
          "data": {
            "text/html": [
              "<span style=\"color:#7E57C2\"><h2 style=\"font-size:16px\">user_dim (Fixed)</h2></span>"
            ],
            "text/plain": [
              "<IPython.core.display.HTML object>"
            ]
          },
          "metadata": {
            "tags": []
          }
        },
        {
          "output_type": "display_data",
          "data": {
            "text/html": [
              "<span style=\"color:cyan\"> |-value: 67000</span>"
            ],
            "text/plain": [
              "<IPython.core.display.HTML object>"
            ]
          },
          "metadata": {
            "tags": []
          }
        },
        {
          "output_type": "display_data",
          "data": {
            "text/html": [
              "<span style=\"color:#7E57C2\"><h2 style=\"font-size:16px\">item_dim (Fixed)</h2></span>"
            ],
            "text/plain": [
              "<IPython.core.display.HTML object>"
            ]
          },
          "metadata": {
            "tags": []
          }
        },
        {
          "output_type": "display_data",
          "data": {
            "text/html": [
              "<span style=\"color:cyan\"> |-value: 160</span>"
            ],
            "text/plain": [
              "<IPython.core.display.HTML object>"
            ]
          },
          "metadata": {
            "tags": []
          }
        },
        {
          "output_type": "display_data",
          "data": {
            "text/html": [
              "<span style=\"color:#7E57C2\"><h2 style=\"font-size:16px\">embedding_dim (Choice)</h2></span>"
            ],
            "text/plain": [
              "<IPython.core.display.HTML object>"
            ]
          },
          "metadata": {
            "tags": []
          }
        },
        {
          "output_type": "display_data",
          "data": {
            "text/html": [
              "<span style=\"color:cyan\"> |-default: 16</span>"
            ],
            "text/plain": [
              "<IPython.core.display.HTML object>"
            ]
          },
          "metadata": {
            "tags": []
          }
        },
        {
          "output_type": "display_data",
          "data": {
            "text/html": [
              "<span style=\"color:blue\"> |-ordered: True</span>"
            ],
            "text/plain": [
              "<IPython.core.display.HTML object>"
            ]
          },
          "metadata": {
            "tags": []
          }
        },
        {
          "output_type": "display_data",
          "data": {
            "text/html": [
              "<span style=\"color:cyan\"> |-values: [16, 32, 64, 128, 256]</span>"
            ],
            "text/plain": [
              "<IPython.core.display.HTML object>"
            ]
          },
          "metadata": {
            "tags": []
          }
        },
        {
          "output_type": "display_data",
          "data": {
            "text/html": [
              "<span style=\"color:#7E57C2\"><h2 style=\"font-size:16px\">user_embeddings_regularization_l2 (Float)</h2></span>"
            ],
            "text/plain": [
              "<IPython.core.display.HTML object>"
            ]
          },
          "metadata": {
            "tags": []
          }
        },
        {
          "output_type": "display_data",
          "data": {
            "text/html": [
              "<span style=\"color:cyan\"> |-default: 1e-08</span>"
            ],
            "text/plain": [
              "<IPython.core.display.HTML object>"
            ]
          },
          "metadata": {
            "tags": []
          }
        },
        {
          "output_type": "display_data",
          "data": {
            "text/html": [
              "<span style=\"color:blue\"> |-max_value: 0.05</span>"
            ],
            "text/plain": [
              "<IPython.core.display.HTML object>"
            ]
          },
          "metadata": {
            "tags": []
          }
        },
        {
          "output_type": "display_data",
          "data": {
            "text/html": [
              "<span style=\"color:cyan\"> |-min_value: 1e-08</span>"
            ],
            "text/plain": [
              "<IPython.core.display.HTML object>"
            ]
          },
          "metadata": {
            "tags": []
          }
        },
        {
          "output_type": "display_data",
          "data": {
            "text/html": [
              "<span style=\"color:blue\"> |-sampling: log</span>"
            ],
            "text/plain": [
              "<IPython.core.display.HTML object>"
            ]
          },
          "metadata": {
            "tags": []
          }
        },
        {
          "output_type": "display_data",
          "data": {
            "text/html": [
              "<span style=\"color:cyan\"> |-step: None</span>"
            ],
            "text/plain": [
              "<IPython.core.display.HTML object>"
            ]
          },
          "metadata": {
            "tags": []
          }
        },
        {
          "output_type": "display_data",
          "data": {
            "text/html": [
              "<span style=\"color:#7E57C2\"><h2 style=\"font-size:16px\">user_embedding_dropout (Float)</h2></span>"
            ],
            "text/plain": [
              "<IPython.core.display.HTML object>"
            ]
          },
          "metadata": {
            "tags": []
          }
        },
        {
          "output_type": "display_data",
          "data": {
            "text/html": [
              "<span style=\"color:cyan\"> |-default: 0.0</span>"
            ],
            "text/plain": [
              "<IPython.core.display.HTML object>"
            ]
          },
          "metadata": {
            "tags": []
          }
        },
        {
          "output_type": "display_data",
          "data": {
            "text/html": [
              "<span style=\"color:blue\"> |-max_value: 0.8</span>"
            ],
            "text/plain": [
              "<IPython.core.display.HTML object>"
            ]
          },
          "metadata": {
            "tags": []
          }
        },
        {
          "output_type": "display_data",
          "data": {
            "text/html": [
              "<span style=\"color:cyan\"> |-min_value: 0.0</span>"
            ],
            "text/plain": [
              "<IPython.core.display.HTML object>"
            ]
          },
          "metadata": {
            "tags": []
          }
        },
        {
          "output_type": "display_data",
          "data": {
            "text/html": [
              "<span style=\"color:blue\"> |-sampling: None</span>"
            ],
            "text/plain": [
              "<IPython.core.display.HTML object>"
            ]
          },
          "metadata": {
            "tags": []
          }
        },
        {
          "output_type": "display_data",
          "data": {
            "text/html": [
              "<span style=\"color:cyan\"> |-step: 0.1</span>"
            ],
            "text/plain": [
              "<IPython.core.display.HTML object>"
            ]
          },
          "metadata": {
            "tags": []
          }
        },
        {
          "output_type": "display_data",
          "data": {
            "text/html": [
              "<span style=\"color:#7E57C2\"><h2 style=\"font-size:16px\">item_embeddings_regularization_l2 (Float)</h2></span>"
            ],
            "text/plain": [
              "<IPython.core.display.HTML object>"
            ]
          },
          "metadata": {
            "tags": []
          }
        },
        {
          "output_type": "display_data",
          "data": {
            "text/html": [
              "<span style=\"color:cyan\"> |-default: 1e-08</span>"
            ],
            "text/plain": [
              "<IPython.core.display.HTML object>"
            ]
          },
          "metadata": {
            "tags": []
          }
        },
        {
          "output_type": "display_data",
          "data": {
            "text/html": [
              "<span style=\"color:blue\"> |-max_value: 0.05</span>"
            ],
            "text/plain": [
              "<IPython.core.display.HTML object>"
            ]
          },
          "metadata": {
            "tags": []
          }
        },
        {
          "output_type": "display_data",
          "data": {
            "text/html": [
              "<span style=\"color:cyan\"> |-min_value: 1e-08</span>"
            ],
            "text/plain": [
              "<IPython.core.display.HTML object>"
            ]
          },
          "metadata": {
            "tags": []
          }
        },
        {
          "output_type": "display_data",
          "data": {
            "text/html": [
              "<span style=\"color:blue\"> |-sampling: log</span>"
            ],
            "text/plain": [
              "<IPython.core.display.HTML object>"
            ]
          },
          "metadata": {
            "tags": []
          }
        },
        {
          "output_type": "display_data",
          "data": {
            "text/html": [
              "<span style=\"color:cyan\"> |-step: None</span>"
            ],
            "text/plain": [
              "<IPython.core.display.HTML object>"
            ]
          },
          "metadata": {
            "tags": []
          }
        },
        {
          "output_type": "display_data",
          "data": {
            "text/html": [
              "<span style=\"color:#7E57C2\"><h2 style=\"font-size:16px\">item_embedding_dropout (Float)</h2></span>"
            ],
            "text/plain": [
              "<IPython.core.display.HTML object>"
            ]
          },
          "metadata": {
            "tags": []
          }
        },
        {
          "output_type": "display_data",
          "data": {
            "text/html": [
              "<span style=\"color:cyan\"> |-default: 0.0</span>"
            ],
            "text/plain": [
              "<IPython.core.display.HTML object>"
            ]
          },
          "metadata": {
            "tags": []
          }
        },
        {
          "output_type": "display_data",
          "data": {
            "text/html": [
              "<span style=\"color:blue\"> |-max_value: 0.8</span>"
            ],
            "text/plain": [
              "<IPython.core.display.HTML object>"
            ]
          },
          "metadata": {
            "tags": []
          }
        },
        {
          "output_type": "display_data",
          "data": {
            "text/html": [
              "<span style=\"color:cyan\"> |-min_value: 0.0</span>"
            ],
            "text/plain": [
              "<IPython.core.display.HTML object>"
            ]
          },
          "metadata": {
            "tags": []
          }
        },
        {
          "output_type": "display_data",
          "data": {
            "text/html": [
              "<span style=\"color:blue\"> |-sampling: None</span>"
            ],
            "text/plain": [
              "<IPython.core.display.HTML object>"
            ]
          },
          "metadata": {
            "tags": []
          }
        },
        {
          "output_type": "display_data",
          "data": {
            "text/html": [
              "<span style=\"color:cyan\"> |-step: 0.1</span>"
            ],
            "text/plain": [
              "<IPython.core.display.HTML object>"
            ]
          },
          "metadata": {
            "tags": []
          }
        },
        {
          "output_type": "display_data",
          "data": {
            "text/html": [
              "<span style=\"color:#7E57C2\"><h2 style=\"font-size:16px\">learning_rate (Choice)</h2></span>"
            ],
            "text/plain": [
              "<IPython.core.display.HTML object>"
            ]
          },
          "metadata": {
            "tags": []
          }
        },
        {
          "output_type": "display_data",
          "data": {
            "text/html": [
              "<span style=\"color:cyan\"> |-default: 0.003</span>"
            ],
            "text/plain": [
              "<IPython.core.display.HTML object>"
            ]
          },
          "metadata": {
            "tags": []
          }
        },
        {
          "output_type": "display_data",
          "data": {
            "text/html": [
              "<span style=\"color:blue\"> |-ordered: True</span>"
            ],
            "text/plain": [
              "<IPython.core.display.HTML object>"
            ]
          },
          "metadata": {
            "tags": []
          }
        },
        {
          "output_type": "display_data",
          "data": {
            "text/html": [
              "<span style=\"color:cyan\"> |-values: [0.003, 0.001, 0.0005, 0.0003, 0.0001]</span>"
            ],
            "text/plain": [
              "<IPython.core.display.HTML object>"
            ]
          },
          "metadata": {
            "tags": []
          }
        }
      ]
    },
    {
      "cell_type": "code",
      "metadata": {
        "id": "d6LhgX-BVgCq",
        "colab_type": "code",
        "outputId": "0c161d5f-ceb8-46bd-cfcd-64955d11c34a",
        "colab": {
          "base_uri": "https://localhost:8080/",
          "height": 1000
        }
      },
      "source": [
        "tuner.search(\n",
        "    train_dataset,\n",
        "    steps_per_epoch=train_dataset_steps,\n",
        "    validation_data=val_dataset,\n",
        "    epochs=EPOCHS,\n",
        "    callbacks=callbacks,\n",
        "    verbose=0,\n",
        ")"
      ],
      "execution_count": 0,
      "outputs": [
        {
          "output_type": "stream",
          "text": [
            "WARNING:tensorflow:Large dropout rate: 0.6 (>0.5). In TensorFlow 2.x, dropout() uses dropout rate instead of keep_prob. Please ensure that this is intended.\n",
            "WARNING:tensorflow:Large dropout rate: 0.6 (>0.5). In TensorFlow 2.x, dropout() uses dropout rate instead of keep_prob. Please ensure that this is intended.\n"
          ],
          "name": "stdout"
        },
        {
          "output_type": "stream",
          "text": [
            "/tensorflow-2.1.0/python3.6/tensorflow_core/python/framework/indexed_slices.py:433: UserWarning: Converting sparse IndexedSlices to a dense Tensor of unknown shape. This may consume a large amount of memory.\n",
            "  \"Converting sparse IndexedSlices to a dense Tensor of unknown shape. \"\n"
          ],
          "name": "stderr"
        },
        {
          "output_type": "stream",
          "text": [
            "WARNING:tensorflow:Large dropout rate: 0.6 (>0.5). In TensorFlow 2.x, dropout() uses dropout rate instead of keep_prob. Please ensure that this is intended.\n"
          ],
          "name": "stdout"
        },
        {
          "output_type": "stream",
          "text": [
            "/tensorflow-2.1.0/python3.6/tensorflow_core/python/framework/indexed_slices.py:433: UserWarning: Converting sparse IndexedSlices to a dense Tensor of unknown shape. This may consume a large amount of memory.\n",
            "  \"Converting sparse IndexedSlices to a dense Tensor of unknown shape. \"\n"
          ],
          "name": "stderr"
        },
        {
          "output_type": "display_data",
          "data": {
            "text/html": [
              "<span style=\"color:#4527A0\"><h1 style=\"font-size:18px\">Trial complete</h1></span>"
            ],
            "text/plain": [
              "<IPython.core.display.HTML object>"
            ]
          },
          "metadata": {
            "tags": []
          }
        },
        {
          "output_type": "display_data",
          "data": {
            "text/html": [
              "<span style=\"color:#4527A0\"><h1 style=\"font-size:18px\">Trial summary</h1></span>"
            ],
            "text/plain": [
              "<IPython.core.display.HTML object>"
            ]
          },
          "metadata": {
            "tags": []
          }
        },
        {
          "output_type": "display_data",
          "data": {
            "text/html": [
              "<span style=\"color:#7E57C2\"><h2 style=\"font-size:16px\">Hp values:</h2></span>"
            ],
            "text/plain": [
              "<IPython.core.display.HTML object>"
            ]
          },
          "metadata": {
            "tags": []
          }
        },
        {
          "output_type": "display_data",
          "data": {
            "text/html": [
              "<span style=\"color:cyan\"> |-embedding_dim: 128</span>"
            ],
            "text/plain": [
              "<IPython.core.display.HTML object>"
            ]
          },
          "metadata": {
            "tags": []
          }
        },
        {
          "output_type": "display_data",
          "data": {
            "text/html": [
              "<span style=\"color:blue\"> |-item_dim: 160</span>"
            ],
            "text/plain": [
              "<IPython.core.display.HTML object>"
            ]
          },
          "metadata": {
            "tags": []
          }
        },
        {
          "output_type": "display_data",
          "data": {
            "text/html": [
              "<span style=\"color:cyan\"> |-item_embedding_dropout: 0.1</span>"
            ],
            "text/plain": [
              "<IPython.core.display.HTML object>"
            ]
          },
          "metadata": {
            "tags": []
          }
        },
        {
          "output_type": "display_data",
          "data": {
            "text/html": [
              "<span style=\"color:blue\"> |-item_embeddings_regularization_l2: 0.012654329121842424</span>"
            ],
            "text/plain": [
              "<IPython.core.display.HTML object>"
            ]
          },
          "metadata": {
            "tags": []
          }
        },
        {
          "output_type": "display_data",
          "data": {
            "text/html": [
              "<span style=\"color:cyan\"> |-learning_rate: 0.0001</span>"
            ],
            "text/plain": [
              "<IPython.core.display.HTML object>"
            ]
          },
          "metadata": {
            "tags": []
          }
        },
        {
          "output_type": "display_data",
          "data": {
            "text/html": [
              "<span style=\"color:blue\"> |-user_dim: 67000</span>"
            ],
            "text/plain": [
              "<IPython.core.display.HTML object>"
            ]
          },
          "metadata": {
            "tags": []
          }
        },
        {
          "output_type": "display_data",
          "data": {
            "text/html": [
              "<span style=\"color:cyan\"> |-user_embedding_dropout: 0.6000000000000001</span>"
            ],
            "text/plain": [
              "<IPython.core.display.HTML object>"
            ]
          },
          "metadata": {
            "tags": []
          }
        },
        {
          "output_type": "display_data",
          "data": {
            "text/html": [
              "<span style=\"color:blue\"> |-user_embeddings_regularization_l2: 6.497810312473092e-07</span>"
            ],
            "text/plain": [
              "<IPython.core.display.HTML object>"
            ]
          },
          "metadata": {
            "tags": []
          }
        },
        {
          "output_type": "display_data",
          "data": {
            "text/html": [
              "<span style=\"color:cyan\"> |-Score: 0.1886011246930469</span>"
            ],
            "text/plain": [
              "<IPython.core.display.HTML object>"
            ]
          },
          "metadata": {
            "tags": []
          }
        },
        {
          "output_type": "display_data",
          "data": {
            "text/html": [
              "<span style=\"color:cyan\"> |-Best step: 0</span>"
            ],
            "text/plain": [
              "<IPython.core.display.HTML object>"
            ]
          },
          "metadata": {
            "tags": []
          }
        },
        {
          "output_type": "stream",
          "text": [
            "WARNING:tensorflow:Large dropout rate: 0.6 (>0.5). In TensorFlow 2.x, dropout() uses dropout rate instead of keep_prob. Please ensure that this is intended.\n",
            "WARNING:tensorflow:Large dropout rate: 0.6 (>0.5). In TensorFlow 2.x, dropout() uses dropout rate instead of keep_prob. Please ensure that this is intended.\n"
          ],
          "name": "stdout"
        },
        {
          "output_type": "stream",
          "text": [
            "/tensorflow-2.1.0/python3.6/tensorflow_core/python/framework/indexed_slices.py:433: UserWarning: Converting sparse IndexedSlices to a dense Tensor of unknown shape. This may consume a large amount of memory.\n",
            "  \"Converting sparse IndexedSlices to a dense Tensor of unknown shape. \"\n",
            "/tensorflow-2.1.0/python3.6/tensorflow_core/python/framework/indexed_slices.py:433: UserWarning: Converting sparse IndexedSlices to a dense Tensor of unknown shape. This may consume a large amount of memory.\n",
            "  \"Converting sparse IndexedSlices to a dense Tensor of unknown shape. \"\n"
          ],
          "name": "stderr"
        },
        {
          "output_type": "display_data",
          "data": {
            "text/html": [
              "<span style=\"color:#4527A0\"><h1 style=\"font-size:18px\">Trial complete</h1></span>"
            ],
            "text/plain": [
              "<IPython.core.display.HTML object>"
            ]
          },
          "metadata": {
            "tags": []
          }
        },
        {
          "output_type": "display_data",
          "data": {
            "text/html": [
              "<span style=\"color:#4527A0\"><h1 style=\"font-size:18px\">Trial summary</h1></span>"
            ],
            "text/plain": [
              "<IPython.core.display.HTML object>"
            ]
          },
          "metadata": {
            "tags": []
          }
        },
        {
          "output_type": "display_data",
          "data": {
            "text/html": [
              "<span style=\"color:#7E57C2\"><h2 style=\"font-size:16px\">Hp values:</h2></span>"
            ],
            "text/plain": [
              "<IPython.core.display.HTML object>"
            ]
          },
          "metadata": {
            "tags": []
          }
        },
        {
          "output_type": "display_data",
          "data": {
            "text/html": [
              "<span style=\"color:cyan\"> |-embedding_dim: 32</span>"
            ],
            "text/plain": [
              "<IPython.core.display.HTML object>"
            ]
          },
          "metadata": {
            "tags": []
          }
        },
        {
          "output_type": "display_data",
          "data": {
            "text/html": [
              "<span style=\"color:blue\"> |-item_dim: 160</span>"
            ],
            "text/plain": [
              "<IPython.core.display.HTML object>"
            ]
          },
          "metadata": {
            "tags": []
          }
        },
        {
          "output_type": "display_data",
          "data": {
            "text/html": [
              "<span style=\"color:cyan\"> |-item_embedding_dropout: 0.6000000000000001</span>"
            ],
            "text/plain": [
              "<IPython.core.display.HTML object>"
            ]
          },
          "metadata": {
            "tags": []
          }
        },
        {
          "output_type": "display_data",
          "data": {
            "text/html": [
              "<span style=\"color:blue\"> |-item_embeddings_regularization_l2: 0.014332745874606817</span>"
            ],
            "text/plain": [
              "<IPython.core.display.HTML object>"
            ]
          },
          "metadata": {
            "tags": []
          }
        },
        {
          "output_type": "display_data",
          "data": {
            "text/html": [
              "<span style=\"color:cyan\"> |-learning_rate: 0.001</span>"
            ],
            "text/plain": [
              "<IPython.core.display.HTML object>"
            ]
          },
          "metadata": {
            "tags": []
          }
        },
        {
          "output_type": "display_data",
          "data": {
            "text/html": [
              "<span style=\"color:blue\"> |-user_dim: 67000</span>"
            ],
            "text/plain": [
              "<IPython.core.display.HTML object>"
            ]
          },
          "metadata": {
            "tags": []
          }
        },
        {
          "output_type": "display_data",
          "data": {
            "text/html": [
              "<span style=\"color:cyan\"> |-user_embedding_dropout: 0.1</span>"
            ],
            "text/plain": [
              "<IPython.core.display.HTML object>"
            ]
          },
          "metadata": {
            "tags": []
          }
        },
        {
          "output_type": "display_data",
          "data": {
            "text/html": [
              "<span style=\"color:blue\"> |-user_embeddings_regularization_l2: 1.9314518523359264e-08</span>"
            ],
            "text/plain": [
              "<IPython.core.display.HTML object>"
            ]
          },
          "metadata": {
            "tags": []
          }
        },
        {
          "output_type": "display_data",
          "data": {
            "text/html": [
              "<span style=\"color:cyan\"> |-Score: 0.17860695719718933</span>"
            ],
            "text/plain": [
              "<IPython.core.display.HTML object>"
            ]
          },
          "metadata": {
            "tags": []
          }
        },
        {
          "output_type": "display_data",
          "data": {
            "text/html": [
              "<span style=\"color:cyan\"> |-Best step: 0</span>"
            ],
            "text/plain": [
              "<IPython.core.display.HTML object>"
            ]
          },
          "metadata": {
            "tags": []
          }
        },
        {
          "output_type": "stream",
          "text": [
            "/tensorflow-2.1.0/python3.6/tensorflow_core/python/framework/indexed_slices.py:433: UserWarning: Converting sparse IndexedSlices to a dense Tensor of unknown shape. This may consume a large amount of memory.\n",
            "  \"Converting sparse IndexedSlices to a dense Tensor of unknown shape. \"\n",
            "/tensorflow-2.1.0/python3.6/tensorflow_core/python/framework/indexed_slices.py:433: UserWarning: Converting sparse IndexedSlices to a dense Tensor of unknown shape. This may consume a large amount of memory.\n",
            "  \"Converting sparse IndexedSlices to a dense Tensor of unknown shape. \"\n"
          ],
          "name": "stderr"
        },
        {
          "output_type": "display_data",
          "data": {
            "text/html": [
              "<span style=\"color:#4527A0\"><h1 style=\"font-size:18px\">Trial complete</h1></span>"
            ],
            "text/plain": [
              "<IPython.core.display.HTML object>"
            ]
          },
          "metadata": {
            "tags": []
          }
        },
        {
          "output_type": "display_data",
          "data": {
            "text/html": [
              "<span style=\"color:#4527A0\"><h1 style=\"font-size:18px\">Trial summary</h1></span>"
            ],
            "text/plain": [
              "<IPython.core.display.HTML object>"
            ]
          },
          "metadata": {
            "tags": []
          }
        },
        {
          "output_type": "display_data",
          "data": {
            "text/html": [
              "<span style=\"color:#7E57C2\"><h2 style=\"font-size:16px\">Hp values:</h2></span>"
            ],
            "text/plain": [
              "<IPython.core.display.HTML object>"
            ]
          },
          "metadata": {
            "tags": []
          }
        },
        {
          "output_type": "display_data",
          "data": {
            "text/html": [
              "<span style=\"color:cyan\"> |-embedding_dim: 32</span>"
            ],
            "text/plain": [
              "<IPython.core.display.HTML object>"
            ]
          },
          "metadata": {
            "tags": []
          }
        },
        {
          "output_type": "display_data",
          "data": {
            "text/html": [
              "<span style=\"color:blue\"> |-item_dim: 160</span>"
            ],
            "text/plain": [
              "<IPython.core.display.HTML object>"
            ]
          },
          "metadata": {
            "tags": []
          }
        },
        {
          "output_type": "display_data",
          "data": {
            "text/html": [
              "<span style=\"color:cyan\"> |-item_embedding_dropout: 0.7000000000000001</span>"
            ],
            "text/plain": [
              "<IPython.core.display.HTML object>"
            ]
          },
          "metadata": {
            "tags": []
          }
        },
        {
          "output_type": "display_data",
          "data": {
            "text/html": [
              "<span style=\"color:blue\"> |-item_embeddings_regularization_l2: 0.00016628055798991923</span>"
            ],
            "text/plain": [
              "<IPython.core.display.HTML object>"
            ]
          },
          "metadata": {
            "tags": []
          }
        },
        {
          "output_type": "display_data",
          "data": {
            "text/html": [
              "<span style=\"color:cyan\"> |-learning_rate: 0.0003</span>"
            ],
            "text/plain": [
              "<IPython.core.display.HTML object>"
            ]
          },
          "metadata": {
            "tags": []
          }
        },
        {
          "output_type": "display_data",
          "data": {
            "text/html": [
              "<span style=\"color:blue\"> |-user_dim: 67000</span>"
            ],
            "text/plain": [
              "<IPython.core.display.HTML object>"
            ]
          },
          "metadata": {
            "tags": []
          }
        },
        {
          "output_type": "display_data",
          "data": {
            "text/html": [
              "<span style=\"color:cyan\"> |-user_embedding_dropout: 0.5</span>"
            ],
            "text/plain": [
              "<IPython.core.display.HTML object>"
            ]
          },
          "metadata": {
            "tags": []
          }
        },
        {
          "output_type": "display_data",
          "data": {
            "text/html": [
              "<span style=\"color:blue\"> |-user_embeddings_regularization_l2: 0.0018076732971175913</span>"
            ],
            "text/plain": [
              "<IPython.core.display.HTML object>"
            ]
          },
          "metadata": {
            "tags": []
          }
        },
        {
          "output_type": "display_data",
          "data": {
            "text/html": [
              "<span style=\"color:cyan\"> |-Score: 0.17924134975129907</span>"
            ],
            "text/plain": [
              "<IPython.core.display.HTML object>"
            ]
          },
          "metadata": {
            "tags": []
          }
        },
        {
          "output_type": "display_data",
          "data": {
            "text/html": [
              "<span style=\"color:cyan\"> |-Best step: 0</span>"
            ],
            "text/plain": [
              "<IPython.core.display.HTML object>"
            ]
          },
          "metadata": {
            "tags": []
          }
        },
        {
          "output_type": "stream",
          "text": [
            "/tensorflow-2.1.0/python3.6/tensorflow_core/python/framework/indexed_slices.py:433: UserWarning: Converting sparse IndexedSlices to a dense Tensor of unknown shape. This may consume a large amount of memory.\n",
            "  \"Converting sparse IndexedSlices to a dense Tensor of unknown shape. \"\n",
            "/tensorflow-2.1.0/python3.6/tensorflow_core/python/framework/indexed_slices.py:433: UserWarning: Converting sparse IndexedSlices to a dense Tensor of unknown shape. This may consume a large amount of memory.\n",
            "  \"Converting sparse IndexedSlices to a dense Tensor of unknown shape. \"\n"
          ],
          "name": "stderr"
        },
        {
          "output_type": "display_data",
          "data": {
            "text/html": [
              "<span style=\"color:#4527A0\"><h1 style=\"font-size:18px\">Trial complete</h1></span>"
            ],
            "text/plain": [
              "<IPython.core.display.HTML object>"
            ]
          },
          "metadata": {
            "tags": []
          }
        },
        {
          "output_type": "display_data",
          "data": {
            "text/html": [
              "<span style=\"color:#4527A0\"><h1 style=\"font-size:18px\">Trial summary</h1></span>"
            ],
            "text/plain": [
              "<IPython.core.display.HTML object>"
            ]
          },
          "metadata": {
            "tags": []
          }
        },
        {
          "output_type": "display_data",
          "data": {
            "text/html": [
              "<span style=\"color:#7E57C2\"><h2 style=\"font-size:16px\">Hp values:</h2></span>"
            ],
            "text/plain": [
              "<IPython.core.display.HTML object>"
            ]
          },
          "metadata": {
            "tags": []
          }
        },
        {
          "output_type": "display_data",
          "data": {
            "text/html": [
              "<span style=\"color:cyan\"> |-embedding_dim: 128</span>"
            ],
            "text/plain": [
              "<IPython.core.display.HTML object>"
            ]
          },
          "metadata": {
            "tags": []
          }
        },
        {
          "output_type": "display_data",
          "data": {
            "text/html": [
              "<span style=\"color:blue\"> |-item_dim: 160</span>"
            ],
            "text/plain": [
              "<IPython.core.display.HTML object>"
            ]
          },
          "metadata": {
            "tags": []
          }
        },
        {
          "output_type": "display_data",
          "data": {
            "text/html": [
              "<span style=\"color:cyan\"> |-item_embedding_dropout: 0.0</span>"
            ],
            "text/plain": [
              "<IPython.core.display.HTML object>"
            ]
          },
          "metadata": {
            "tags": []
          }
        },
        {
          "output_type": "display_data",
          "data": {
            "text/html": [
              "<span style=\"color:blue\"> |-item_embeddings_regularization_l2: 0.006512139895343383</span>"
            ],
            "text/plain": [
              "<IPython.core.display.HTML object>"
            ]
          },
          "metadata": {
            "tags": []
          }
        },
        {
          "output_type": "display_data",
          "data": {
            "text/html": [
              "<span style=\"color:cyan\"> |-learning_rate: 0.003</span>"
            ],
            "text/plain": [
              "<IPython.core.display.HTML object>"
            ]
          },
          "metadata": {
            "tags": []
          }
        },
        {
          "output_type": "display_data",
          "data": {
            "text/html": [
              "<span style=\"color:blue\"> |-user_dim: 67000</span>"
            ],
            "text/plain": [
              "<IPython.core.display.HTML object>"
            ]
          },
          "metadata": {
            "tags": []
          }
        },
        {
          "output_type": "display_data",
          "data": {
            "text/html": [
              "<span style=\"color:cyan\"> |-user_embedding_dropout: 0.5</span>"
            ],
            "text/plain": [
              "<IPython.core.display.HTML object>"
            ]
          },
          "metadata": {
            "tags": []
          }
        },
        {
          "output_type": "display_data",
          "data": {
            "text/html": [
              "<span style=\"color:blue\"> |-user_embeddings_regularization_l2: 8.033239421450551e-05</span>"
            ],
            "text/plain": [
              "<IPython.core.display.HTML object>"
            ]
          },
          "metadata": {
            "tags": []
          }
        },
        {
          "output_type": "display_data",
          "data": {
            "text/html": [
              "<span style=\"color:cyan\"> |-Score: 0.17952365225011652</span>"
            ],
            "text/plain": [
              "<IPython.core.display.HTML object>"
            ]
          },
          "metadata": {
            "tags": []
          }
        },
        {
          "output_type": "display_data",
          "data": {
            "text/html": [
              "<span style=\"color:cyan\"> |-Best step: 0</span>"
            ],
            "text/plain": [
              "<IPython.core.display.HTML object>"
            ]
          },
          "metadata": {
            "tags": []
          }
        },
        {
          "output_type": "stream",
          "text": [
            "/tensorflow-2.1.0/python3.6/tensorflow_core/python/framework/indexed_slices.py:433: UserWarning: Converting sparse IndexedSlices to a dense Tensor of unknown shape. This may consume a large amount of memory.\n",
            "  \"Converting sparse IndexedSlices to a dense Tensor of unknown shape. \"\n",
            "/tensorflow-2.1.0/python3.6/tensorflow_core/python/framework/indexed_slices.py:433: UserWarning: Converting sparse IndexedSlices to a dense Tensor of unknown shape. This may consume a large amount of memory.\n",
            "  \"Converting sparse IndexedSlices to a dense Tensor of unknown shape. \"\n"
          ],
          "name": "stderr"
        },
        {
          "output_type": "display_data",
          "data": {
            "text/html": [
              "<span style=\"color:#4527A0\"><h1 style=\"font-size:18px\">Trial complete</h1></span>"
            ],
            "text/plain": [
              "<IPython.core.display.HTML object>"
            ]
          },
          "metadata": {
            "tags": []
          }
        },
        {
          "output_type": "display_data",
          "data": {
            "text/html": [
              "<span style=\"color:#4527A0\"><h1 style=\"font-size:18px\">Trial summary</h1></span>"
            ],
            "text/plain": [
              "<IPython.core.display.HTML object>"
            ]
          },
          "metadata": {
            "tags": []
          }
        },
        {
          "output_type": "display_data",
          "data": {
            "text/html": [
              "<span style=\"color:#7E57C2\"><h2 style=\"font-size:16px\">Hp values:</h2></span>"
            ],
            "text/plain": [
              "<IPython.core.display.HTML object>"
            ]
          },
          "metadata": {
            "tags": []
          }
        },
        {
          "output_type": "display_data",
          "data": {
            "text/html": [
              "<span style=\"color:cyan\"> |-embedding_dim: 64</span>"
            ],
            "text/plain": [
              "<IPython.core.display.HTML object>"
            ]
          },
          "metadata": {
            "tags": []
          }
        },
        {
          "output_type": "display_data",
          "data": {
            "text/html": [
              "<span style=\"color:blue\"> |-item_dim: 160</span>"
            ],
            "text/plain": [
              "<IPython.core.display.HTML object>"
            ]
          },
          "metadata": {
            "tags": []
          }
        },
        {
          "output_type": "display_data",
          "data": {
            "text/html": [
              "<span style=\"color:cyan\"> |-item_embedding_dropout: 0.2</span>"
            ],
            "text/plain": [
              "<IPython.core.display.HTML object>"
            ]
          },
          "metadata": {
            "tags": []
          }
        },
        {
          "output_type": "display_data",
          "data": {
            "text/html": [
              "<span style=\"color:blue\"> |-item_embeddings_regularization_l2: 0.007657461769280097</span>"
            ],
            "text/plain": [
              "<IPython.core.display.HTML object>"
            ]
          },
          "metadata": {
            "tags": []
          }
        },
        {
          "output_type": "display_data",
          "data": {
            "text/html": [
              "<span style=\"color:cyan\"> |-learning_rate: 0.001</span>"
            ],
            "text/plain": [
              "<IPython.core.display.HTML object>"
            ]
          },
          "metadata": {
            "tags": []
          }
        },
        {
          "output_type": "display_data",
          "data": {
            "text/html": [
              "<span style=\"color:blue\"> |-user_dim: 67000</span>"
            ],
            "text/plain": [
              "<IPython.core.display.HTML object>"
            ]
          },
          "metadata": {
            "tags": []
          }
        },
        {
          "output_type": "display_data",
          "data": {
            "text/html": [
              "<span style=\"color:cyan\"> |-user_embedding_dropout: 0.7000000000000001</span>"
            ],
            "text/plain": [
              "<IPython.core.display.HTML object>"
            ]
          },
          "metadata": {
            "tags": []
          }
        },
        {
          "output_type": "display_data",
          "data": {
            "text/html": [
              "<span style=\"color:blue\"> |-user_embeddings_regularization_l2: 0.02774318847466381</span>"
            ],
            "text/plain": [
              "<IPython.core.display.HTML object>"
            ]
          },
          "metadata": {
            "tags": []
          }
        },
        {
          "output_type": "display_data",
          "data": {
            "text/html": [
              "<span style=\"color:cyan\"> |-Score: 0.17910114066167312</span>"
            ],
            "text/plain": [
              "<IPython.core.display.HTML object>"
            ]
          },
          "metadata": {
            "tags": []
          }
        },
        {
          "output_type": "display_data",
          "data": {
            "text/html": [
              "<span style=\"color:cyan\"> |-Best step: 0</span>"
            ],
            "text/plain": [
              "<IPython.core.display.HTML object>"
            ]
          },
          "metadata": {
            "tags": []
          }
        },
        {
          "output_type": "stream",
          "text": [
            "/tensorflow-2.1.0/python3.6/tensorflow_core/python/framework/indexed_slices.py:433: UserWarning: Converting sparse IndexedSlices to a dense Tensor of unknown shape. This may consume a large amount of memory.\n",
            "  \"Converting sparse IndexedSlices to a dense Tensor of unknown shape. \"\n",
            "/tensorflow-2.1.0/python3.6/tensorflow_core/python/framework/indexed_slices.py:433: UserWarning: Converting sparse IndexedSlices to a dense Tensor of unknown shape. This may consume a large amount of memory.\n",
            "  \"Converting sparse IndexedSlices to a dense Tensor of unknown shape. \"\n"
          ],
          "name": "stderr"
        },
        {
          "output_type": "display_data",
          "data": {
            "text/html": [
              "<span style=\"color:#4527A0\"><h1 style=\"font-size:18px\">Trial complete</h1></span>"
            ],
            "text/plain": [
              "<IPython.core.display.HTML object>"
            ]
          },
          "metadata": {
            "tags": []
          }
        },
        {
          "output_type": "display_data",
          "data": {
            "text/html": [
              "<span style=\"color:#4527A0\"><h1 style=\"font-size:18px\">Trial summary</h1></span>"
            ],
            "text/plain": [
              "<IPython.core.display.HTML object>"
            ]
          },
          "metadata": {
            "tags": []
          }
        },
        {
          "output_type": "display_data",
          "data": {
            "text/html": [
              "<span style=\"color:#7E57C2\"><h2 style=\"font-size:16px\">Hp values:</h2></span>"
            ],
            "text/plain": [
              "<IPython.core.display.HTML object>"
            ]
          },
          "metadata": {
            "tags": []
          }
        },
        {
          "output_type": "display_data",
          "data": {
            "text/html": [
              "<span style=\"color:cyan\"> |-embedding_dim: 256</span>"
            ],
            "text/plain": [
              "<IPython.core.display.HTML object>"
            ]
          },
          "metadata": {
            "tags": []
          }
        },
        {
          "output_type": "display_data",
          "data": {
            "text/html": [
              "<span style=\"color:blue\"> |-item_dim: 160</span>"
            ],
            "text/plain": [
              "<IPython.core.display.HTML object>"
            ]
          },
          "metadata": {
            "tags": []
          }
        },
        {
          "output_type": "display_data",
          "data": {
            "text/html": [
              "<span style=\"color:cyan\"> |-item_embedding_dropout: 0.6000000000000001</span>"
            ],
            "text/plain": [
              "<IPython.core.display.HTML object>"
            ]
          },
          "metadata": {
            "tags": []
          }
        },
        {
          "output_type": "display_data",
          "data": {
            "text/html": [
              "<span style=\"color:blue\"> |-item_embeddings_regularization_l2: 0.0014291578903628782</span>"
            ],
            "text/plain": [
              "<IPython.core.display.HTML object>"
            ]
          },
          "metadata": {
            "tags": []
          }
        },
        {
          "output_type": "display_data",
          "data": {
            "text/html": [
              "<span style=\"color:cyan\"> |-learning_rate: 0.0001</span>"
            ],
            "text/plain": [
              "<IPython.core.display.HTML object>"
            ]
          },
          "metadata": {
            "tags": []
          }
        },
        {
          "output_type": "display_data",
          "data": {
            "text/html": [
              "<span style=\"color:blue\"> |-user_dim: 67000</span>"
            ],
            "text/plain": [
              "<IPython.core.display.HTML object>"
            ]
          },
          "metadata": {
            "tags": []
          }
        },
        {
          "output_type": "display_data",
          "data": {
            "text/html": [
              "<span style=\"color:cyan\"> |-user_embedding_dropout: 0.1</span>"
            ],
            "text/plain": [
              "<IPython.core.display.HTML object>"
            ]
          },
          "metadata": {
            "tags": []
          }
        },
        {
          "output_type": "display_data",
          "data": {
            "text/html": [
              "<span style=\"color:blue\"> |-user_embeddings_regularization_l2: 3.5711651901287384e-05</span>"
            ],
            "text/plain": [
              "<IPython.core.display.HTML object>"
            ]
          },
          "metadata": {
            "tags": []
          }
        },
        {
          "output_type": "display_data",
          "data": {
            "text/html": [
              "<span style=\"color:cyan\"> |-Score: 0.18852580745111813</span>"
            ],
            "text/plain": [
              "<IPython.core.display.HTML object>"
            ]
          },
          "metadata": {
            "tags": []
          }
        },
        {
          "output_type": "display_data",
          "data": {
            "text/html": [
              "<span style=\"color:cyan\"> |-Best step: 0</span>"
            ],
            "text/plain": [
              "<IPython.core.display.HTML object>"
            ]
          },
          "metadata": {
            "tags": []
          }
        },
        {
          "output_type": "stream",
          "text": [
            "/tensorflow-2.1.0/python3.6/tensorflow_core/python/framework/indexed_slices.py:433: UserWarning: Converting sparse IndexedSlices to a dense Tensor of unknown shape. This may consume a large amount of memory.\n",
            "  \"Converting sparse IndexedSlices to a dense Tensor of unknown shape. \"\n",
            "/tensorflow-2.1.0/python3.6/tensorflow_core/python/framework/indexed_slices.py:433: UserWarning: Converting sparse IndexedSlices to a dense Tensor of unknown shape. This may consume a large amount of memory.\n",
            "  \"Converting sparse IndexedSlices to a dense Tensor of unknown shape. \"\n"
          ],
          "name": "stderr"
        },
        {
          "output_type": "display_data",
          "data": {
            "text/html": [
              "<span style=\"color:#4527A0\"><h1 style=\"font-size:18px\">Trial complete</h1></span>"
            ],
            "text/plain": [
              "<IPython.core.display.HTML object>"
            ]
          },
          "metadata": {
            "tags": []
          }
        },
        {
          "output_type": "display_data",
          "data": {
            "text/html": [
              "<span style=\"color:#4527A0\"><h1 style=\"font-size:18px\">Trial summary</h1></span>"
            ],
            "text/plain": [
              "<IPython.core.display.HTML object>"
            ]
          },
          "metadata": {
            "tags": []
          }
        },
        {
          "output_type": "display_data",
          "data": {
            "text/html": [
              "<span style=\"color:#7E57C2\"><h2 style=\"font-size:16px\">Hp values:</h2></span>"
            ],
            "text/plain": [
              "<IPython.core.display.HTML object>"
            ]
          },
          "metadata": {
            "tags": []
          }
        },
        {
          "output_type": "display_data",
          "data": {
            "text/html": [
              "<span style=\"color:cyan\"> |-embedding_dim: 64</span>"
            ],
            "text/plain": [
              "<IPython.core.display.HTML object>"
            ]
          },
          "metadata": {
            "tags": []
          }
        },
        {
          "output_type": "display_data",
          "data": {
            "text/html": [
              "<span style=\"color:blue\"> |-item_dim: 160</span>"
            ],
            "text/plain": [
              "<IPython.core.display.HTML object>"
            ]
          },
          "metadata": {
            "tags": []
          }
        },
        {
          "output_type": "display_data",
          "data": {
            "text/html": [
              "<span style=\"color:cyan\"> |-item_embedding_dropout: 0.7000000000000001</span>"
            ],
            "text/plain": [
              "<IPython.core.display.HTML object>"
            ]
          },
          "metadata": {
            "tags": []
          }
        },
        {
          "output_type": "display_data",
          "data": {
            "text/html": [
              "<span style=\"color:blue\"> |-item_embeddings_regularization_l2: 0.0002615030282583671</span>"
            ],
            "text/plain": [
              "<IPython.core.display.HTML object>"
            ]
          },
          "metadata": {
            "tags": []
          }
        },
        {
          "output_type": "display_data",
          "data": {
            "text/html": [
              "<span style=\"color:cyan\"> |-learning_rate: 0.003</span>"
            ],
            "text/plain": [
              "<IPython.core.display.HTML object>"
            ]
          },
          "metadata": {
            "tags": []
          }
        },
        {
          "output_type": "display_data",
          "data": {
            "text/html": [
              "<span style=\"color:blue\"> |-user_dim: 67000</span>"
            ],
            "text/plain": [
              "<IPython.core.display.HTML object>"
            ]
          },
          "metadata": {
            "tags": []
          }
        },
        {
          "output_type": "display_data",
          "data": {
            "text/html": [
              "<span style=\"color:cyan\"> |-user_embedding_dropout: 0.30000000000000004</span>"
            ],
            "text/plain": [
              "<IPython.core.display.HTML object>"
            ]
          },
          "metadata": {
            "tags": []
          }
        },
        {
          "output_type": "display_data",
          "data": {
            "text/html": [
              "<span style=\"color:blue\"> |-user_embeddings_regularization_l2: 1.2707297379792247e-06</span>"
            ],
            "text/plain": [
              "<IPython.core.display.HTML object>"
            ]
          },
          "metadata": {
            "tags": []
          }
        },
        {
          "output_type": "display_data",
          "data": {
            "text/html": [
              "<span style=\"color:cyan\"> |-Score: 0.18755016746846112</span>"
            ],
            "text/plain": [
              "<IPython.core.display.HTML object>"
            ]
          },
          "metadata": {
            "tags": []
          }
        },
        {
          "output_type": "display_data",
          "data": {
            "text/html": [
              "<span style=\"color:cyan\"> |-Best step: 0</span>"
            ],
            "text/plain": [
              "<IPython.core.display.HTML object>"
            ]
          },
          "metadata": {
            "tags": []
          }
        },
        {
          "output_type": "stream",
          "text": [
            "/tensorflow-2.1.0/python3.6/tensorflow_core/python/framework/indexed_slices.py:433: UserWarning: Converting sparse IndexedSlices to a dense Tensor of unknown shape. This may consume a large amount of memory.\n",
            "  \"Converting sparse IndexedSlices to a dense Tensor of unknown shape. \"\n",
            "/tensorflow-2.1.0/python3.6/tensorflow_core/python/framework/indexed_slices.py:433: UserWarning: Converting sparse IndexedSlices to a dense Tensor of unknown shape. This may consume a large amount of memory.\n",
            "  \"Converting sparse IndexedSlices to a dense Tensor of unknown shape. \"\n"
          ],
          "name": "stderr"
        },
        {
          "output_type": "display_data",
          "data": {
            "text/html": [
              "<span style=\"color:#4527A0\"><h1 style=\"font-size:18px\">Trial complete</h1></span>"
            ],
            "text/plain": [
              "<IPython.core.display.HTML object>"
            ]
          },
          "metadata": {
            "tags": []
          }
        },
        {
          "output_type": "display_data",
          "data": {
            "text/html": [
              "<span style=\"color:#4527A0\"><h1 style=\"font-size:18px\">Trial summary</h1></span>"
            ],
            "text/plain": [
              "<IPython.core.display.HTML object>"
            ]
          },
          "metadata": {
            "tags": []
          }
        },
        {
          "output_type": "display_data",
          "data": {
            "text/html": [
              "<span style=\"color:#7E57C2\"><h2 style=\"font-size:16px\">Hp values:</h2></span>"
            ],
            "text/plain": [
              "<IPython.core.display.HTML object>"
            ]
          },
          "metadata": {
            "tags": []
          }
        },
        {
          "output_type": "display_data",
          "data": {
            "text/html": [
              "<span style=\"color:cyan\"> |-embedding_dim: 16</span>"
            ],
            "text/plain": [
              "<IPython.core.display.HTML object>"
            ]
          },
          "metadata": {
            "tags": []
          }
        },
        {
          "output_type": "display_data",
          "data": {
            "text/html": [
              "<span style=\"color:blue\"> |-item_dim: 160</span>"
            ],
            "text/plain": [
              "<IPython.core.display.HTML object>"
            ]
          },
          "metadata": {
            "tags": []
          }
        },
        {
          "output_type": "display_data",
          "data": {
            "text/html": [
              "<span style=\"color:cyan\"> |-item_embedding_dropout: 0.1</span>"
            ],
            "text/plain": [
              "<IPython.core.display.HTML object>"
            ]
          },
          "metadata": {
            "tags": []
          }
        },
        {
          "output_type": "display_data",
          "data": {
            "text/html": [
              "<span style=\"color:blue\"> |-item_embeddings_regularization_l2: 0.009231569429383173</span>"
            ],
            "text/plain": [
              "<IPython.core.display.HTML object>"
            ]
          },
          "metadata": {
            "tags": []
          }
        },
        {
          "output_type": "display_data",
          "data": {
            "text/html": [
              "<span style=\"color:cyan\"> |-learning_rate: 0.001</span>"
            ],
            "text/plain": [
              "<IPython.core.display.HTML object>"
            ]
          },
          "metadata": {
            "tags": []
          }
        },
        {
          "output_type": "display_data",
          "data": {
            "text/html": [
              "<span style=\"color:blue\"> |-user_dim: 67000</span>"
            ],
            "text/plain": [
              "<IPython.core.display.HTML object>"
            ]
          },
          "metadata": {
            "tags": []
          }
        },
        {
          "output_type": "display_data",
          "data": {
            "text/html": [
              "<span style=\"color:cyan\"> |-user_embedding_dropout: 0.1</span>"
            ],
            "text/plain": [
              "<IPython.core.display.HTML object>"
            ]
          },
          "metadata": {
            "tags": []
          }
        },
        {
          "output_type": "display_data",
          "data": {
            "text/html": [
              "<span style=\"color:blue\"> |-user_embeddings_regularization_l2: 9.294536845691967e-08</span>"
            ],
            "text/plain": [
              "<IPython.core.display.HTML object>"
            ]
          },
          "metadata": {
            "tags": []
          }
        },
        {
          "output_type": "display_data",
          "data": {
            "text/html": [
              "<span style=\"color:cyan\"> |-Score: 0.18039578199386597</span>"
            ],
            "text/plain": [
              "<IPython.core.display.HTML object>"
            ]
          },
          "metadata": {
            "tags": []
          }
        },
        {
          "output_type": "display_data",
          "data": {
            "text/html": [
              "<span style=\"color:cyan\"> |-Best step: 0</span>"
            ],
            "text/plain": [
              "<IPython.core.display.HTML object>"
            ]
          },
          "metadata": {
            "tags": []
          }
        },
        {
          "output_type": "stream",
          "text": [
            "/tensorflow-2.1.0/python3.6/tensorflow_core/python/framework/indexed_slices.py:433: UserWarning: Converting sparse IndexedSlices to a dense Tensor of unknown shape. This may consume a large amount of memory.\n",
            "  \"Converting sparse IndexedSlices to a dense Tensor of unknown shape. \"\n",
            "/tensorflow-2.1.0/python3.6/tensorflow_core/python/framework/indexed_slices.py:433: UserWarning: Converting sparse IndexedSlices to a dense Tensor of unknown shape. This may consume a large amount of memory.\n",
            "  \"Converting sparse IndexedSlices to a dense Tensor of unknown shape. \"\n"
          ],
          "name": "stderr"
        },
        {
          "output_type": "display_data",
          "data": {
            "text/html": [
              "<span style=\"color:#4527A0\"><h1 style=\"font-size:18px\">Trial complete</h1></span>"
            ],
            "text/plain": [
              "<IPython.core.display.HTML object>"
            ]
          },
          "metadata": {
            "tags": []
          }
        },
        {
          "output_type": "display_data",
          "data": {
            "text/html": [
              "<span style=\"color:#4527A0\"><h1 style=\"font-size:18px\">Trial summary</h1></span>"
            ],
            "text/plain": [
              "<IPython.core.display.HTML object>"
            ]
          },
          "metadata": {
            "tags": []
          }
        },
        {
          "output_type": "display_data",
          "data": {
            "text/html": [
              "<span style=\"color:#7E57C2\"><h2 style=\"font-size:16px\">Hp values:</h2></span>"
            ],
            "text/plain": [
              "<IPython.core.display.HTML object>"
            ]
          },
          "metadata": {
            "tags": []
          }
        },
        {
          "output_type": "display_data",
          "data": {
            "text/html": [
              "<span style=\"color:cyan\"> |-embedding_dim: 16</span>"
            ],
            "text/plain": [
              "<IPython.core.display.HTML object>"
            ]
          },
          "metadata": {
            "tags": []
          }
        },
        {
          "output_type": "display_data",
          "data": {
            "text/html": [
              "<span style=\"color:blue\"> |-item_dim: 160</span>"
            ],
            "text/plain": [
              "<IPython.core.display.HTML object>"
            ]
          },
          "metadata": {
            "tags": []
          }
        },
        {
          "output_type": "display_data",
          "data": {
            "text/html": [
              "<span style=\"color:cyan\"> |-item_embedding_dropout: 0.4</span>"
            ],
            "text/plain": [
              "<IPython.core.display.HTML object>"
            ]
          },
          "metadata": {
            "tags": []
          }
        },
        {
          "output_type": "display_data",
          "data": {
            "text/html": [
              "<span style=\"color:blue\"> |-item_embeddings_regularization_l2: 1.446615854600237e-06</span>"
            ],
            "text/plain": [
              "<IPython.core.display.HTML object>"
            ]
          },
          "metadata": {
            "tags": []
          }
        },
        {
          "output_type": "display_data",
          "data": {
            "text/html": [
              "<span style=\"color:cyan\"> |-learning_rate: 0.0001</span>"
            ],
            "text/plain": [
              "<IPython.core.display.HTML object>"
            ]
          },
          "metadata": {
            "tags": []
          }
        },
        {
          "output_type": "display_data",
          "data": {
            "text/html": [
              "<span style=\"color:blue\"> |-user_dim: 67000</span>"
            ],
            "text/plain": [
              "<IPython.core.display.HTML object>"
            ]
          },
          "metadata": {
            "tags": []
          }
        },
        {
          "output_type": "display_data",
          "data": {
            "text/html": [
              "<span style=\"color:cyan\"> |-user_embedding_dropout: 0.1</span>"
            ],
            "text/plain": [
              "<IPython.core.display.HTML object>"
            ]
          },
          "metadata": {
            "tags": []
          }
        },
        {
          "output_type": "display_data",
          "data": {
            "text/html": [
              "<span style=\"color:blue\"> |-user_embeddings_regularization_l2: 1.6936705667999212e-07</span>"
            ],
            "text/plain": [
              "<IPython.core.display.HTML object>"
            ]
          },
          "metadata": {
            "tags": []
          }
        },
        {
          "output_type": "display_data",
          "data": {
            "text/html": [
              "<span style=\"color:cyan\"> |-Score: 0.16996756331487137</span>"
            ],
            "text/plain": [
              "<IPython.core.display.HTML object>"
            ]
          },
          "metadata": {
            "tags": []
          }
        },
        {
          "output_type": "display_data",
          "data": {
            "text/html": [
              "<span style=\"color:cyan\"> |-Best step: 0</span>"
            ],
            "text/plain": [
              "<IPython.core.display.HTML object>"
            ]
          },
          "metadata": {
            "tags": []
          }
        },
        {
          "output_type": "stream",
          "text": [
            "/tensorflow-2.1.0/python3.6/tensorflow_core/python/framework/indexed_slices.py:433: UserWarning: Converting sparse IndexedSlices to a dense Tensor of unknown shape. This may consume a large amount of memory.\n",
            "  \"Converting sparse IndexedSlices to a dense Tensor of unknown shape. \"\n",
            "/tensorflow-2.1.0/python3.6/tensorflow_core/python/framework/indexed_slices.py:433: UserWarning: Converting sparse IndexedSlices to a dense Tensor of unknown shape. This may consume a large amount of memory.\n",
            "  \"Converting sparse IndexedSlices to a dense Tensor of unknown shape. \"\n"
          ],
          "name": "stderr"
        },
        {
          "output_type": "display_data",
          "data": {
            "text/html": [
              "<span style=\"color:#4527A0\"><h1 style=\"font-size:18px\">Trial complete</h1></span>"
            ],
            "text/plain": [
              "<IPython.core.display.HTML object>"
            ]
          },
          "metadata": {
            "tags": []
          }
        },
        {
          "output_type": "display_data",
          "data": {
            "text/html": [
              "<span style=\"color:#4527A0\"><h1 style=\"font-size:18px\">Trial summary</h1></span>"
            ],
            "text/plain": [
              "<IPython.core.display.HTML object>"
            ]
          },
          "metadata": {
            "tags": []
          }
        },
        {
          "output_type": "display_data",
          "data": {
            "text/html": [
              "<span style=\"color:#7E57C2\"><h2 style=\"font-size:16px\">Hp values:</h2></span>"
            ],
            "text/plain": [
              "<IPython.core.display.HTML object>"
            ]
          },
          "metadata": {
            "tags": []
          }
        },
        {
          "output_type": "display_data",
          "data": {
            "text/html": [
              "<span style=\"color:cyan\"> |-embedding_dim: 64</span>"
            ],
            "text/plain": [
              "<IPython.core.display.HTML object>"
            ]
          },
          "metadata": {
            "tags": []
          }
        },
        {
          "output_type": "display_data",
          "data": {
            "text/html": [
              "<span style=\"color:blue\"> |-item_dim: 160</span>"
            ],
            "text/plain": [
              "<IPython.core.display.HTML object>"
            ]
          },
          "metadata": {
            "tags": []
          }
        },
        {
          "output_type": "display_data",
          "data": {
            "text/html": [
              "<span style=\"color:cyan\"> |-item_embedding_dropout: 0.7000000000000001</span>"
            ],
            "text/plain": [
              "<IPython.core.display.HTML object>"
            ]
          },
          "metadata": {
            "tags": []
          }
        },
        {
          "output_type": "display_data",
          "data": {
            "text/html": [
              "<span style=\"color:blue\"> |-item_embeddings_regularization_l2: 0.02057864199589407</span>"
            ],
            "text/plain": [
              "<IPython.core.display.HTML object>"
            ]
          },
          "metadata": {
            "tags": []
          }
        },
        {
          "output_type": "display_data",
          "data": {
            "text/html": [
              "<span style=\"color:cyan\"> |-learning_rate: 0.003</span>"
            ],
            "text/plain": [
              "<IPython.core.display.HTML object>"
            ]
          },
          "metadata": {
            "tags": []
          }
        },
        {
          "output_type": "display_data",
          "data": {
            "text/html": [
              "<span style=\"color:blue\"> |-user_dim: 67000</span>"
            ],
            "text/plain": [
              "<IPython.core.display.HTML object>"
            ]
          },
          "metadata": {
            "tags": []
          }
        },
        {
          "output_type": "display_data",
          "data": {
            "text/html": [
              "<span style=\"color:cyan\"> |-user_embedding_dropout: 0.7000000000000001</span>"
            ],
            "text/plain": [
              "<IPython.core.display.HTML object>"
            ]
          },
          "metadata": {
            "tags": []
          }
        },
        {
          "output_type": "display_data",
          "data": {
            "text/html": [
              "<span style=\"color:blue\"> |-user_embeddings_regularization_l2: 0.0034313708973883555</span>"
            ],
            "text/plain": [
              "<IPython.core.display.HTML object>"
            ]
          },
          "metadata": {
            "tags": []
          }
        },
        {
          "output_type": "display_data",
          "data": {
            "text/html": [
              "<span style=\"color:cyan\"> |-Score: 0.17951885949481616</span>"
            ],
            "text/plain": [
              "<IPython.core.display.HTML object>"
            ]
          },
          "metadata": {
            "tags": []
          }
        },
        {
          "output_type": "display_data",
          "data": {
            "text/html": [
              "<span style=\"color:cyan\"> |-Best step: 0</span>"
            ],
            "text/plain": [
              "<IPython.core.display.HTML object>"
            ]
          },
          "metadata": {
            "tags": []
          }
        },
        {
          "output_type": "stream",
          "text": [
            "/tensorflow-2.1.0/python3.6/tensorflow_core/python/framework/indexed_slices.py:433: UserWarning: Converting sparse IndexedSlices to a dense Tensor of unknown shape. This may consume a large amount of memory.\n",
            "  \"Converting sparse IndexedSlices to a dense Tensor of unknown shape. \"\n",
            "/tensorflow-2.1.0/python3.6/tensorflow_core/python/framework/indexed_slices.py:433: UserWarning: Converting sparse IndexedSlices to a dense Tensor of unknown shape. This may consume a large amount of memory.\n",
            "  \"Converting sparse IndexedSlices to a dense Tensor of unknown shape. \"\n"
          ],
          "name": "stderr"
        },
        {
          "output_type": "display_data",
          "data": {
            "text/html": [
              "<span style=\"color:#4527A0\"><h1 style=\"font-size:18px\">Trial complete</h1></span>"
            ],
            "text/plain": [
              "<IPython.core.display.HTML object>"
            ]
          },
          "metadata": {
            "tags": []
          }
        },
        {
          "output_type": "display_data",
          "data": {
            "text/html": [
              "<span style=\"color:#4527A0\"><h1 style=\"font-size:18px\">Trial summary</h1></span>"
            ],
            "text/plain": [
              "<IPython.core.display.HTML object>"
            ]
          },
          "metadata": {
            "tags": []
          }
        },
        {
          "output_type": "display_data",
          "data": {
            "text/html": [
              "<span style=\"color:#7E57C2\"><h2 style=\"font-size:16px\">Hp values:</h2></span>"
            ],
            "text/plain": [
              "<IPython.core.display.HTML object>"
            ]
          },
          "metadata": {
            "tags": []
          }
        },
        {
          "output_type": "display_data",
          "data": {
            "text/html": [
              "<span style=\"color:cyan\"> |-embedding_dim: 32</span>"
            ],
            "text/plain": [
              "<IPython.core.display.HTML object>"
            ]
          },
          "metadata": {
            "tags": []
          }
        },
        {
          "output_type": "display_data",
          "data": {
            "text/html": [
              "<span style=\"color:blue\"> |-item_dim: 160</span>"
            ],
            "text/plain": [
              "<IPython.core.display.HTML object>"
            ]
          },
          "metadata": {
            "tags": []
          }
        },
        {
          "output_type": "display_data",
          "data": {
            "text/html": [
              "<span style=\"color:cyan\"> |-item_embedding_dropout: 0.1</span>"
            ],
            "text/plain": [
              "<IPython.core.display.HTML object>"
            ]
          },
          "metadata": {
            "tags": []
          }
        },
        {
          "output_type": "display_data",
          "data": {
            "text/html": [
              "<span style=\"color:blue\"> |-item_embeddings_regularization_l2: 0.00017631263457589327</span>"
            ],
            "text/plain": [
              "<IPython.core.display.HTML object>"
            ]
          },
          "metadata": {
            "tags": []
          }
        },
        {
          "output_type": "display_data",
          "data": {
            "text/html": [
              "<span style=\"color:cyan\"> |-learning_rate: 0.0005</span>"
            ],
            "text/plain": [
              "<IPython.core.display.HTML object>"
            ]
          },
          "metadata": {
            "tags": []
          }
        },
        {
          "output_type": "display_data",
          "data": {
            "text/html": [
              "<span style=\"color:blue\"> |-user_dim: 67000</span>"
            ],
            "text/plain": [
              "<IPython.core.display.HTML object>"
            ]
          },
          "metadata": {
            "tags": []
          }
        },
        {
          "output_type": "display_data",
          "data": {
            "text/html": [
              "<span style=\"color:cyan\"> |-user_embedding_dropout: 0.1</span>"
            ],
            "text/plain": [
              "<IPython.core.display.HTML object>"
            ]
          },
          "metadata": {
            "tags": []
          }
        },
        {
          "output_type": "display_data",
          "data": {
            "text/html": [
              "<span style=\"color:blue\"> |-user_embeddings_regularization_l2: 1.768506343861688e-07</span>"
            ],
            "text/plain": [
              "<IPython.core.display.HTML object>"
            ]
          },
          "metadata": {
            "tags": []
          }
        },
        {
          "output_type": "display_data",
          "data": {
            "text/html": [
              "<span style=\"color:cyan\"> |-Score: 0.18071508339860223</span>"
            ],
            "text/plain": [
              "<IPython.core.display.HTML object>"
            ]
          },
          "metadata": {
            "tags": []
          }
        },
        {
          "output_type": "display_data",
          "data": {
            "text/html": [
              "<span style=\"color:cyan\"> |-Best step: 0</span>"
            ],
            "text/plain": [
              "<IPython.core.display.HTML object>"
            ]
          },
          "metadata": {
            "tags": []
          }
        },
        {
          "output_type": "stream",
          "text": [
            "/tensorflow-2.1.0/python3.6/tensorflow_core/python/framework/indexed_slices.py:433: UserWarning: Converting sparse IndexedSlices to a dense Tensor of unknown shape. This may consume a large amount of memory.\n",
            "  \"Converting sparse IndexedSlices to a dense Tensor of unknown shape. \"\n",
            "/tensorflow-2.1.0/python3.6/tensorflow_core/python/framework/indexed_slices.py:433: UserWarning: Converting sparse IndexedSlices to a dense Tensor of unknown shape. This may consume a large amount of memory.\n",
            "  \"Converting sparse IndexedSlices to a dense Tensor of unknown shape. \"\n"
          ],
          "name": "stderr"
        },
        {
          "output_type": "display_data",
          "data": {
            "text/html": [
              "<span style=\"color:#4527A0\"><h1 style=\"font-size:18px\">Trial complete</h1></span>"
            ],
            "text/plain": [
              "<IPython.core.display.HTML object>"
            ]
          },
          "metadata": {
            "tags": []
          }
        },
        {
          "output_type": "display_data",
          "data": {
            "text/html": [
              "<span style=\"color:#4527A0\"><h1 style=\"font-size:18px\">Trial summary</h1></span>"
            ],
            "text/plain": [
              "<IPython.core.display.HTML object>"
            ]
          },
          "metadata": {
            "tags": []
          }
        },
        {
          "output_type": "display_data",
          "data": {
            "text/html": [
              "<span style=\"color:#7E57C2\"><h2 style=\"font-size:16px\">Hp values:</h2></span>"
            ],
            "text/plain": [
              "<IPython.core.display.HTML object>"
            ]
          },
          "metadata": {
            "tags": []
          }
        },
        {
          "output_type": "display_data",
          "data": {
            "text/html": [
              "<span style=\"color:cyan\"> |-embedding_dim: 64</span>"
            ],
            "text/plain": [
              "<IPython.core.display.HTML object>"
            ]
          },
          "metadata": {
            "tags": []
          }
        },
        {
          "output_type": "display_data",
          "data": {
            "text/html": [
              "<span style=\"color:blue\"> |-item_dim: 160</span>"
            ],
            "text/plain": [
              "<IPython.core.display.HTML object>"
            ]
          },
          "metadata": {
            "tags": []
          }
        },
        {
          "output_type": "display_data",
          "data": {
            "text/html": [
              "<span style=\"color:cyan\"> |-item_embedding_dropout: 0.30000000000000004</span>"
            ],
            "text/plain": [
              "<IPython.core.display.HTML object>"
            ]
          },
          "metadata": {
            "tags": []
          }
        },
        {
          "output_type": "display_data",
          "data": {
            "text/html": [
              "<span style=\"color:blue\"> |-item_embeddings_regularization_l2: 0.001657936533887572</span>"
            ],
            "text/plain": [
              "<IPython.core.display.HTML object>"
            ]
          },
          "metadata": {
            "tags": []
          }
        },
        {
          "output_type": "display_data",
          "data": {
            "text/html": [
              "<span style=\"color:cyan\"> |-learning_rate: 0.003</span>"
            ],
            "text/plain": [
              "<IPython.core.display.HTML object>"
            ]
          },
          "metadata": {
            "tags": []
          }
        },
        {
          "output_type": "display_data",
          "data": {
            "text/html": [
              "<span style=\"color:blue\"> |-user_dim: 67000</span>"
            ],
            "text/plain": [
              "<IPython.core.display.HTML object>"
            ]
          },
          "metadata": {
            "tags": []
          }
        },
        {
          "output_type": "display_data",
          "data": {
            "text/html": [
              "<span style=\"color:cyan\"> |-user_embedding_dropout: 0.2</span>"
            ],
            "text/plain": [
              "<IPython.core.display.HTML object>"
            ]
          },
          "metadata": {
            "tags": []
          }
        },
        {
          "output_type": "display_data",
          "data": {
            "text/html": [
              "<span style=\"color:blue\"> |-user_embeddings_regularization_l2: 7.029011431454699e-06</span>"
            ],
            "text/plain": [
              "<IPython.core.display.HTML object>"
            ]
          },
          "metadata": {
            "tags": []
          }
        },
        {
          "output_type": "display_data",
          "data": {
            "text/html": [
              "<span style=\"color:cyan\"> |-Score: 0.17951631478287958</span>"
            ],
            "text/plain": [
              "<IPython.core.display.HTML object>"
            ]
          },
          "metadata": {
            "tags": []
          }
        },
        {
          "output_type": "display_data",
          "data": {
            "text/html": [
              "<span style=\"color:cyan\"> |-Best step: 0</span>"
            ],
            "text/plain": [
              "<IPython.core.display.HTML object>"
            ]
          },
          "metadata": {
            "tags": []
          }
        },
        {
          "output_type": "stream",
          "text": [
            "/tensorflow-2.1.0/python3.6/tensorflow_core/python/framework/indexed_slices.py:433: UserWarning: Converting sparse IndexedSlices to a dense Tensor of unknown shape. This may consume a large amount of memory.\n",
            "  \"Converting sparse IndexedSlices to a dense Tensor of unknown shape. \"\n",
            "/tensorflow-2.1.0/python3.6/tensorflow_core/python/framework/indexed_slices.py:433: UserWarning: Converting sparse IndexedSlices to a dense Tensor of unknown shape. This may consume a large amount of memory.\n",
            "  \"Converting sparse IndexedSlices to a dense Tensor of unknown shape. \"\n"
          ],
          "name": "stderr"
        },
        {
          "output_type": "display_data",
          "data": {
            "text/html": [
              "<span style=\"color:#4527A0\"><h1 style=\"font-size:18px\">Trial complete</h1></span>"
            ],
            "text/plain": [
              "<IPython.core.display.HTML object>"
            ]
          },
          "metadata": {
            "tags": []
          }
        },
        {
          "output_type": "display_data",
          "data": {
            "text/html": [
              "<span style=\"color:#4527A0\"><h1 style=\"font-size:18px\">Trial summary</h1></span>"
            ],
            "text/plain": [
              "<IPython.core.display.HTML object>"
            ]
          },
          "metadata": {
            "tags": []
          }
        },
        {
          "output_type": "display_data",
          "data": {
            "text/html": [
              "<span style=\"color:#7E57C2\"><h2 style=\"font-size:16px\">Hp values:</h2></span>"
            ],
            "text/plain": [
              "<IPython.core.display.HTML object>"
            ]
          },
          "metadata": {
            "tags": []
          }
        },
        {
          "output_type": "display_data",
          "data": {
            "text/html": [
              "<span style=\"color:cyan\"> |-embedding_dim: 128</span>"
            ],
            "text/plain": [
              "<IPython.core.display.HTML object>"
            ]
          },
          "metadata": {
            "tags": []
          }
        },
        {
          "output_type": "display_data",
          "data": {
            "text/html": [
              "<span style=\"color:blue\"> |-item_dim: 160</span>"
            ],
            "text/plain": [
              "<IPython.core.display.HTML object>"
            ]
          },
          "metadata": {
            "tags": []
          }
        },
        {
          "output_type": "display_data",
          "data": {
            "text/html": [
              "<span style=\"color:cyan\"> |-item_embedding_dropout: 0.6000000000000001</span>"
            ],
            "text/plain": [
              "<IPython.core.display.HTML object>"
            ]
          },
          "metadata": {
            "tags": []
          }
        },
        {
          "output_type": "display_data",
          "data": {
            "text/html": [
              "<span style=\"color:blue\"> |-item_embeddings_regularization_l2: 7.286842776606386e-05</span>"
            ],
            "text/plain": [
              "<IPython.core.display.HTML object>"
            ]
          },
          "metadata": {
            "tags": []
          }
        },
        {
          "output_type": "display_data",
          "data": {
            "text/html": [
              "<span style=\"color:cyan\"> |-learning_rate: 0.0001</span>"
            ],
            "text/plain": [
              "<IPython.core.display.HTML object>"
            ]
          },
          "metadata": {
            "tags": []
          }
        },
        {
          "output_type": "display_data",
          "data": {
            "text/html": [
              "<span style=\"color:blue\"> |-user_dim: 67000</span>"
            ],
            "text/plain": [
              "<IPython.core.display.HTML object>"
            ]
          },
          "metadata": {
            "tags": []
          }
        },
        {
          "output_type": "display_data",
          "data": {
            "text/html": [
              "<span style=\"color:cyan\"> |-user_embedding_dropout: 0.4</span>"
            ],
            "text/plain": [
              "<IPython.core.display.HTML object>"
            ]
          },
          "metadata": {
            "tags": []
          }
        },
        {
          "output_type": "display_data",
          "data": {
            "text/html": [
              "<span style=\"color:blue\"> |-user_embeddings_regularization_l2: 7.41187041582166e-05</span>"
            ],
            "text/plain": [
              "<IPython.core.display.HTML object>"
            ]
          },
          "metadata": {
            "tags": []
          }
        },
        {
          "output_type": "display_data",
          "data": {
            "text/html": [
              "<span style=\"color:cyan\"> |-Score: 0.19154857911846854</span>"
            ],
            "text/plain": [
              "<IPython.core.display.HTML object>"
            ]
          },
          "metadata": {
            "tags": []
          }
        },
        {
          "output_type": "display_data",
          "data": {
            "text/html": [
              "<span style=\"color:cyan\"> |-Best step: 0</span>"
            ],
            "text/plain": [
              "<IPython.core.display.HTML object>"
            ]
          },
          "metadata": {
            "tags": []
          }
        },
        {
          "output_type": "stream",
          "text": [
            "/tensorflow-2.1.0/python3.6/tensorflow_core/python/framework/indexed_slices.py:433: UserWarning: Converting sparse IndexedSlices to a dense Tensor of unknown shape. This may consume a large amount of memory.\n",
            "  \"Converting sparse IndexedSlices to a dense Tensor of unknown shape. \"\n",
            "/tensorflow-2.1.0/python3.6/tensorflow_core/python/framework/indexed_slices.py:433: UserWarning: Converting sparse IndexedSlices to a dense Tensor of unknown shape. This may consume a large amount of memory.\n",
            "  \"Converting sparse IndexedSlices to a dense Tensor of unknown shape. \"\n"
          ],
          "name": "stderr"
        },
        {
          "output_type": "display_data",
          "data": {
            "text/html": [
              "<span style=\"color:#4527A0\"><h1 style=\"font-size:18px\">Trial complete</h1></span>"
            ],
            "text/plain": [
              "<IPython.core.display.HTML object>"
            ]
          },
          "metadata": {
            "tags": []
          }
        },
        {
          "output_type": "display_data",
          "data": {
            "text/html": [
              "<span style=\"color:#4527A0\"><h1 style=\"font-size:18px\">Trial summary</h1></span>"
            ],
            "text/plain": [
              "<IPython.core.display.HTML object>"
            ]
          },
          "metadata": {
            "tags": []
          }
        },
        {
          "output_type": "display_data",
          "data": {
            "text/html": [
              "<span style=\"color:#7E57C2\"><h2 style=\"font-size:16px\">Hp values:</h2></span>"
            ],
            "text/plain": [
              "<IPython.core.display.HTML object>"
            ]
          },
          "metadata": {
            "tags": []
          }
        },
        {
          "output_type": "display_data",
          "data": {
            "text/html": [
              "<span style=\"color:cyan\"> |-embedding_dim: 32</span>"
            ],
            "text/plain": [
              "<IPython.core.display.HTML object>"
            ]
          },
          "metadata": {
            "tags": []
          }
        },
        {
          "output_type": "display_data",
          "data": {
            "text/html": [
              "<span style=\"color:blue\"> |-item_dim: 160</span>"
            ],
            "text/plain": [
              "<IPython.core.display.HTML object>"
            ]
          },
          "metadata": {
            "tags": []
          }
        },
        {
          "output_type": "display_data",
          "data": {
            "text/html": [
              "<span style=\"color:cyan\"> |-item_embedding_dropout: 0.2</span>"
            ],
            "text/plain": [
              "<IPython.core.display.HTML object>"
            ]
          },
          "metadata": {
            "tags": []
          }
        },
        {
          "output_type": "display_data",
          "data": {
            "text/html": [
              "<span style=\"color:blue\"> |-item_embeddings_regularization_l2: 0.002612780617822253</span>"
            ],
            "text/plain": [
              "<IPython.core.display.HTML object>"
            ]
          },
          "metadata": {
            "tags": []
          }
        },
        {
          "output_type": "display_data",
          "data": {
            "text/html": [
              "<span style=\"color:cyan\"> |-learning_rate: 0.001</span>"
            ],
            "text/plain": [
              "<IPython.core.display.HTML object>"
            ]
          },
          "metadata": {
            "tags": []
          }
        },
        {
          "output_type": "display_data",
          "data": {
            "text/html": [
              "<span style=\"color:blue\"> |-user_dim: 67000</span>"
            ],
            "text/plain": [
              "<IPython.core.display.HTML object>"
            ]
          },
          "metadata": {
            "tags": []
          }
        },
        {
          "output_type": "display_data",
          "data": {
            "text/html": [
              "<span style=\"color:cyan\"> |-user_embedding_dropout: 0.2</span>"
            ],
            "text/plain": [
              "<IPython.core.display.HTML object>"
            ]
          },
          "metadata": {
            "tags": []
          }
        },
        {
          "output_type": "display_data",
          "data": {
            "text/html": [
              "<span style=\"color:blue\"> |-user_embeddings_regularization_l2: 0.04383067171889122</span>"
            ],
            "text/plain": [
              "<IPython.core.display.HTML object>"
            ]
          },
          "metadata": {
            "tags": []
          }
        },
        {
          "output_type": "display_data",
          "data": {
            "text/html": [
              "<span style=\"color:cyan\"> |-Score: 0.17906984483653848</span>"
            ],
            "text/plain": [
              "<IPython.core.display.HTML object>"
            ]
          },
          "metadata": {
            "tags": []
          }
        },
        {
          "output_type": "display_data",
          "data": {
            "text/html": [
              "<span style=\"color:cyan\"> |-Best step: 0</span>"
            ],
            "text/plain": [
              "<IPython.core.display.HTML object>"
            ]
          },
          "metadata": {
            "tags": []
          }
        },
        {
          "output_type": "stream",
          "text": [
            "/tensorflow-2.1.0/python3.6/tensorflow_core/python/framework/indexed_slices.py:433: UserWarning: Converting sparse IndexedSlices to a dense Tensor of unknown shape. This may consume a large amount of memory.\n",
            "  \"Converting sparse IndexedSlices to a dense Tensor of unknown shape. \"\n",
            "/tensorflow-2.1.0/python3.6/tensorflow_core/python/framework/indexed_slices.py:433: UserWarning: Converting sparse IndexedSlices to a dense Tensor of unknown shape. This may consume a large amount of memory.\n",
            "  \"Converting sparse IndexedSlices to a dense Tensor of unknown shape. \"\n"
          ],
          "name": "stderr"
        },
        {
          "output_type": "display_data",
          "data": {
            "text/html": [
              "<span style=\"color:#4527A0\"><h1 style=\"font-size:18px\">Trial complete</h1></span>"
            ],
            "text/plain": [
              "<IPython.core.display.HTML object>"
            ]
          },
          "metadata": {
            "tags": []
          }
        },
        {
          "output_type": "display_data",
          "data": {
            "text/html": [
              "<span style=\"color:#4527A0\"><h1 style=\"font-size:18px\">Trial summary</h1></span>"
            ],
            "text/plain": [
              "<IPython.core.display.HTML object>"
            ]
          },
          "metadata": {
            "tags": []
          }
        },
        {
          "output_type": "display_data",
          "data": {
            "text/html": [
              "<span style=\"color:#7E57C2\"><h2 style=\"font-size:16px\">Hp values:</h2></span>"
            ],
            "text/plain": [
              "<IPython.core.display.HTML object>"
            ]
          },
          "metadata": {
            "tags": []
          }
        },
        {
          "output_type": "display_data",
          "data": {
            "text/html": [
              "<span style=\"color:cyan\"> |-embedding_dim: 256</span>"
            ],
            "text/plain": [
              "<IPython.core.display.HTML object>"
            ]
          },
          "metadata": {
            "tags": []
          }
        },
        {
          "output_type": "display_data",
          "data": {
            "text/html": [
              "<span style=\"color:blue\"> |-item_dim: 160</span>"
            ],
            "text/plain": [
              "<IPython.core.display.HTML object>"
            ]
          },
          "metadata": {
            "tags": []
          }
        },
        {
          "output_type": "display_data",
          "data": {
            "text/html": [
              "<span style=\"color:cyan\"> |-item_embedding_dropout: 0.5</span>"
            ],
            "text/plain": [
              "<IPython.core.display.HTML object>"
            ]
          },
          "metadata": {
            "tags": []
          }
        },
        {
          "output_type": "display_data",
          "data": {
            "text/html": [
              "<span style=\"color:blue\"> |-item_embeddings_regularization_l2: 1.0223493668776873e-08</span>"
            ],
            "text/plain": [
              "<IPython.core.display.HTML object>"
            ]
          },
          "metadata": {
            "tags": []
          }
        },
        {
          "output_type": "display_data",
          "data": {
            "text/html": [
              "<span style=\"color:cyan\"> |-learning_rate: 0.003</span>"
            ],
            "text/plain": [
              "<IPython.core.display.HTML object>"
            ]
          },
          "metadata": {
            "tags": []
          }
        },
        {
          "output_type": "display_data",
          "data": {
            "text/html": [
              "<span style=\"color:blue\"> |-user_dim: 67000</span>"
            ],
            "text/plain": [
              "<IPython.core.display.HTML object>"
            ]
          },
          "metadata": {
            "tags": []
          }
        },
        {
          "output_type": "display_data",
          "data": {
            "text/html": [
              "<span style=\"color:cyan\"> |-user_embedding_dropout: 0.7000000000000001</span>"
            ],
            "text/plain": [
              "<IPython.core.display.HTML object>"
            ]
          },
          "metadata": {
            "tags": []
          }
        },
        {
          "output_type": "display_data",
          "data": {
            "text/html": [
              "<span style=\"color:blue\"> |-user_embeddings_regularization_l2: 0.0013573739633792642</span>"
            ],
            "text/plain": [
              "<IPython.core.display.HTML object>"
            ]
          },
          "metadata": {
            "tags": []
          }
        },
        {
          "output_type": "display_data",
          "data": {
            "text/html": [
              "<span style=\"color:cyan\"> |-Score: 0.17894591865214435</span>"
            ],
            "text/plain": [
              "<IPython.core.display.HTML object>"
            ]
          },
          "metadata": {
            "tags": []
          }
        },
        {
          "output_type": "display_data",
          "data": {
            "text/html": [
              "<span style=\"color:cyan\"> |-Best step: 0</span>"
            ],
            "text/plain": [
              "<IPython.core.display.HTML object>"
            ]
          },
          "metadata": {
            "tags": []
          }
        },
        {
          "output_type": "stream",
          "text": [
            "/tensorflow-2.1.0/python3.6/tensorflow_core/python/framework/indexed_slices.py:433: UserWarning: Converting sparse IndexedSlices to a dense Tensor of unknown shape. This may consume a large amount of memory.\n",
            "  \"Converting sparse IndexedSlices to a dense Tensor of unknown shape. \"\n",
            "/tensorflow-2.1.0/python3.6/tensorflow_core/python/framework/indexed_slices.py:433: UserWarning: Converting sparse IndexedSlices to a dense Tensor of unknown shape. This may consume a large amount of memory.\n",
            "  \"Converting sparse IndexedSlices to a dense Tensor of unknown shape. \"\n"
          ],
          "name": "stderr"
        },
        {
          "output_type": "display_data",
          "data": {
            "text/html": [
              "<span style=\"color:#4527A0\"><h1 style=\"font-size:18px\">Trial complete</h1></span>"
            ],
            "text/plain": [
              "<IPython.core.display.HTML object>"
            ]
          },
          "metadata": {
            "tags": []
          }
        },
        {
          "output_type": "display_data",
          "data": {
            "text/html": [
              "<span style=\"color:#4527A0\"><h1 style=\"font-size:18px\">Trial summary</h1></span>"
            ],
            "text/plain": [
              "<IPython.core.display.HTML object>"
            ]
          },
          "metadata": {
            "tags": []
          }
        },
        {
          "output_type": "display_data",
          "data": {
            "text/html": [
              "<span style=\"color:#7E57C2\"><h2 style=\"font-size:16px\">Hp values:</h2></span>"
            ],
            "text/plain": [
              "<IPython.core.display.HTML object>"
            ]
          },
          "metadata": {
            "tags": []
          }
        },
        {
          "output_type": "display_data",
          "data": {
            "text/html": [
              "<span style=\"color:cyan\"> |-embedding_dim: 64</span>"
            ],
            "text/plain": [
              "<IPython.core.display.HTML object>"
            ]
          },
          "metadata": {
            "tags": []
          }
        },
        {
          "output_type": "display_data",
          "data": {
            "text/html": [
              "<span style=\"color:blue\"> |-item_dim: 160</span>"
            ],
            "text/plain": [
              "<IPython.core.display.HTML object>"
            ]
          },
          "metadata": {
            "tags": []
          }
        },
        {
          "output_type": "display_data",
          "data": {
            "text/html": [
              "<span style=\"color:cyan\"> |-item_embedding_dropout: 0.8</span>"
            ],
            "text/plain": [
              "<IPython.core.display.HTML object>"
            ]
          },
          "metadata": {
            "tags": []
          }
        },
        {
          "output_type": "display_data",
          "data": {
            "text/html": [
              "<span style=\"color:blue\"> |-item_embeddings_regularization_l2: 0.010578031439247208</span>"
            ],
            "text/plain": [
              "<IPython.core.display.HTML object>"
            ]
          },
          "metadata": {
            "tags": []
          }
        },
        {
          "output_type": "display_data",
          "data": {
            "text/html": [
              "<span style=\"color:cyan\"> |-learning_rate: 0.001</span>"
            ],
            "text/plain": [
              "<IPython.core.display.HTML object>"
            ]
          },
          "metadata": {
            "tags": []
          }
        },
        {
          "output_type": "display_data",
          "data": {
            "text/html": [
              "<span style=\"color:blue\"> |-user_dim: 67000</span>"
            ],
            "text/plain": [
              "<IPython.core.display.HTML object>"
            ]
          },
          "metadata": {
            "tags": []
          }
        },
        {
          "output_type": "display_data",
          "data": {
            "text/html": [
              "<span style=\"color:cyan\"> |-user_embedding_dropout: 0.4</span>"
            ],
            "text/plain": [
              "<IPython.core.display.HTML object>"
            ]
          },
          "metadata": {
            "tags": []
          }
        },
        {
          "output_type": "display_data",
          "data": {
            "text/html": [
              "<span style=\"color:blue\"> |-user_embeddings_regularization_l2: 0.002774646204813261</span>"
            ],
            "text/plain": [
              "<IPython.core.display.HTML object>"
            ]
          },
          "metadata": {
            "tags": []
          }
        },
        {
          "output_type": "display_data",
          "data": {
            "text/html": [
              "<span style=\"color:cyan\"> |-Score: 0.17908000133254312</span>"
            ],
            "text/plain": [
              "<IPython.core.display.HTML object>"
            ]
          },
          "metadata": {
            "tags": []
          }
        },
        {
          "output_type": "display_data",
          "data": {
            "text/html": [
              "<span style=\"color:cyan\"> |-Best step: 0</span>"
            ],
            "text/plain": [
              "<IPython.core.display.HTML object>"
            ]
          },
          "metadata": {
            "tags": []
          }
        },
        {
          "output_type": "stream",
          "text": [
            "/tensorflow-2.1.0/python3.6/tensorflow_core/python/framework/indexed_slices.py:433: UserWarning: Converting sparse IndexedSlices to a dense Tensor of unknown shape. This may consume a large amount of memory.\n",
            "  \"Converting sparse IndexedSlices to a dense Tensor of unknown shape. \"\n",
            "/tensorflow-2.1.0/python3.6/tensorflow_core/python/framework/indexed_slices.py:433: UserWarning: Converting sparse IndexedSlices to a dense Tensor of unknown shape. This may consume a large amount of memory.\n",
            "  \"Converting sparse IndexedSlices to a dense Tensor of unknown shape. \"\n"
          ],
          "name": "stderr"
        },
        {
          "output_type": "display_data",
          "data": {
            "text/html": [
              "<span style=\"color:#4527A0\"><h1 style=\"font-size:18px\">Trial complete</h1></span>"
            ],
            "text/plain": [
              "<IPython.core.display.HTML object>"
            ]
          },
          "metadata": {
            "tags": []
          }
        },
        {
          "output_type": "display_data",
          "data": {
            "text/html": [
              "<span style=\"color:#4527A0\"><h1 style=\"font-size:18px\">Trial summary</h1></span>"
            ],
            "text/plain": [
              "<IPython.core.display.HTML object>"
            ]
          },
          "metadata": {
            "tags": []
          }
        },
        {
          "output_type": "display_data",
          "data": {
            "text/html": [
              "<span style=\"color:#7E57C2\"><h2 style=\"font-size:16px\">Hp values:</h2></span>"
            ],
            "text/plain": [
              "<IPython.core.display.HTML object>"
            ]
          },
          "metadata": {
            "tags": []
          }
        },
        {
          "output_type": "display_data",
          "data": {
            "text/html": [
              "<span style=\"color:cyan\"> |-embedding_dim: 128</span>"
            ],
            "text/plain": [
              "<IPython.core.display.HTML object>"
            ]
          },
          "metadata": {
            "tags": []
          }
        },
        {
          "output_type": "display_data",
          "data": {
            "text/html": [
              "<span style=\"color:blue\"> |-item_dim: 160</span>"
            ],
            "text/plain": [
              "<IPython.core.display.HTML object>"
            ]
          },
          "metadata": {
            "tags": []
          }
        },
        {
          "output_type": "display_data",
          "data": {
            "text/html": [
              "<span style=\"color:cyan\"> |-item_embedding_dropout: 0.2</span>"
            ],
            "text/plain": [
              "<IPython.core.display.HTML object>"
            ]
          },
          "metadata": {
            "tags": []
          }
        },
        {
          "output_type": "display_data",
          "data": {
            "text/html": [
              "<span style=\"color:blue\"> |-item_embeddings_regularization_l2: 3.2893165032161675e-05</span>"
            ],
            "text/plain": [
              "<IPython.core.display.HTML object>"
            ]
          },
          "metadata": {
            "tags": []
          }
        },
        {
          "output_type": "display_data",
          "data": {
            "text/html": [
              "<span style=\"color:cyan\"> |-learning_rate: 0.0001</span>"
            ],
            "text/plain": [
              "<IPython.core.display.HTML object>"
            ]
          },
          "metadata": {
            "tags": []
          }
        },
        {
          "output_type": "display_data",
          "data": {
            "text/html": [
              "<span style=\"color:blue\"> |-user_dim: 67000</span>"
            ],
            "text/plain": [
              "<IPython.core.display.HTML object>"
            ]
          },
          "metadata": {
            "tags": []
          }
        },
        {
          "output_type": "display_data",
          "data": {
            "text/html": [
              "<span style=\"color:cyan\"> |-user_embedding_dropout: 0.2</span>"
            ],
            "text/plain": [
              "<IPython.core.display.HTML object>"
            ]
          },
          "metadata": {
            "tags": []
          }
        },
        {
          "output_type": "display_data",
          "data": {
            "text/html": [
              "<span style=\"color:blue\"> |-user_embeddings_regularization_l2: 8.110517043004835e-08</span>"
            ],
            "text/plain": [
              "<IPython.core.display.HTML object>"
            ]
          },
          "metadata": {
            "tags": []
          }
        },
        {
          "output_type": "display_data",
          "data": {
            "text/html": [
              "<span style=\"color:cyan\"> |-Score: 0.17949677394195038</span>"
            ],
            "text/plain": [
              "<IPython.core.display.HTML object>"
            ]
          },
          "metadata": {
            "tags": []
          }
        },
        {
          "output_type": "display_data",
          "data": {
            "text/html": [
              "<span style=\"color:cyan\"> |-Best step: 0</span>"
            ],
            "text/plain": [
              "<IPython.core.display.HTML object>"
            ]
          },
          "metadata": {
            "tags": []
          }
        },
        {
          "output_type": "stream",
          "text": [
            "/tensorflow-2.1.0/python3.6/tensorflow_core/python/framework/indexed_slices.py:433: UserWarning: Converting sparse IndexedSlices to a dense Tensor of unknown shape. This may consume a large amount of memory.\n",
            "  \"Converting sparse IndexedSlices to a dense Tensor of unknown shape. \"\n",
            "/tensorflow-2.1.0/python3.6/tensorflow_core/python/framework/indexed_slices.py:433: UserWarning: Converting sparse IndexedSlices to a dense Tensor of unknown shape. This may consume a large amount of memory.\n",
            "  \"Converting sparse IndexedSlices to a dense Tensor of unknown shape. \"\n"
          ],
          "name": "stderr"
        },
        {
          "output_type": "display_data",
          "data": {
            "text/html": [
              "<span style=\"color:#4527A0\"><h1 style=\"font-size:18px\">Trial complete</h1></span>"
            ],
            "text/plain": [
              "<IPython.core.display.HTML object>"
            ]
          },
          "metadata": {
            "tags": []
          }
        },
        {
          "output_type": "display_data",
          "data": {
            "text/html": [
              "<span style=\"color:#4527A0\"><h1 style=\"font-size:18px\">Trial summary</h1></span>"
            ],
            "text/plain": [
              "<IPython.core.display.HTML object>"
            ]
          },
          "metadata": {
            "tags": []
          }
        },
        {
          "output_type": "display_data",
          "data": {
            "text/html": [
              "<span style=\"color:#7E57C2\"><h2 style=\"font-size:16px\">Hp values:</h2></span>"
            ],
            "text/plain": [
              "<IPython.core.display.HTML object>"
            ]
          },
          "metadata": {
            "tags": []
          }
        },
        {
          "output_type": "display_data",
          "data": {
            "text/html": [
              "<span style=\"color:cyan\"> |-embedding_dim: 16</span>"
            ],
            "text/plain": [
              "<IPython.core.display.HTML object>"
            ]
          },
          "metadata": {
            "tags": []
          }
        },
        {
          "output_type": "display_data",
          "data": {
            "text/html": [
              "<span style=\"color:blue\"> |-item_dim: 160</span>"
            ],
            "text/plain": [
              "<IPython.core.display.HTML object>"
            ]
          },
          "metadata": {
            "tags": []
          }
        },
        {
          "output_type": "display_data",
          "data": {
            "text/html": [
              "<span style=\"color:cyan\"> |-item_embedding_dropout: 0.5</span>"
            ],
            "text/plain": [
              "<IPython.core.display.HTML object>"
            ]
          },
          "metadata": {
            "tags": []
          }
        },
        {
          "output_type": "display_data",
          "data": {
            "text/html": [
              "<span style=\"color:blue\"> |-item_embeddings_regularization_l2: 1.573458005056722e-06</span>"
            ],
            "text/plain": [
              "<IPython.core.display.HTML object>"
            ]
          },
          "metadata": {
            "tags": []
          }
        },
        {
          "output_type": "display_data",
          "data": {
            "text/html": [
              "<span style=\"color:cyan\"> |-learning_rate: 0.003</span>"
            ],
            "text/plain": [
              "<IPython.core.display.HTML object>"
            ]
          },
          "metadata": {
            "tags": []
          }
        },
        {
          "output_type": "display_data",
          "data": {
            "text/html": [
              "<span style=\"color:blue\"> |-user_dim: 67000</span>"
            ],
            "text/plain": [
              "<IPython.core.display.HTML object>"
            ]
          },
          "metadata": {
            "tags": []
          }
        },
        {
          "output_type": "display_data",
          "data": {
            "text/html": [
              "<span style=\"color:cyan\"> |-user_embedding_dropout: 0.7000000000000001</span>"
            ],
            "text/plain": [
              "<IPython.core.display.HTML object>"
            ]
          },
          "metadata": {
            "tags": []
          }
        },
        {
          "output_type": "display_data",
          "data": {
            "text/html": [
              "<span style=\"color:blue\"> |-user_embeddings_regularization_l2: 8.866790718052752e-07</span>"
            ],
            "text/plain": [
              "<IPython.core.display.HTML object>"
            ]
          },
          "metadata": {
            "tags": []
          }
        },
        {
          "output_type": "display_data",
          "data": {
            "text/html": [
              "<span style=\"color:cyan\"> |-Score: 0.17032155936414545</span>"
            ],
            "text/plain": [
              "<IPython.core.display.HTML object>"
            ]
          },
          "metadata": {
            "tags": []
          }
        },
        {
          "output_type": "display_data",
          "data": {
            "text/html": [
              "<span style=\"color:cyan\"> |-Best step: 0</span>"
            ],
            "text/plain": [
              "<IPython.core.display.HTML object>"
            ]
          },
          "metadata": {
            "tags": []
          }
        },
        {
          "output_type": "stream",
          "text": [
            "/tensorflow-2.1.0/python3.6/tensorflow_core/python/framework/indexed_slices.py:433: UserWarning: Converting sparse IndexedSlices to a dense Tensor of unknown shape. This may consume a large amount of memory.\n",
            "  \"Converting sparse IndexedSlices to a dense Tensor of unknown shape. \"\n",
            "/tensorflow-2.1.0/python3.6/tensorflow_core/python/framework/indexed_slices.py:433: UserWarning: Converting sparse IndexedSlices to a dense Tensor of unknown shape. This may consume a large amount of memory.\n",
            "  \"Converting sparse IndexedSlices to a dense Tensor of unknown shape. \"\n"
          ],
          "name": "stderr"
        },
        {
          "output_type": "display_data",
          "data": {
            "text/html": [
              "<span style=\"color:#4527A0\"><h1 style=\"font-size:18px\">Trial complete</h1></span>"
            ],
            "text/plain": [
              "<IPython.core.display.HTML object>"
            ]
          },
          "metadata": {
            "tags": []
          }
        },
        {
          "output_type": "display_data",
          "data": {
            "text/html": [
              "<span style=\"color:#4527A0\"><h1 style=\"font-size:18px\">Trial summary</h1></span>"
            ],
            "text/plain": [
              "<IPython.core.display.HTML object>"
            ]
          },
          "metadata": {
            "tags": []
          }
        },
        {
          "output_type": "display_data",
          "data": {
            "text/html": [
              "<span style=\"color:#7E57C2\"><h2 style=\"font-size:16px\">Hp values:</h2></span>"
            ],
            "text/plain": [
              "<IPython.core.display.HTML object>"
            ]
          },
          "metadata": {
            "tags": []
          }
        },
        {
          "output_type": "display_data",
          "data": {
            "text/html": [
              "<span style=\"color:cyan\"> |-embedding_dim: 16</span>"
            ],
            "text/plain": [
              "<IPython.core.display.HTML object>"
            ]
          },
          "metadata": {
            "tags": []
          }
        },
        {
          "output_type": "display_data",
          "data": {
            "text/html": [
              "<span style=\"color:blue\"> |-item_dim: 160</span>"
            ],
            "text/plain": [
              "<IPython.core.display.HTML object>"
            ]
          },
          "metadata": {
            "tags": []
          }
        },
        {
          "output_type": "display_data",
          "data": {
            "text/html": [
              "<span style=\"color:cyan\"> |-item_embedding_dropout: 0.4</span>"
            ],
            "text/plain": [
              "<IPython.core.display.HTML object>"
            ]
          },
          "metadata": {
            "tags": []
          }
        },
        {
          "output_type": "display_data",
          "data": {
            "text/html": [
              "<span style=\"color:blue\"> |-item_embeddings_regularization_l2: 7.777778113254187e-05</span>"
            ],
            "text/plain": [
              "<IPython.core.display.HTML object>"
            ]
          },
          "metadata": {
            "tags": []
          }
        },
        {
          "output_type": "display_data",
          "data": {
            "text/html": [
              "<span style=\"color:cyan\"> |-learning_rate: 0.0003</span>"
            ],
            "text/plain": [
              "<IPython.core.display.HTML object>"
            ]
          },
          "metadata": {
            "tags": []
          }
        },
        {
          "output_type": "display_data",
          "data": {
            "text/html": [
              "<span style=\"color:blue\"> |-user_dim: 67000</span>"
            ],
            "text/plain": [
              "<IPython.core.display.HTML object>"
            ]
          },
          "metadata": {
            "tags": []
          }
        },
        {
          "output_type": "display_data",
          "data": {
            "text/html": [
              "<span style=\"color:cyan\"> |-user_embedding_dropout: 0.30000000000000004</span>"
            ],
            "text/plain": [
              "<IPython.core.display.HTML object>"
            ]
          },
          "metadata": {
            "tags": []
          }
        },
        {
          "output_type": "display_data",
          "data": {
            "text/html": [
              "<span style=\"color:blue\"> |-user_embeddings_regularization_l2: 7.830946821682124e-07</span>"
            ],
            "text/plain": [
              "<IPython.core.display.HTML object>"
            ]
          },
          "metadata": {
            "tags": []
          }
        },
        {
          "output_type": "display_data",
          "data": {
            "text/html": [
              "<span style=\"color:cyan\"> |-Score: 0.17667461186647415</span>"
            ],
            "text/plain": [
              "<IPython.core.display.HTML object>"
            ]
          },
          "metadata": {
            "tags": []
          }
        },
        {
          "output_type": "display_data",
          "data": {
            "text/html": [
              "<span style=\"color:cyan\"> |-Best step: 0</span>"
            ],
            "text/plain": [
              "<IPython.core.display.HTML object>"
            ]
          },
          "metadata": {
            "tags": []
          }
        },
        {
          "output_type": "stream",
          "text": [
            "/tensorflow-2.1.0/python3.6/tensorflow_core/python/framework/indexed_slices.py:433: UserWarning: Converting sparse IndexedSlices to a dense Tensor of unknown shape. This may consume a large amount of memory.\n",
            "  \"Converting sparse IndexedSlices to a dense Tensor of unknown shape. \"\n",
            "/tensorflow-2.1.0/python3.6/tensorflow_core/python/framework/indexed_slices.py:433: UserWarning: Converting sparse IndexedSlices to a dense Tensor of unknown shape. This may consume a large amount of memory.\n",
            "  \"Converting sparse IndexedSlices to a dense Tensor of unknown shape. \"\n"
          ],
          "name": "stderr"
        },
        {
          "output_type": "display_data",
          "data": {
            "text/html": [
              "<span style=\"color:#4527A0\"><h1 style=\"font-size:18px\">Trial complete</h1></span>"
            ],
            "text/plain": [
              "<IPython.core.display.HTML object>"
            ]
          },
          "metadata": {
            "tags": []
          }
        },
        {
          "output_type": "display_data",
          "data": {
            "text/html": [
              "<span style=\"color:#4527A0\"><h1 style=\"font-size:18px\">Trial summary</h1></span>"
            ],
            "text/plain": [
              "<IPython.core.display.HTML object>"
            ]
          },
          "metadata": {
            "tags": []
          }
        },
        {
          "output_type": "display_data",
          "data": {
            "text/html": [
              "<span style=\"color:#7E57C2\"><h2 style=\"font-size:16px\">Hp values:</h2></span>"
            ],
            "text/plain": [
              "<IPython.core.display.HTML object>"
            ]
          },
          "metadata": {
            "tags": []
          }
        },
        {
          "output_type": "display_data",
          "data": {
            "text/html": [
              "<span style=\"color:cyan\"> |-embedding_dim: 256</span>"
            ],
            "text/plain": [
              "<IPython.core.display.HTML object>"
            ]
          },
          "metadata": {
            "tags": []
          }
        },
        {
          "output_type": "display_data",
          "data": {
            "text/html": [
              "<span style=\"color:blue\"> |-item_dim: 160</span>"
            ],
            "text/plain": [
              "<IPython.core.display.HTML object>"
            ]
          },
          "metadata": {
            "tags": []
          }
        },
        {
          "output_type": "display_data",
          "data": {
            "text/html": [
              "<span style=\"color:cyan\"> |-item_embedding_dropout: 0.6000000000000001</span>"
            ],
            "text/plain": [
              "<IPython.core.display.HTML object>"
            ]
          },
          "metadata": {
            "tags": []
          }
        },
        {
          "output_type": "display_data",
          "data": {
            "text/html": [
              "<span style=\"color:blue\"> |-item_embeddings_regularization_l2: 0.009591166461582916</span>"
            ],
            "text/plain": [
              "<IPython.core.display.HTML object>"
            ]
          },
          "metadata": {
            "tags": []
          }
        },
        {
          "output_type": "display_data",
          "data": {
            "text/html": [
              "<span style=\"color:cyan\"> |-learning_rate: 0.0005</span>"
            ],
            "text/plain": [
              "<IPython.core.display.HTML object>"
            ]
          },
          "metadata": {
            "tags": []
          }
        },
        {
          "output_type": "display_data",
          "data": {
            "text/html": [
              "<span style=\"color:blue\"> |-user_dim: 67000</span>"
            ],
            "text/plain": [
              "<IPython.core.display.HTML object>"
            ]
          },
          "metadata": {
            "tags": []
          }
        },
        {
          "output_type": "display_data",
          "data": {
            "text/html": [
              "<span style=\"color:cyan\"> |-user_embedding_dropout: 0.30000000000000004</span>"
            ],
            "text/plain": [
              "<IPython.core.display.HTML object>"
            ]
          },
          "metadata": {
            "tags": []
          }
        },
        {
          "output_type": "display_data",
          "data": {
            "text/html": [
              "<span style=\"color:blue\"> |-user_embeddings_regularization_l2: 0.00037564220207352114</span>"
            ],
            "text/plain": [
              "<IPython.core.display.HTML object>"
            ]
          },
          "metadata": {
            "tags": []
          }
        },
        {
          "output_type": "display_data",
          "data": {
            "text/html": [
              "<span style=\"color:cyan\"> |-Score: 0.17899115519090134</span>"
            ],
            "text/plain": [
              "<IPython.core.display.HTML object>"
            ]
          },
          "metadata": {
            "tags": []
          }
        },
        {
          "output_type": "display_data",
          "data": {
            "text/html": [
              "<span style=\"color:cyan\"> |-Best step: 0</span>"
            ],
            "text/plain": [
              "<IPython.core.display.HTML object>"
            ]
          },
          "metadata": {
            "tags": []
          }
        },
        {
          "output_type": "stream",
          "text": [
            "/tensorflow-2.1.0/python3.6/tensorflow_core/python/framework/indexed_slices.py:433: UserWarning: Converting sparse IndexedSlices to a dense Tensor of unknown shape. This may consume a large amount of memory.\n",
            "  \"Converting sparse IndexedSlices to a dense Tensor of unknown shape. \"\n",
            "/tensorflow-2.1.0/python3.6/tensorflow_core/python/framework/indexed_slices.py:433: UserWarning: Converting sparse IndexedSlices to a dense Tensor of unknown shape. This may consume a large amount of memory.\n",
            "  \"Converting sparse IndexedSlices to a dense Tensor of unknown shape. \"\n"
          ],
          "name": "stderr"
        },
        {
          "output_type": "display_data",
          "data": {
            "text/html": [
              "<span style=\"color:#4527A0\"><h1 style=\"font-size:18px\">Trial complete</h1></span>"
            ],
            "text/plain": [
              "<IPython.core.display.HTML object>"
            ]
          },
          "metadata": {
            "tags": []
          }
        },
        {
          "output_type": "display_data",
          "data": {
            "text/html": [
              "<span style=\"color:#4527A0\"><h1 style=\"font-size:18px\">Trial summary</h1></span>"
            ],
            "text/plain": [
              "<IPython.core.display.HTML object>"
            ]
          },
          "metadata": {
            "tags": []
          }
        },
        {
          "output_type": "display_data",
          "data": {
            "text/html": [
              "<span style=\"color:#7E57C2\"><h2 style=\"font-size:16px\">Hp values:</h2></span>"
            ],
            "text/plain": [
              "<IPython.core.display.HTML object>"
            ]
          },
          "metadata": {
            "tags": []
          }
        },
        {
          "output_type": "display_data",
          "data": {
            "text/html": [
              "<span style=\"color:cyan\"> |-embedding_dim: 256</span>"
            ],
            "text/plain": [
              "<IPython.core.display.HTML object>"
            ]
          },
          "metadata": {
            "tags": []
          }
        },
        {
          "output_type": "display_data",
          "data": {
            "text/html": [
              "<span style=\"color:blue\"> |-item_dim: 160</span>"
            ],
            "text/plain": [
              "<IPython.core.display.HTML object>"
            ]
          },
          "metadata": {
            "tags": []
          }
        },
        {
          "output_type": "display_data",
          "data": {
            "text/html": [
              "<span style=\"color:cyan\"> |-item_embedding_dropout: 0.2</span>"
            ],
            "text/plain": [
              "<IPython.core.display.HTML object>"
            ]
          },
          "metadata": {
            "tags": []
          }
        },
        {
          "output_type": "display_data",
          "data": {
            "text/html": [
              "<span style=\"color:blue\"> |-item_embeddings_regularization_l2: 0.00036190334287647006</span>"
            ],
            "text/plain": [
              "<IPython.core.display.HTML object>"
            ]
          },
          "metadata": {
            "tags": []
          }
        },
        {
          "output_type": "display_data",
          "data": {
            "text/html": [
              "<span style=\"color:cyan\"> |-learning_rate: 0.003</span>"
            ],
            "text/plain": [
              "<IPython.core.display.HTML object>"
            ]
          },
          "metadata": {
            "tags": []
          }
        },
        {
          "output_type": "display_data",
          "data": {
            "text/html": [
              "<span style=\"color:blue\"> |-user_dim: 67000</span>"
            ],
            "text/plain": [
              "<IPython.core.display.HTML object>"
            ]
          },
          "metadata": {
            "tags": []
          }
        },
        {
          "output_type": "display_data",
          "data": {
            "text/html": [
              "<span style=\"color:cyan\"> |-user_embedding_dropout: 0.0</span>"
            ],
            "text/plain": [
              "<IPython.core.display.HTML object>"
            ]
          },
          "metadata": {
            "tags": []
          }
        },
        {
          "output_type": "display_data",
          "data": {
            "text/html": [
              "<span style=\"color:blue\"> |-user_embeddings_regularization_l2: 1.0770251808677886e-08</span>"
            ],
            "text/plain": [
              "<IPython.core.display.HTML object>"
            ]
          },
          "metadata": {
            "tags": []
          }
        },
        {
          "output_type": "display_data",
          "data": {
            "text/html": [
              "<span style=\"color:cyan\"> |-Score: 0.1822794255885211</span>"
            ],
            "text/plain": [
              "<IPython.core.display.HTML object>"
            ]
          },
          "metadata": {
            "tags": []
          }
        },
        {
          "output_type": "display_data",
          "data": {
            "text/html": [
              "<span style=\"color:cyan\"> |-Best step: 0</span>"
            ],
            "text/plain": [
              "<IPython.core.display.HTML object>"
            ]
          },
          "metadata": {
            "tags": []
          }
        },
        {
          "output_type": "stream",
          "text": [
            "/tensorflow-2.1.0/python3.6/tensorflow_core/python/framework/indexed_slices.py:433: UserWarning: Converting sparse IndexedSlices to a dense Tensor of unknown shape. This may consume a large amount of memory.\n",
            "  \"Converting sparse IndexedSlices to a dense Tensor of unknown shape. \"\n",
            "/tensorflow-2.1.0/python3.6/tensorflow_core/python/framework/indexed_slices.py:433: UserWarning: Converting sparse IndexedSlices to a dense Tensor of unknown shape. This may consume a large amount of memory.\n",
            "  \"Converting sparse IndexedSlices to a dense Tensor of unknown shape. \"\n"
          ],
          "name": "stderr"
        },
        {
          "output_type": "display_data",
          "data": {
            "text/html": [
              "<span style=\"color:#4527A0\"><h1 style=\"font-size:18px\">Trial complete</h1></span>"
            ],
            "text/plain": [
              "<IPython.core.display.HTML object>"
            ]
          },
          "metadata": {
            "tags": []
          }
        },
        {
          "output_type": "display_data",
          "data": {
            "text/html": [
              "<span style=\"color:#4527A0\"><h1 style=\"font-size:18px\">Trial summary</h1></span>"
            ],
            "text/plain": [
              "<IPython.core.display.HTML object>"
            ]
          },
          "metadata": {
            "tags": []
          }
        },
        {
          "output_type": "display_data",
          "data": {
            "text/html": [
              "<span style=\"color:#7E57C2\"><h2 style=\"font-size:16px\">Hp values:</h2></span>"
            ],
            "text/plain": [
              "<IPython.core.display.HTML object>"
            ]
          },
          "metadata": {
            "tags": []
          }
        },
        {
          "output_type": "display_data",
          "data": {
            "text/html": [
              "<span style=\"color:cyan\"> |-embedding_dim: 32</span>"
            ],
            "text/plain": [
              "<IPython.core.display.HTML object>"
            ]
          },
          "metadata": {
            "tags": []
          }
        },
        {
          "output_type": "display_data",
          "data": {
            "text/html": [
              "<span style=\"color:blue\"> |-item_dim: 160</span>"
            ],
            "text/plain": [
              "<IPython.core.display.HTML object>"
            ]
          },
          "metadata": {
            "tags": []
          }
        },
        {
          "output_type": "display_data",
          "data": {
            "text/html": [
              "<span style=\"color:cyan\"> |-item_embedding_dropout: 0.5</span>"
            ],
            "text/plain": [
              "<IPython.core.display.HTML object>"
            ]
          },
          "metadata": {
            "tags": []
          }
        },
        {
          "output_type": "display_data",
          "data": {
            "text/html": [
              "<span style=\"color:blue\"> |-item_embeddings_regularization_l2: 0.01215531028678898</span>"
            ],
            "text/plain": [
              "<IPython.core.display.HTML object>"
            ]
          },
          "metadata": {
            "tags": []
          }
        },
        {
          "output_type": "display_data",
          "data": {
            "text/html": [
              "<span style=\"color:cyan\"> |-learning_rate: 0.003</span>"
            ],
            "text/plain": [
              "<IPython.core.display.HTML object>"
            ]
          },
          "metadata": {
            "tags": []
          }
        },
        {
          "output_type": "display_data",
          "data": {
            "text/html": [
              "<span style=\"color:blue\"> |-user_dim: 67000</span>"
            ],
            "text/plain": [
              "<IPython.core.display.HTML object>"
            ]
          },
          "metadata": {
            "tags": []
          }
        },
        {
          "output_type": "display_data",
          "data": {
            "text/html": [
              "<span style=\"color:cyan\"> |-user_embedding_dropout: 0.5</span>"
            ],
            "text/plain": [
              "<IPython.core.display.HTML object>"
            ]
          },
          "metadata": {
            "tags": []
          }
        },
        {
          "output_type": "display_data",
          "data": {
            "text/html": [
              "<span style=\"color:blue\"> |-user_embeddings_regularization_l2: 3.873545057385043e-08</span>"
            ],
            "text/plain": [
              "<IPython.core.display.HTML object>"
            ]
          },
          "metadata": {
            "tags": []
          }
        },
        {
          "output_type": "display_data",
          "data": {
            "text/html": [
              "<span style=\"color:cyan\"> |-Score: 0.17970547012307428</span>"
            ],
            "text/plain": [
              "<IPython.core.display.HTML object>"
            ]
          },
          "metadata": {
            "tags": []
          }
        },
        {
          "output_type": "display_data",
          "data": {
            "text/html": [
              "<span style=\"color:cyan\"> |-Best step: 0</span>"
            ],
            "text/plain": [
              "<IPython.core.display.HTML object>"
            ]
          },
          "metadata": {
            "tags": []
          }
        },
        {
          "output_type": "stream",
          "text": [
            "/tensorflow-2.1.0/python3.6/tensorflow_core/python/framework/indexed_slices.py:433: UserWarning: Converting sparse IndexedSlices to a dense Tensor of unknown shape. This may consume a large amount of memory.\n",
            "  \"Converting sparse IndexedSlices to a dense Tensor of unknown shape. \"\n",
            "/tensorflow-2.1.0/python3.6/tensorflow_core/python/framework/indexed_slices.py:433: UserWarning: Converting sparse IndexedSlices to a dense Tensor of unknown shape. This may consume a large amount of memory.\n",
            "  \"Converting sparse IndexedSlices to a dense Tensor of unknown shape. \"\n"
          ],
          "name": "stderr"
        },
        {
          "output_type": "display_data",
          "data": {
            "text/html": [
              "<span style=\"color:#4527A0\"><h1 style=\"font-size:18px\">Trial complete</h1></span>"
            ],
            "text/plain": [
              "<IPython.core.display.HTML object>"
            ]
          },
          "metadata": {
            "tags": []
          }
        },
        {
          "output_type": "display_data",
          "data": {
            "text/html": [
              "<span style=\"color:#4527A0\"><h1 style=\"font-size:18px\">Trial summary</h1></span>"
            ],
            "text/plain": [
              "<IPython.core.display.HTML object>"
            ]
          },
          "metadata": {
            "tags": []
          }
        },
        {
          "output_type": "display_data",
          "data": {
            "text/html": [
              "<span style=\"color:#7E57C2\"><h2 style=\"font-size:16px\">Hp values:</h2></span>"
            ],
            "text/plain": [
              "<IPython.core.display.HTML object>"
            ]
          },
          "metadata": {
            "tags": []
          }
        },
        {
          "output_type": "display_data",
          "data": {
            "text/html": [
              "<span style=\"color:cyan\"> |-embedding_dim: 128</span>"
            ],
            "text/plain": [
              "<IPython.core.display.HTML object>"
            ]
          },
          "metadata": {
            "tags": []
          }
        },
        {
          "output_type": "display_data",
          "data": {
            "text/html": [
              "<span style=\"color:blue\"> |-item_dim: 160</span>"
            ],
            "text/plain": [
              "<IPython.core.display.HTML object>"
            ]
          },
          "metadata": {
            "tags": []
          }
        },
        {
          "output_type": "display_data",
          "data": {
            "text/html": [
              "<span style=\"color:cyan\"> |-item_embedding_dropout: 0.30000000000000004</span>"
            ],
            "text/plain": [
              "<IPython.core.display.HTML object>"
            ]
          },
          "metadata": {
            "tags": []
          }
        },
        {
          "output_type": "display_data",
          "data": {
            "text/html": [
              "<span style=\"color:blue\"> |-item_embeddings_regularization_l2: 0.007528822532908025</span>"
            ],
            "text/plain": [
              "<IPython.core.display.HTML object>"
            ]
          },
          "metadata": {
            "tags": []
          }
        },
        {
          "output_type": "display_data",
          "data": {
            "text/html": [
              "<span style=\"color:cyan\"> |-learning_rate: 0.003</span>"
            ],
            "text/plain": [
              "<IPython.core.display.HTML object>"
            ]
          },
          "metadata": {
            "tags": []
          }
        },
        {
          "output_type": "display_data",
          "data": {
            "text/html": [
              "<span style=\"color:blue\"> |-user_dim: 67000</span>"
            ],
            "text/plain": [
              "<IPython.core.display.HTML object>"
            ]
          },
          "metadata": {
            "tags": []
          }
        },
        {
          "output_type": "display_data",
          "data": {
            "text/html": [
              "<span style=\"color:cyan\"> |-user_embedding_dropout: 0.2</span>"
            ],
            "text/plain": [
              "<IPython.core.display.HTML object>"
            ]
          },
          "metadata": {
            "tags": []
          }
        },
        {
          "output_type": "display_data",
          "data": {
            "text/html": [
              "<span style=\"color:blue\"> |-user_embeddings_regularization_l2: 1.7163276785374224e-08</span>"
            ],
            "text/plain": [
              "<IPython.core.display.HTML object>"
            ]
          },
          "metadata": {
            "tags": []
          }
        },
        {
          "output_type": "display_data",
          "data": {
            "text/html": [
              "<span style=\"color:cyan\"> |-Score: 0.18377695706757632</span>"
            ],
            "text/plain": [
              "<IPython.core.display.HTML object>"
            ]
          },
          "metadata": {
            "tags": []
          }
        },
        {
          "output_type": "display_data",
          "data": {
            "text/html": [
              "<span style=\"color:cyan\"> |-Best step: 0</span>"
            ],
            "text/plain": [
              "<IPython.core.display.HTML object>"
            ]
          },
          "metadata": {
            "tags": []
          }
        },
        {
          "output_type": "stream",
          "text": [
            "/tensorflow-2.1.0/python3.6/tensorflow_core/python/framework/indexed_slices.py:433: UserWarning: Converting sparse IndexedSlices to a dense Tensor of unknown shape. This may consume a large amount of memory.\n",
            "  \"Converting sparse IndexedSlices to a dense Tensor of unknown shape. \"\n",
            "/tensorflow-2.1.0/python3.6/tensorflow_core/python/framework/indexed_slices.py:433: UserWarning: Converting sparse IndexedSlices to a dense Tensor of unknown shape. This may consume a large amount of memory.\n",
            "  \"Converting sparse IndexedSlices to a dense Tensor of unknown shape. \"\n"
          ],
          "name": "stderr"
        },
        {
          "output_type": "display_data",
          "data": {
            "text/html": [
              "<span style=\"color:#4527A0\"><h1 style=\"font-size:18px\">Trial complete</h1></span>"
            ],
            "text/plain": [
              "<IPython.core.display.HTML object>"
            ]
          },
          "metadata": {
            "tags": []
          }
        },
        {
          "output_type": "display_data",
          "data": {
            "text/html": [
              "<span style=\"color:#4527A0\"><h1 style=\"font-size:18px\">Trial summary</h1></span>"
            ],
            "text/plain": [
              "<IPython.core.display.HTML object>"
            ]
          },
          "metadata": {
            "tags": []
          }
        },
        {
          "output_type": "display_data",
          "data": {
            "text/html": [
              "<span style=\"color:#7E57C2\"><h2 style=\"font-size:16px\">Hp values:</h2></span>"
            ],
            "text/plain": [
              "<IPython.core.display.HTML object>"
            ]
          },
          "metadata": {
            "tags": []
          }
        },
        {
          "output_type": "display_data",
          "data": {
            "text/html": [
              "<span style=\"color:cyan\"> |-embedding_dim: 64</span>"
            ],
            "text/plain": [
              "<IPython.core.display.HTML object>"
            ]
          },
          "metadata": {
            "tags": []
          }
        },
        {
          "output_type": "display_data",
          "data": {
            "text/html": [
              "<span style=\"color:blue\"> |-item_dim: 160</span>"
            ],
            "text/plain": [
              "<IPython.core.display.HTML object>"
            ]
          },
          "metadata": {
            "tags": []
          }
        },
        {
          "output_type": "display_data",
          "data": {
            "text/html": [
              "<span style=\"color:cyan\"> |-item_embedding_dropout: 0.30000000000000004</span>"
            ],
            "text/plain": [
              "<IPython.core.display.HTML object>"
            ]
          },
          "metadata": {
            "tags": []
          }
        },
        {
          "output_type": "display_data",
          "data": {
            "text/html": [
              "<span style=\"color:blue\"> |-item_embeddings_regularization_l2: 2.0955100308368492e-08</span>"
            ],
            "text/plain": [
              "<IPython.core.display.HTML object>"
            ]
          },
          "metadata": {
            "tags": []
          }
        },
        {
          "output_type": "display_data",
          "data": {
            "text/html": [
              "<span style=\"color:cyan\"> |-learning_rate: 0.003</span>"
            ],
            "text/plain": [
              "<IPython.core.display.HTML object>"
            ]
          },
          "metadata": {
            "tags": []
          }
        },
        {
          "output_type": "display_data",
          "data": {
            "text/html": [
              "<span style=\"color:blue\"> |-user_dim: 67000</span>"
            ],
            "text/plain": [
              "<IPython.core.display.HTML object>"
            ]
          },
          "metadata": {
            "tags": []
          }
        },
        {
          "output_type": "display_data",
          "data": {
            "text/html": [
              "<span style=\"color:cyan\"> |-user_embedding_dropout: 0.4</span>"
            ],
            "text/plain": [
              "<IPython.core.display.HTML object>"
            ]
          },
          "metadata": {
            "tags": []
          }
        },
        {
          "output_type": "display_data",
          "data": {
            "text/html": [
              "<span style=\"color:blue\"> |-user_embeddings_regularization_l2: 0.011085244319487703</span>"
            ],
            "text/plain": [
              "<IPython.core.display.HTML object>"
            ]
          },
          "metadata": {
            "tags": []
          }
        },
        {
          "output_type": "display_data",
          "data": {
            "text/html": [
              "<span style=\"color:cyan\"> |-Score: 0.1793707771734758</span>"
            ],
            "text/plain": [
              "<IPython.core.display.HTML object>"
            ]
          },
          "metadata": {
            "tags": []
          }
        },
        {
          "output_type": "display_data",
          "data": {
            "text/html": [
              "<span style=\"color:cyan\"> |-Best step: 0</span>"
            ],
            "text/plain": [
              "<IPython.core.display.HTML object>"
            ]
          },
          "metadata": {
            "tags": []
          }
        },
        {
          "output_type": "stream",
          "text": [
            "/tensorflow-2.1.0/python3.6/tensorflow_core/python/framework/indexed_slices.py:433: UserWarning: Converting sparse IndexedSlices to a dense Tensor of unknown shape. This may consume a large amount of memory.\n",
            "  \"Converting sparse IndexedSlices to a dense Tensor of unknown shape. \"\n",
            "/tensorflow-2.1.0/python3.6/tensorflow_core/python/framework/indexed_slices.py:433: UserWarning: Converting sparse IndexedSlices to a dense Tensor of unknown shape. This may consume a large amount of memory.\n",
            "  \"Converting sparse IndexedSlices to a dense Tensor of unknown shape. \"\n"
          ],
          "name": "stderr"
        },
        {
          "output_type": "display_data",
          "data": {
            "text/html": [
              "<span style=\"color:#4527A0\"><h1 style=\"font-size:18px\">Trial complete</h1></span>"
            ],
            "text/plain": [
              "<IPython.core.display.HTML object>"
            ]
          },
          "metadata": {
            "tags": []
          }
        },
        {
          "output_type": "display_data",
          "data": {
            "text/html": [
              "<span style=\"color:#4527A0\"><h1 style=\"font-size:18px\">Trial summary</h1></span>"
            ],
            "text/plain": [
              "<IPython.core.display.HTML object>"
            ]
          },
          "metadata": {
            "tags": []
          }
        },
        {
          "output_type": "display_data",
          "data": {
            "text/html": [
              "<span style=\"color:#7E57C2\"><h2 style=\"font-size:16px\">Hp values:</h2></span>"
            ],
            "text/plain": [
              "<IPython.core.display.HTML object>"
            ]
          },
          "metadata": {
            "tags": []
          }
        },
        {
          "output_type": "display_data",
          "data": {
            "text/html": [
              "<span style=\"color:cyan\"> |-embedding_dim: 32</span>"
            ],
            "text/plain": [
              "<IPython.core.display.HTML object>"
            ]
          },
          "metadata": {
            "tags": []
          }
        },
        {
          "output_type": "display_data",
          "data": {
            "text/html": [
              "<span style=\"color:blue\"> |-item_dim: 160</span>"
            ],
            "text/plain": [
              "<IPython.core.display.HTML object>"
            ]
          },
          "metadata": {
            "tags": []
          }
        },
        {
          "output_type": "display_data",
          "data": {
            "text/html": [
              "<span style=\"color:cyan\"> |-item_embedding_dropout: 0.8</span>"
            ],
            "text/plain": [
              "<IPython.core.display.HTML object>"
            ]
          },
          "metadata": {
            "tags": []
          }
        },
        {
          "output_type": "display_data",
          "data": {
            "text/html": [
              "<span style=\"color:blue\"> |-item_embeddings_regularization_l2: 2.8663761217867884e-05</span>"
            ],
            "text/plain": [
              "<IPython.core.display.HTML object>"
            ]
          },
          "metadata": {
            "tags": []
          }
        },
        {
          "output_type": "display_data",
          "data": {
            "text/html": [
              "<span style=\"color:cyan\"> |-learning_rate: 0.0001</span>"
            ],
            "text/plain": [
              "<IPython.core.display.HTML object>"
            ]
          },
          "metadata": {
            "tags": []
          }
        },
        {
          "output_type": "display_data",
          "data": {
            "text/html": [
              "<span style=\"color:blue\"> |-user_dim: 67000</span>"
            ],
            "text/plain": [
              "<IPython.core.display.HTML object>"
            ]
          },
          "metadata": {
            "tags": []
          }
        },
        {
          "output_type": "display_data",
          "data": {
            "text/html": [
              "<span style=\"color:cyan\"> |-user_embedding_dropout: 0.7000000000000001</span>"
            ],
            "text/plain": [
              "<IPython.core.display.HTML object>"
            ]
          },
          "metadata": {
            "tags": []
          }
        },
        {
          "output_type": "display_data",
          "data": {
            "text/html": [
              "<span style=\"color:blue\"> |-user_embeddings_regularization_l2: 1.919415005946917e-06</span>"
            ],
            "text/plain": [
              "<IPython.core.display.HTML object>"
            ]
          },
          "metadata": {
            "tags": []
          }
        },
        {
          "output_type": "display_data",
          "data": {
            "text/html": [
              "<span style=\"color:cyan\"> |-Score: 0.18295403502204202</span>"
            ],
            "text/plain": [
              "<IPython.core.display.HTML object>"
            ]
          },
          "metadata": {
            "tags": []
          }
        },
        {
          "output_type": "display_data",
          "data": {
            "text/html": [
              "<span style=\"color:cyan\"> |-Best step: 0</span>"
            ],
            "text/plain": [
              "<IPython.core.display.HTML object>"
            ]
          },
          "metadata": {
            "tags": []
          }
        },
        {
          "output_type": "stream",
          "text": [
            "/tensorflow-2.1.0/python3.6/tensorflow_core/python/framework/indexed_slices.py:433: UserWarning: Converting sparse IndexedSlices to a dense Tensor of unknown shape. This may consume a large amount of memory.\n",
            "  \"Converting sparse IndexedSlices to a dense Tensor of unknown shape. \"\n",
            "/tensorflow-2.1.0/python3.6/tensorflow_core/python/framework/indexed_slices.py:433: UserWarning: Converting sparse IndexedSlices to a dense Tensor of unknown shape. This may consume a large amount of memory.\n",
            "  \"Converting sparse IndexedSlices to a dense Tensor of unknown shape. \"\n"
          ],
          "name": "stderr"
        },
        {
          "output_type": "display_data",
          "data": {
            "text/html": [
              "<span style=\"color:#4527A0\"><h1 style=\"font-size:18px\">Trial complete</h1></span>"
            ],
            "text/plain": [
              "<IPython.core.display.HTML object>"
            ]
          },
          "metadata": {
            "tags": []
          }
        },
        {
          "output_type": "display_data",
          "data": {
            "text/html": [
              "<span style=\"color:#4527A0\"><h1 style=\"font-size:18px\">Trial summary</h1></span>"
            ],
            "text/plain": [
              "<IPython.core.display.HTML object>"
            ]
          },
          "metadata": {
            "tags": []
          }
        },
        {
          "output_type": "display_data",
          "data": {
            "text/html": [
              "<span style=\"color:#7E57C2\"><h2 style=\"font-size:16px\">Hp values:</h2></span>"
            ],
            "text/plain": [
              "<IPython.core.display.HTML object>"
            ]
          },
          "metadata": {
            "tags": []
          }
        },
        {
          "output_type": "display_data",
          "data": {
            "text/html": [
              "<span style=\"color:cyan\"> |-embedding_dim: 32</span>"
            ],
            "text/plain": [
              "<IPython.core.display.HTML object>"
            ]
          },
          "metadata": {
            "tags": []
          }
        },
        {
          "output_type": "display_data",
          "data": {
            "text/html": [
              "<span style=\"color:blue\"> |-item_dim: 160</span>"
            ],
            "text/plain": [
              "<IPython.core.display.HTML object>"
            ]
          },
          "metadata": {
            "tags": []
          }
        },
        {
          "output_type": "display_data",
          "data": {
            "text/html": [
              "<span style=\"color:cyan\"> |-item_embedding_dropout: 0.6000000000000001</span>"
            ],
            "text/plain": [
              "<IPython.core.display.HTML object>"
            ]
          },
          "metadata": {
            "tags": []
          }
        },
        {
          "output_type": "display_data",
          "data": {
            "text/html": [
              "<span style=\"color:blue\"> |-item_embeddings_regularization_l2: 0.0031118166833552525</span>"
            ],
            "text/plain": [
              "<IPython.core.display.HTML object>"
            ]
          },
          "metadata": {
            "tags": []
          }
        },
        {
          "output_type": "display_data",
          "data": {
            "text/html": [
              "<span style=\"color:cyan\"> |-learning_rate: 0.0003</span>"
            ],
            "text/plain": [
              "<IPython.core.display.HTML object>"
            ]
          },
          "metadata": {
            "tags": []
          }
        },
        {
          "output_type": "display_data",
          "data": {
            "text/html": [
              "<span style=\"color:blue\"> |-user_dim: 67000</span>"
            ],
            "text/plain": [
              "<IPython.core.display.HTML object>"
            ]
          },
          "metadata": {
            "tags": []
          }
        },
        {
          "output_type": "display_data",
          "data": {
            "text/html": [
              "<span style=\"color:cyan\"> |-user_embedding_dropout: 0.4</span>"
            ],
            "text/plain": [
              "<IPython.core.display.HTML object>"
            ]
          },
          "metadata": {
            "tags": []
          }
        },
        {
          "output_type": "display_data",
          "data": {
            "text/html": [
              "<span style=\"color:blue\"> |-user_embeddings_regularization_l2: 3.166349829223297e-05</span>"
            ],
            "text/plain": [
              "<IPython.core.display.HTML object>"
            ]
          },
          "metadata": {
            "tags": []
          }
        },
        {
          "output_type": "display_data",
          "data": {
            "text/html": [
              "<span style=\"color:cyan\"> |-Score: 0.17921869321302933</span>"
            ],
            "text/plain": [
              "<IPython.core.display.HTML object>"
            ]
          },
          "metadata": {
            "tags": []
          }
        },
        {
          "output_type": "display_data",
          "data": {
            "text/html": [
              "<span style=\"color:cyan\"> |-Best step: 0</span>"
            ],
            "text/plain": [
              "<IPython.core.display.HTML object>"
            ]
          },
          "metadata": {
            "tags": []
          }
        },
        {
          "output_type": "stream",
          "text": [
            "/tensorflow-2.1.0/python3.6/tensorflow_core/python/framework/indexed_slices.py:433: UserWarning: Converting sparse IndexedSlices to a dense Tensor of unknown shape. This may consume a large amount of memory.\n",
            "  \"Converting sparse IndexedSlices to a dense Tensor of unknown shape. \"\n",
            "/tensorflow-2.1.0/python3.6/tensorflow_core/python/framework/indexed_slices.py:433: UserWarning: Converting sparse IndexedSlices to a dense Tensor of unknown shape. This may consume a large amount of memory.\n",
            "  \"Converting sparse IndexedSlices to a dense Tensor of unknown shape. \"\n"
          ],
          "name": "stderr"
        },
        {
          "output_type": "display_data",
          "data": {
            "text/html": [
              "<span style=\"color:#4527A0\"><h1 style=\"font-size:18px\">Trial complete</h1></span>"
            ],
            "text/plain": [
              "<IPython.core.display.HTML object>"
            ]
          },
          "metadata": {
            "tags": []
          }
        },
        {
          "output_type": "display_data",
          "data": {
            "text/html": [
              "<span style=\"color:#4527A0\"><h1 style=\"font-size:18px\">Trial summary</h1></span>"
            ],
            "text/plain": [
              "<IPython.core.display.HTML object>"
            ]
          },
          "metadata": {
            "tags": []
          }
        },
        {
          "output_type": "display_data",
          "data": {
            "text/html": [
              "<span style=\"color:#7E57C2\"><h2 style=\"font-size:16px\">Hp values:</h2></span>"
            ],
            "text/plain": [
              "<IPython.core.display.HTML object>"
            ]
          },
          "metadata": {
            "tags": []
          }
        },
        {
          "output_type": "display_data",
          "data": {
            "text/html": [
              "<span style=\"color:cyan\"> |-embedding_dim: 256</span>"
            ],
            "text/plain": [
              "<IPython.core.display.HTML object>"
            ]
          },
          "metadata": {
            "tags": []
          }
        },
        {
          "output_type": "display_data",
          "data": {
            "text/html": [
              "<span style=\"color:blue\"> |-item_dim: 160</span>"
            ],
            "text/plain": [
              "<IPython.core.display.HTML object>"
            ]
          },
          "metadata": {
            "tags": []
          }
        },
        {
          "output_type": "display_data",
          "data": {
            "text/html": [
              "<span style=\"color:cyan\"> |-item_embedding_dropout: 0.0</span>"
            ],
            "text/plain": [
              "<IPython.core.display.HTML object>"
            ]
          },
          "metadata": {
            "tags": []
          }
        },
        {
          "output_type": "display_data",
          "data": {
            "text/html": [
              "<span style=\"color:blue\"> |-item_embeddings_regularization_l2: 2.0146176145501563e-06</span>"
            ],
            "text/plain": [
              "<IPython.core.display.HTML object>"
            ]
          },
          "metadata": {
            "tags": []
          }
        },
        {
          "output_type": "display_data",
          "data": {
            "text/html": [
              "<span style=\"color:cyan\"> |-learning_rate: 0.0005</span>"
            ],
            "text/plain": [
              "<IPython.core.display.HTML object>"
            ]
          },
          "metadata": {
            "tags": []
          }
        },
        {
          "output_type": "display_data",
          "data": {
            "text/html": [
              "<span style=\"color:blue\"> |-user_dim: 67000</span>"
            ],
            "text/plain": [
              "<IPython.core.display.HTML object>"
            ]
          },
          "metadata": {
            "tags": []
          }
        },
        {
          "output_type": "display_data",
          "data": {
            "text/html": [
              "<span style=\"color:cyan\"> |-user_embedding_dropout: 0.1</span>"
            ],
            "text/plain": [
              "<IPython.core.display.HTML object>"
            ]
          },
          "metadata": {
            "tags": []
          }
        },
        {
          "output_type": "display_data",
          "data": {
            "text/html": [
              "<span style=\"color:blue\"> |-user_embeddings_regularization_l2: 0.0424575404353345</span>"
            ],
            "text/plain": [
              "<IPython.core.display.HTML object>"
            ]
          },
          "metadata": {
            "tags": []
          }
        },
        {
          "output_type": "display_data",
          "data": {
            "text/html": [
              "<span style=\"color:cyan\"> |-Score: 0.17897955192760986</span>"
            ],
            "text/plain": [
              "<IPython.core.display.HTML object>"
            ]
          },
          "metadata": {
            "tags": []
          }
        },
        {
          "output_type": "display_data",
          "data": {
            "text/html": [
              "<span style=\"color:cyan\"> |-Best step: 0</span>"
            ],
            "text/plain": [
              "<IPython.core.display.HTML object>"
            ]
          },
          "metadata": {
            "tags": []
          }
        },
        {
          "output_type": "stream",
          "text": [
            "/tensorflow-2.1.0/python3.6/tensorflow_core/python/framework/indexed_slices.py:433: UserWarning: Converting sparse IndexedSlices to a dense Tensor of unknown shape. This may consume a large amount of memory.\n",
            "  \"Converting sparse IndexedSlices to a dense Tensor of unknown shape. \"\n",
            "/tensorflow-2.1.0/python3.6/tensorflow_core/python/framework/indexed_slices.py:433: UserWarning: Converting sparse IndexedSlices to a dense Tensor of unknown shape. This may consume a large amount of memory.\n",
            "  \"Converting sparse IndexedSlices to a dense Tensor of unknown shape. \"\n"
          ],
          "name": "stderr"
        },
        {
          "output_type": "display_data",
          "data": {
            "text/html": [
              "<span style=\"color:#4527A0\"><h1 style=\"font-size:18px\">Trial complete</h1></span>"
            ],
            "text/plain": [
              "<IPython.core.display.HTML object>"
            ]
          },
          "metadata": {
            "tags": []
          }
        },
        {
          "output_type": "display_data",
          "data": {
            "text/html": [
              "<span style=\"color:#4527A0\"><h1 style=\"font-size:18px\">Trial summary</h1></span>"
            ],
            "text/plain": [
              "<IPython.core.display.HTML object>"
            ]
          },
          "metadata": {
            "tags": []
          }
        },
        {
          "output_type": "display_data",
          "data": {
            "text/html": [
              "<span style=\"color:#7E57C2\"><h2 style=\"font-size:16px\">Hp values:</h2></span>"
            ],
            "text/plain": [
              "<IPython.core.display.HTML object>"
            ]
          },
          "metadata": {
            "tags": []
          }
        },
        {
          "output_type": "display_data",
          "data": {
            "text/html": [
              "<span style=\"color:cyan\"> |-embedding_dim: 64</span>"
            ],
            "text/plain": [
              "<IPython.core.display.HTML object>"
            ]
          },
          "metadata": {
            "tags": []
          }
        },
        {
          "output_type": "display_data",
          "data": {
            "text/html": [
              "<span style=\"color:blue\"> |-item_dim: 160</span>"
            ],
            "text/plain": [
              "<IPython.core.display.HTML object>"
            ]
          },
          "metadata": {
            "tags": []
          }
        },
        {
          "output_type": "display_data",
          "data": {
            "text/html": [
              "<span style=\"color:cyan\"> |-item_embedding_dropout: 0.2</span>"
            ],
            "text/plain": [
              "<IPython.core.display.HTML object>"
            ]
          },
          "metadata": {
            "tags": []
          }
        },
        {
          "output_type": "display_data",
          "data": {
            "text/html": [
              "<span style=\"color:blue\"> |-item_embeddings_regularization_l2: 0.00011149976977671131</span>"
            ],
            "text/plain": [
              "<IPython.core.display.HTML object>"
            ]
          },
          "metadata": {
            "tags": []
          }
        },
        {
          "output_type": "display_data",
          "data": {
            "text/html": [
              "<span style=\"color:cyan\"> |-learning_rate: 0.003</span>"
            ],
            "text/plain": [
              "<IPython.core.display.HTML object>"
            ]
          },
          "metadata": {
            "tags": []
          }
        },
        {
          "output_type": "display_data",
          "data": {
            "text/html": [
              "<span style=\"color:blue\"> |-user_dim: 67000</span>"
            ],
            "text/plain": [
              "<IPython.core.display.HTML object>"
            ]
          },
          "metadata": {
            "tags": []
          }
        },
        {
          "output_type": "display_data",
          "data": {
            "text/html": [
              "<span style=\"color:cyan\"> |-user_embedding_dropout: 0.30000000000000004</span>"
            ],
            "text/plain": [
              "<IPython.core.display.HTML object>"
            ]
          },
          "metadata": {
            "tags": []
          }
        },
        {
          "output_type": "display_data",
          "data": {
            "text/html": [
              "<span style=\"color:blue\"> |-user_embeddings_regularization_l2: 0.020876723318768938</span>"
            ],
            "text/plain": [
              "<IPython.core.display.HTML object>"
            ]
          },
          "metadata": {
            "tags": []
          }
        },
        {
          "output_type": "display_data",
          "data": {
            "text/html": [
              "<span style=\"color:cyan\"> |-Score: 0.17955849726091733</span>"
            ],
            "text/plain": [
              "<IPython.core.display.HTML object>"
            ]
          },
          "metadata": {
            "tags": []
          }
        },
        {
          "output_type": "display_data",
          "data": {
            "text/html": [
              "<span style=\"color:cyan\"> |-Best step: 0</span>"
            ],
            "text/plain": [
              "<IPython.core.display.HTML object>"
            ]
          },
          "metadata": {
            "tags": []
          }
        },
        {
          "output_type": "stream",
          "text": [
            "/tensorflow-2.1.0/python3.6/tensorflow_core/python/framework/indexed_slices.py:433: UserWarning: Converting sparse IndexedSlices to a dense Tensor of unknown shape. This may consume a large amount of memory.\n",
            "  \"Converting sparse IndexedSlices to a dense Tensor of unknown shape. \"\n",
            "/tensorflow-2.1.0/python3.6/tensorflow_core/python/framework/indexed_slices.py:433: UserWarning: Converting sparse IndexedSlices to a dense Tensor of unknown shape. This may consume a large amount of memory.\n",
            "  \"Converting sparse IndexedSlices to a dense Tensor of unknown shape. \"\n"
          ],
          "name": "stderr"
        },
        {
          "output_type": "display_data",
          "data": {
            "text/html": [
              "<span style=\"color:#4527A0\"><h1 style=\"font-size:18px\">Trial complete</h1></span>"
            ],
            "text/plain": [
              "<IPython.core.display.HTML object>"
            ]
          },
          "metadata": {
            "tags": []
          }
        },
        {
          "output_type": "display_data",
          "data": {
            "text/html": [
              "<span style=\"color:#4527A0\"><h1 style=\"font-size:18px\">Trial summary</h1></span>"
            ],
            "text/plain": [
              "<IPython.core.display.HTML object>"
            ]
          },
          "metadata": {
            "tags": []
          }
        },
        {
          "output_type": "display_data",
          "data": {
            "text/html": [
              "<span style=\"color:#7E57C2\"><h2 style=\"font-size:16px\">Hp values:</h2></span>"
            ],
            "text/plain": [
              "<IPython.core.display.HTML object>"
            ]
          },
          "metadata": {
            "tags": []
          }
        },
        {
          "output_type": "display_data",
          "data": {
            "text/html": [
              "<span style=\"color:cyan\"> |-embedding_dim: 64</span>"
            ],
            "text/plain": [
              "<IPython.core.display.HTML object>"
            ]
          },
          "metadata": {
            "tags": []
          }
        },
        {
          "output_type": "display_data",
          "data": {
            "text/html": [
              "<span style=\"color:blue\"> |-item_dim: 160</span>"
            ],
            "text/plain": [
              "<IPython.core.display.HTML object>"
            ]
          },
          "metadata": {
            "tags": []
          }
        },
        {
          "output_type": "display_data",
          "data": {
            "text/html": [
              "<span style=\"color:cyan\"> |-item_embedding_dropout: 0.7000000000000001</span>"
            ],
            "text/plain": [
              "<IPython.core.display.HTML object>"
            ]
          },
          "metadata": {
            "tags": []
          }
        },
        {
          "output_type": "display_data",
          "data": {
            "text/html": [
              "<span style=\"color:blue\"> |-item_embeddings_regularization_l2: 8.40018117967221e-06</span>"
            ],
            "text/plain": [
              "<IPython.core.display.HTML object>"
            ]
          },
          "metadata": {
            "tags": []
          }
        },
        {
          "output_type": "display_data",
          "data": {
            "text/html": [
              "<span style=\"color:cyan\"> |-learning_rate: 0.0005</span>"
            ],
            "text/plain": [
              "<IPython.core.display.HTML object>"
            ]
          },
          "metadata": {
            "tags": []
          }
        },
        {
          "output_type": "display_data",
          "data": {
            "text/html": [
              "<span style=\"color:blue\"> |-user_dim: 67000</span>"
            ],
            "text/plain": [
              "<IPython.core.display.HTML object>"
            ]
          },
          "metadata": {
            "tags": []
          }
        },
        {
          "output_type": "display_data",
          "data": {
            "text/html": [
              "<span style=\"color:cyan\"> |-user_embedding_dropout: 0.5</span>"
            ],
            "text/plain": [
              "<IPython.core.display.HTML object>"
            ]
          },
          "metadata": {
            "tags": []
          }
        },
        {
          "output_type": "display_data",
          "data": {
            "text/html": [
              "<span style=\"color:blue\"> |-user_embeddings_regularization_l2: 1.4014896559776457e-06</span>"
            ],
            "text/plain": [
              "<IPython.core.display.HTML object>"
            ]
          },
          "metadata": {
            "tags": []
          }
        },
        {
          "output_type": "display_data",
          "data": {
            "text/html": [
              "<span style=\"color:cyan\"> |-Score: 0.17151365700093182</span>"
            ],
            "text/plain": [
              "<IPython.core.display.HTML object>"
            ]
          },
          "metadata": {
            "tags": []
          }
        },
        {
          "output_type": "display_data",
          "data": {
            "text/html": [
              "<span style=\"color:cyan\"> |-Best step: 0</span>"
            ],
            "text/plain": [
              "<IPython.core.display.HTML object>"
            ]
          },
          "metadata": {
            "tags": []
          }
        },
        {
          "output_type": "stream",
          "text": [
            "/tensorflow-2.1.0/python3.6/tensorflow_core/python/framework/indexed_slices.py:433: UserWarning: Converting sparse IndexedSlices to a dense Tensor of unknown shape. This may consume a large amount of memory.\n",
            "  \"Converting sparse IndexedSlices to a dense Tensor of unknown shape. \"\n",
            "/tensorflow-2.1.0/python3.6/tensorflow_core/python/framework/indexed_slices.py:433: UserWarning: Converting sparse IndexedSlices to a dense Tensor of unknown shape. This may consume a large amount of memory.\n",
            "  \"Converting sparse IndexedSlices to a dense Tensor of unknown shape. \"\n"
          ],
          "name": "stderr"
        },
        {
          "output_type": "display_data",
          "data": {
            "text/html": [
              "<span style=\"color:#4527A0\"><h1 style=\"font-size:18px\">Trial complete</h1></span>"
            ],
            "text/plain": [
              "<IPython.core.display.HTML object>"
            ]
          },
          "metadata": {
            "tags": []
          }
        },
        {
          "output_type": "display_data",
          "data": {
            "text/html": [
              "<span style=\"color:#4527A0\"><h1 style=\"font-size:18px\">Trial summary</h1></span>"
            ],
            "text/plain": [
              "<IPython.core.display.HTML object>"
            ]
          },
          "metadata": {
            "tags": []
          }
        },
        {
          "output_type": "display_data",
          "data": {
            "text/html": [
              "<span style=\"color:#7E57C2\"><h2 style=\"font-size:16px\">Hp values:</h2></span>"
            ],
            "text/plain": [
              "<IPython.core.display.HTML object>"
            ]
          },
          "metadata": {
            "tags": []
          }
        },
        {
          "output_type": "display_data",
          "data": {
            "text/html": [
              "<span style=\"color:cyan\"> |-embedding_dim: 16</span>"
            ],
            "text/plain": [
              "<IPython.core.display.HTML object>"
            ]
          },
          "metadata": {
            "tags": []
          }
        },
        {
          "output_type": "display_data",
          "data": {
            "text/html": [
              "<span style=\"color:blue\"> |-item_dim: 160</span>"
            ],
            "text/plain": [
              "<IPython.core.display.HTML object>"
            ]
          },
          "metadata": {
            "tags": []
          }
        },
        {
          "output_type": "display_data",
          "data": {
            "text/html": [
              "<span style=\"color:cyan\"> |-item_embedding_dropout: 0.2</span>"
            ],
            "text/plain": [
              "<IPython.core.display.HTML object>"
            ]
          },
          "metadata": {
            "tags": []
          }
        },
        {
          "output_type": "display_data",
          "data": {
            "text/html": [
              "<span style=\"color:blue\"> |-item_embeddings_regularization_l2: 1.3488519705713262e-08</span>"
            ],
            "text/plain": [
              "<IPython.core.display.HTML object>"
            ]
          },
          "metadata": {
            "tags": []
          }
        },
        {
          "output_type": "display_data",
          "data": {
            "text/html": [
              "<span style=\"color:cyan\"> |-learning_rate: 0.0005</span>"
            ],
            "text/plain": [
              "<IPython.core.display.HTML object>"
            ]
          },
          "metadata": {
            "tags": []
          }
        },
        {
          "output_type": "display_data",
          "data": {
            "text/html": [
              "<span style=\"color:blue\"> |-user_dim: 67000</span>"
            ],
            "text/plain": [
              "<IPython.core.display.HTML object>"
            ]
          },
          "metadata": {
            "tags": []
          }
        },
        {
          "output_type": "display_data",
          "data": {
            "text/html": [
              "<span style=\"color:cyan\"> |-user_embedding_dropout: 0.8</span>"
            ],
            "text/plain": [
              "<IPython.core.display.HTML object>"
            ]
          },
          "metadata": {
            "tags": []
          }
        },
        {
          "output_type": "display_data",
          "data": {
            "text/html": [
              "<span style=\"color:blue\"> |-user_embeddings_regularization_l2: 7.429678530403645e-08</span>"
            ],
            "text/plain": [
              "<IPython.core.display.HTML object>"
            ]
          },
          "metadata": {
            "tags": []
          }
        },
        {
          "output_type": "display_data",
          "data": {
            "text/html": [
              "<span style=\"color:cyan\"> |-Score: 0.16667743704535745</span>"
            ],
            "text/plain": [
              "<IPython.core.display.HTML object>"
            ]
          },
          "metadata": {
            "tags": []
          }
        },
        {
          "output_type": "display_data",
          "data": {
            "text/html": [
              "<span style=\"color:cyan\"> |-Best step: 0</span>"
            ],
            "text/plain": [
              "<IPython.core.display.HTML object>"
            ]
          },
          "metadata": {
            "tags": []
          }
        },
        {
          "output_type": "stream",
          "text": [
            "INFO:tensorflow:Oracle triggered exit\n"
          ],
          "name": "stdout"
        }
      ]
    },
    {
      "cell_type": "code",
      "metadata": {
        "id": "wssE_0YkVfvi",
        "colab_type": "code",
        "colab": {}
      },
      "source": [
        "tuned_models = tuner.get_best_models(num_models=5)"
      ],
      "execution_count": 0,
      "outputs": []
    },
    {
      "cell_type": "code",
      "metadata": {
        "id": "zbrhG08OcJIt",
        "colab_type": "code",
        "outputId": "d7cd33f9-b802-459b-c6ff-483303936d3f",
        "colab": {
          "base_uri": "https://localhost:8080/",
          "height": 193
        }
      },
      "source": [
        "[tuned_models[i].evaluate(val_dataset) for i in range(5)]"
      ],
      "execution_count": 0,
      "outputs": [
        {
          "output_type": "stream",
          "text": [
            "22/22 [==============================] - 0s 21ms/step - loss: 0.1667 - mean_absolute_error: 0.3093 - root_mean_squared_error: 0.4077\n",
            "22/22 [==============================] - 0s 21ms/step - loss: 0.1700 - mean_absolute_error: 0.3107 - root_mean_squared_error: 0.4108\n",
            "22/22 [==============================] - 0s 20ms/step - loss: 0.1703 - mean_absolute_error: 0.3076 - root_mean_squared_error: 0.4086\n",
            "22/22 [==============================] - 1s 28ms/step - loss: 0.1715 - mean_absolute_error: 0.3061 - root_mean_squared_error: 0.4028\n",
            "22/22 [==============================] - 0s 21ms/step - loss: 0.1767 - mean_absolute_error: 0.3123 - root_mean_squared_error: 0.4075\n"
          ],
          "name": "stdout"
        },
        {
          "output_type": "execute_result",
          "data": {
            "text/plain": [
              "[[0.16667743704535745, 0.30931762, 0.40771574],\n",
              " [0.16996756331487137, 0.31070343, 0.4107687],\n",
              " [0.17032155936414545, 0.3075532, 0.4086319],\n",
              " [0.17151365700093182, 0.30613527, 0.40276256],\n",
              " [0.17667461186647415, 0.3123318, 0.40747985]]"
            ]
          },
          "metadata": {
            "tags": []
          },
          "execution_count": 62
        }
      ]
    },
    {
      "cell_type": "markdown",
      "metadata": {
        "id": "hmRw-xE32iWv",
        "colab_type": "text"
      },
      "source": [
        "### ***Hyper Tuned Model***"
      ]
    },
    {
      "cell_type": "code",
      "metadata": {
        "id": "rmOSkMvo2e8d",
        "colab_type": "code",
        "colab": {}
      },
      "source": [
        "def make_tuned_model(\n",
        "    user_dim,\n",
        "    item_dim,\n",
        "    embedding_dim,\n",
        "    user_embedding_reg_l2,\n",
        "    user_embedding_dropout,\n",
        "    item_embedding_reg_l2,\n",
        "    item_embedding_dropout,\n",
        "):\n",
        "    user_input = keras.layers.Input(shape=(1,))\n",
        "    user_embedding = keras.layers.Embedding(\n",
        "        user_dim,\n",
        "        embedding_dim,\n",
        "        embeddings_regularizer=keras.regularizers.l2(l=user_embedding_reg_l2),\n",
        "        input_length=1,\n",
        "    )(user_input)\n",
        "    user_embedding = keras.layers.Flatten()(user_embedding)\n",
        "    user_embedding = keras.layers.Dropout(rate=user_embedding_dropout)(user_embedding)\n",
        "    user_bias = keras.layers.Embedding(user_dim, 1, input_length=1,)(user_input)\n",
        "    user_bias = keras.layers.Flatten()(user_bias)\n",
        "\n",
        "    item_input = keras.layers.Input(shape=(1,))\n",
        "    item_embedding = keras.layers.Embedding(\n",
        "        item_dim, \n",
        "        embedding_dim, \n",
        "        embeddings_regularizer=keras.regularizers.l2(l=item_embedding_reg_l2),\n",
        "        input_length=1,\n",
        "    )(item_input)\n",
        "    item_embedding = keras.layers.Flatten()(item_embedding)\n",
        "    item_embedding = keras.layers.Dropout(rate=item_embedding_dropout)(item_embedding)\n",
        "    item_bias = keras.layers.Embedding(item_dim, 1, input_length=1,)(item_input)\n",
        "    item_bias = keras.layers.Flatten()(item_bias)\n",
        "\n",
        "    dot_product = keras.layers.Dot(axes=1)([user_embedding, item_embedding])\n",
        "    logits = keras.layers.Add()([dot_product, user_bias, item_bias])\n",
        "    outputs = keras.layers.Activation(keras.activations.tanh)(logits)\n",
        "\n",
        "    model = keras.Model(inputs=[user_input, item_input], outputs=outputs)\n",
        "    return model"
      ],
      "execution_count": 0,
      "outputs": []
    },
    {
      "cell_type": "code",
      "metadata": {
        "id": "_7RSbiMx6NyO",
        "colab_type": "code",
        "colab": {}
      },
      "source": [
        "# |-embedding_dim: 16\n",
        "# |-item_dim: 160\n",
        "# |-item_embedding_dropout: 0.2\n",
        "# |-item_embeddings_regularization_l2: 1.3488519705713262e-08\n",
        "# |-learning_rate: 0.0005\n",
        "# |-user_dim: 67000\n",
        "# |-user_embedding_dropout: 0.8\n",
        "# |-user_embeddings_regularization_l2: 7.429678530403645e-08\n",
        "# |-Score: 0.16667743704535745\n",
        "\n",
        "LEARN_RATE = 5e-4\n",
        "EPOCHS = 100\n",
        "EMBEDDINGS = 16\n",
        "\n",
        "USER_REG_L2 = 7.429678530403645e-08\n",
        "USER_DROPOUT = 0.8 \n",
        "\n",
        "ITEM_REG_L2 = 1.3488519705713262e-08\n",
        "ITEM_DROPOUT = 0.2"
      ],
      "execution_count": 0,
      "outputs": []
    },
    {
      "cell_type": "code",
      "metadata": {
        "id": "G-vc0_jS2tnA",
        "colab_type": "code",
        "outputId": "66ad9718-dfae-419b-b156-adad757c2d3e",
        "colab": {
          "base_uri": "https://localhost:8080/",
          "height": 55
        }
      },
      "source": [
        "model = make_tuned_model(\n",
        "    user_dim=n_users,\n",
        "    item_dim=n_items,\n",
        "    embedding_dim=EMBEDDINGS,\n",
        "    user_embedding_reg_l2=USER_REG_L2,\n",
        "    user_embedding_dropout=USER_DROPOUT,\n",
        "    item_embedding_reg_l2=ITEM_REG_L2,\n",
        "    item_embedding_dropout=ITEM_DROPOUT,\n",
        ")"
      ],
      "execution_count": 0,
      "outputs": [
        {
          "output_type": "stream",
          "text": [
            "WARNING:tensorflow:Large dropout rate: 0.8 (>0.5). In TensorFlow 2.x, dropout() uses dropout rate instead of keep_prob. Please ensure that this is intended.\n"
          ],
          "name": "stdout"
        }
      ]
    },
    {
      "cell_type": "code",
      "metadata": {
        "id": "ZL3mtrNH7vex",
        "colab_type": "code",
        "outputId": "384750f3-657e-45ff-b401-1875df633688",
        "colab": {
          "base_uri": "https://localhost:8080/",
          "height": 739
        }
      },
      "source": [
        "model.summary()"
      ],
      "execution_count": 0,
      "outputs": [
        {
          "output_type": "stream",
          "text": [
            "Model: \"model\"\n",
            "__________________________________________________________________________________________________\n",
            "Layer (type)                    Output Shape         Param #     Connected to                     \n",
            "==================================================================================================\n",
            "input_1 (InputLayer)            [(None, 1)]          0                                            \n",
            "__________________________________________________________________________________________________\n",
            "input_2 (InputLayer)            [(None, 1)]          0                                            \n",
            "__________________________________________________________________________________________________\n",
            "embedding (Embedding)           (None, 1, 16)        1072000     input_1[0][0]                    \n",
            "__________________________________________________________________________________________________\n",
            "embedding_2 (Embedding)         (None, 1, 16)        2560        input_2[0][0]                    \n",
            "__________________________________________________________________________________________________\n",
            "flatten (Flatten)               (None, 16)           0           embedding[0][0]                  \n",
            "__________________________________________________________________________________________________\n",
            "flatten_2 (Flatten)             (None, 16)           0           embedding_2[0][0]                \n",
            "__________________________________________________________________________________________________\n",
            "dropout (Dropout)               (None, 16)           0           flatten[0][0]                    \n",
            "__________________________________________________________________________________________________\n",
            "dropout_1 (Dropout)             (None, 16)           0           flatten_2[0][0]                  \n",
            "__________________________________________________________________________________________________\n",
            "embedding_1 (Embedding)         (None, 1, 1)         67000       input_1[0][0]                    \n",
            "__________________________________________________________________________________________________\n",
            "embedding_3 (Embedding)         (None, 1, 1)         160         input_2[0][0]                    \n",
            "__________________________________________________________________________________________________\n",
            "dot (Dot)                       (None, 1)            0           dropout[0][0]                    \n",
            "                                                                 dropout_1[0][0]                  \n",
            "__________________________________________________________________________________________________\n",
            "flatten_1 (Flatten)             (None, 1)            0           embedding_1[0][0]                \n",
            "__________________________________________________________________________________________________\n",
            "flatten_3 (Flatten)             (None, 1)            0           embedding_3[0][0]                \n",
            "__________________________________________________________________________________________________\n",
            "add (Add)                       (None, 1)            0           dot[0][0]                        \n",
            "                                                                 flatten_1[0][0]                  \n",
            "                                                                 flatten_3[0][0]                  \n",
            "__________________________________________________________________________________________________\n",
            "activation (Activation)         (None, 1)            0           add[0][0]                        \n",
            "==================================================================================================\n",
            "Total params: 1,141,720\n",
            "Trainable params: 1,141,720\n",
            "Non-trainable params: 0\n",
            "__________________________________________________________________________________________________\n"
          ],
          "name": "stdout"
        }
      ]
    },
    {
      "cell_type": "code",
      "metadata": {
        "id": "nsEGgxmA7ykE",
        "colab_type": "code",
        "colab": {}
      },
      "source": [
        "model.compile(\n",
        "    optimizer=keras.optimizers.Adam(lr=LEARN_RATE),\n",
        "    loss=keras.losses.mse,\n",
        "    metrics=[keras.metrics.mae, keras.metrics.RootMeanSquaredError()],\n",
        ")"
      ],
      "execution_count": 0,
      "outputs": []
    },
    {
      "cell_type": "code",
      "metadata": {
        "id": "lVf87mhh8WE9",
        "colab_type": "code",
        "outputId": "1443f230-c05d-4e3f-967f-1a7d7827a55b",
        "colab": {
          "base_uri": "https://localhost:8080/",
          "height": 1000
        }
      },
      "source": [
        "model_history = model.fit(\n",
        "    train_dataset,\n",
        "    steps_per_epoch=train_dataset_steps,\n",
        "    validation_data=val_dataset,\n",
        "    epochs=EPOCHS,\n",
        "    callbacks=callbacks,\n",
        "    verbose=2,\n",
        ")"
      ],
      "execution_count": 0,
      "outputs": [
        {
          "output_type": "stream",
          "text": [
            "Train for 388 steps, validate for 22 steps\n",
            "Epoch 1/100\n",
            "WARNING:tensorflow:Large dropout rate: 0.8 (>0.5). In TensorFlow 2.x, dropout() uses dropout rate instead of keep_prob. Please ensure that this is intended.\n"
          ],
          "name": "stdout"
        },
        {
          "output_type": "stream",
          "text": [
            "/tensorflow-2.1.0/python3.6/tensorflow_core/python/framework/indexed_slices.py:433: UserWarning: Converting sparse IndexedSlices to a dense Tensor of unknown shape. This may consume a large amount of memory.\n",
            "  \"Converting sparse IndexedSlices to a dense Tensor of unknown shape. \"\n"
          ],
          "name": "stderr"
        },
        {
          "output_type": "stream",
          "text": [
            "WARNING:tensorflow:Large dropout rate: 0.8 (>0.5). In TensorFlow 2.x, dropout() uses dropout rate instead of keep_prob. Please ensure that this is intended.\n"
          ],
          "name": "stdout"
        },
        {
          "output_type": "stream",
          "text": [
            "/tensorflow-2.1.0/python3.6/tensorflow_core/python/framework/indexed_slices.py:433: UserWarning: Converting sparse IndexedSlices to a dense Tensor of unknown shape. This may consume a large amount of memory.\n",
            "  \"Converting sparse IndexedSlices to a dense Tensor of unknown shape. \"\n"
          ],
          "name": "stderr"
        },
        {
          "output_type": "stream",
          "text": [
            "388/388 - 11s - loss: 0.2752 - mean_absolute_error: 0.4390 - root_mean_squared_error: 0.5246 - val_loss: 0.2516 - val_mean_absolute_error: 0.4152 - val_root_mean_squared_error: 0.5015\n",
            "Epoch 2/100\n",
            "388/388 - 7s - loss: 0.2375 - mean_absolute_error: 0.4000 - root_mean_squared_error: 0.4872 - val_loss: 0.2301 - val_mean_absolute_error: 0.3911 - val_root_mean_squared_error: 0.4795\n",
            "Epoch 3/100\n",
            "388/388 - 7s - loss: 0.2193 - mean_absolute_error: 0.3797 - root_mean_squared_error: 0.4682 - val_loss: 0.2137 - val_mean_absolute_error: 0.3731 - val_root_mean_squared_error: 0.4622\n",
            "Epoch 4/100\n",
            "388/388 - 8s - loss: 0.2027 - mean_absolute_error: 0.3611 - root_mean_squared_error: 0.4501 - val_loss: 0.1988 - val_mean_absolute_error: 0.3563 - val_root_mean_squared_error: 0.4456\n",
            "Epoch 5/100\n",
            "388/388 - 7s - loss: 0.1911 - mean_absolute_error: 0.3472 - root_mean_squared_error: 0.4370 - val_loss: 0.1896 - val_mean_absolute_error: 0.3451 - val_root_mean_squared_error: 0.4352\n",
            "Epoch 6/100\n",
            "388/388 - 7s - loss: 0.1843 - mean_absolute_error: 0.3384 - root_mean_squared_error: 0.4291 - val_loss: 0.1844 - val_mean_absolute_error: 0.3381 - val_root_mean_squared_error: 0.4292\n",
            "Epoch 7/100\n",
            "388/388 - 7s - loss: 0.1806 - mean_absolute_error: 0.3330 - root_mean_squared_error: 0.4248 - val_loss: 0.1812 - val_mean_absolute_error: 0.3337 - val_root_mean_squared_error: 0.4254\n",
            "Epoch 8/100\n",
            "388/388 - 7s - loss: 0.1771 - mean_absolute_error: 0.3284 - root_mean_squared_error: 0.4206 - val_loss: 0.1791 - val_mean_absolute_error: 0.3306 - val_root_mean_squared_error: 0.4229\n",
            "Epoch 9/100\n",
            "388/388 - 7s - loss: 0.1746 - mean_absolute_error: 0.3251 - root_mean_squared_error: 0.4176 - val_loss: 0.1774 - val_mean_absolute_error: 0.3283 - val_root_mean_squared_error: 0.4209\n",
            "Epoch 10/100\n",
            "388/388 - 7s - loss: 0.1725 - mean_absolute_error: 0.3223 - root_mean_squared_error: 0.4152 - val_loss: 0.1762 - val_mean_absolute_error: 0.3264 - val_root_mean_squared_error: 0.4194\n",
            "Epoch 11/100\n",
            "388/388 - 7s - loss: 0.1708 - mean_absolute_error: 0.3201 - root_mean_squared_error: 0.4130 - val_loss: 0.1753 - val_mean_absolute_error: 0.3249 - val_root_mean_squared_error: 0.4183\n",
            "Epoch 12/100\n",
            "388/388 - 7s - loss: 0.1692 - mean_absolute_error: 0.3180 - root_mean_squared_error: 0.4111 - val_loss: 0.1744 - val_mean_absolute_error: 0.3237 - val_root_mean_squared_error: 0.4173\n",
            "Epoch 13/100\n",
            "388/388 - 7s - loss: 0.1681 - mean_absolute_error: 0.3165 - root_mean_squared_error: 0.4097 - val_loss: 0.1738 - val_mean_absolute_error: 0.3226 - val_root_mean_squared_error: 0.4165\n",
            "Epoch 14/100\n",
            "388/388 - 7s - loss: 0.1668 - mean_absolute_error: 0.3148 - root_mean_squared_error: 0.4082 - val_loss: 0.1732 - val_mean_absolute_error: 0.3217 - val_root_mean_squared_error: 0.4158\n",
            "Epoch 15/100\n",
            "388/388 - 7s - loss: 0.1655 - mean_absolute_error: 0.3133 - root_mean_squared_error: 0.4066 - val_loss: 0.1726 - val_mean_absolute_error: 0.3208 - val_root_mean_squared_error: 0.4151\n",
            "Epoch 16/100\n",
            "388/388 - 7s - loss: 0.1646 - mean_absolute_error: 0.3120 - root_mean_squared_error: 0.4054 - val_loss: 0.1722 - val_mean_absolute_error: 0.3201 - val_root_mean_squared_error: 0.4147\n",
            "Epoch 17/100\n",
            "388/388 - 7s - loss: 0.1637 - mean_absolute_error: 0.3109 - root_mean_squared_error: 0.4043 - val_loss: 0.1718 - val_mean_absolute_error: 0.3195 - val_root_mean_squared_error: 0.4142\n",
            "Epoch 18/100\n",
            "388/388 - 8s - loss: 0.1628 - mean_absolute_error: 0.3097 - root_mean_squared_error: 0.4031 - val_loss: 0.1715 - val_mean_absolute_error: 0.3190 - val_root_mean_squared_error: 0.4138\n",
            "Epoch 19/100\n",
            "388/388 - 7s - loss: 0.1619 - mean_absolute_error: 0.3085 - root_mean_squared_error: 0.4021 - val_loss: 0.1712 - val_mean_absolute_error: 0.3184 - val_root_mean_squared_error: 0.4134\n",
            "Epoch 20/100\n",
            "388/388 - 7s - loss: 0.1612 - mean_absolute_error: 0.3078 - root_mean_squared_error: 0.4012 - val_loss: 0.1709 - val_mean_absolute_error: 0.3178 - val_root_mean_squared_error: 0.4130\n",
            "Epoch 21/100\n",
            "388/388 - 7s - loss: 0.1607 - mean_absolute_error: 0.3069 - root_mean_squared_error: 0.4006 - val_loss: 0.1706 - val_mean_absolute_error: 0.3174 - val_root_mean_squared_error: 0.4126\n",
            "Epoch 22/100\n",
            "388/388 - 7s - loss: 0.1600 - mean_absolute_error: 0.3060 - root_mean_squared_error: 0.3996 - val_loss: 0.1703 - val_mean_absolute_error: 0.3169 - val_root_mean_squared_error: 0.4123\n",
            "Epoch 23/100\n",
            "388/388 - 7s - loss: 0.1591 - mean_absolute_error: 0.3050 - root_mean_squared_error: 0.3985 - val_loss: 0.1700 - val_mean_absolute_error: 0.3164 - val_root_mean_squared_error: 0.4120\n",
            "Epoch 24/100\n",
            "388/388 - 7s - loss: 0.1587 - mean_absolute_error: 0.3044 - root_mean_squared_error: 0.3980 - val_loss: 0.1698 - val_mean_absolute_error: 0.3160 - val_root_mean_squared_error: 0.4117\n",
            "Epoch 25/100\n",
            "388/388 - 7s - loss: 0.1579 - mean_absolute_error: 0.3033 - root_mean_squared_error: 0.3970 - val_loss: 0.1696 - val_mean_absolute_error: 0.3156 - val_root_mean_squared_error: 0.4114\n",
            "Epoch 26/100\n",
            "388/388 - 7s - loss: 0.1573 - mean_absolute_error: 0.3027 - root_mean_squared_error: 0.3962 - val_loss: 0.1694 - val_mean_absolute_error: 0.3152 - val_root_mean_squared_error: 0.4112\n",
            "Epoch 27/100\n",
            "388/388 - 7s - loss: 0.1573 - mean_absolute_error: 0.3024 - root_mean_squared_error: 0.3963 - val_loss: 0.1692 - val_mean_absolute_error: 0.3149 - val_root_mean_squared_error: 0.4109\n",
            "Epoch 28/100\n",
            "388/388 - 7s - loss: 0.1563 - mean_absolute_error: 0.3014 - root_mean_squared_error: 0.3949 - val_loss: 0.1690 - val_mean_absolute_error: 0.3145 - val_root_mean_squared_error: 0.4106\n",
            "Epoch 29/100\n",
            "388/388 - 7s - loss: 0.1560 - mean_absolute_error: 0.3008 - root_mean_squared_error: 0.3946 - val_loss: 0.1688 - val_mean_absolute_error: 0.3143 - val_root_mean_squared_error: 0.4104\n",
            "Epoch 30/100\n",
            "388/388 - 7s - loss: 0.1555 - mean_absolute_error: 0.3001 - root_mean_squared_error: 0.3939 - val_loss: 0.1686 - val_mean_absolute_error: 0.3139 - val_root_mean_squared_error: 0.4102\n",
            "Epoch 31/100\n",
            "388/388 - 7s - loss: 0.1552 - mean_absolute_error: 0.2998 - root_mean_squared_error: 0.3936 - val_loss: 0.1685 - val_mean_absolute_error: 0.3138 - val_root_mean_squared_error: 0.4100\n",
            "Epoch 32/100\n",
            "388/388 - 7s - loss: 0.1544 - mean_absolute_error: 0.2986 - root_mean_squared_error: 0.3925 - val_loss: 0.1683 - val_mean_absolute_error: 0.3134 - val_root_mean_squared_error: 0.4098\n",
            "Epoch 33/100\n",
            "388/388 - 7s - loss: 0.1543 - mean_absolute_error: 0.2985 - root_mean_squared_error: 0.3924 - val_loss: 0.1681 - val_mean_absolute_error: 0.3131 - val_root_mean_squared_error: 0.4096\n",
            "Epoch 34/100\n",
            "388/388 - 7s - loss: 0.1535 - mean_absolute_error: 0.2976 - root_mean_squared_error: 0.3914 - val_loss: 0.1680 - val_mean_absolute_error: 0.3128 - val_root_mean_squared_error: 0.4094\n",
            "Epoch 35/100\n",
            "388/388 - 7s - loss: 0.1537 - mean_absolute_error: 0.2976 - root_mean_squared_error: 0.3916 - val_loss: 0.1679 - val_mean_absolute_error: 0.3125 - val_root_mean_squared_error: 0.4093\n",
            "Epoch 36/100\n",
            "388/388 - 7s - loss: 0.1525 - mean_absolute_error: 0.2963 - root_mean_squared_error: 0.3901 - val_loss: 0.1678 - val_mean_absolute_error: 0.3122 - val_root_mean_squared_error: 0.4091\n",
            "Epoch 37/100\n",
            "388/388 - 7s - loss: 0.1529 - mean_absolute_error: 0.2965 - root_mean_squared_error: 0.3906 - val_loss: 0.1676 - val_mean_absolute_error: 0.3121 - val_root_mean_squared_error: 0.4090\n",
            "Epoch 38/100\n",
            "388/388 - 7s - loss: 0.1522 - mean_absolute_error: 0.2958 - root_mean_squared_error: 0.3897 - val_loss: 0.1676 - val_mean_absolute_error: 0.3119 - val_root_mean_squared_error: 0.4088\n",
            "Epoch 39/100\n",
            "388/388 - 7s - loss: 0.1520 - mean_absolute_error: 0.2954 - root_mean_squared_error: 0.3894 - val_loss: 0.1675 - val_mean_absolute_error: 0.3116 - val_root_mean_squared_error: 0.4087\n",
            "Epoch 40/100\n",
            "388/388 - 7s - loss: 0.1517 - mean_absolute_error: 0.2948 - root_mean_squared_error: 0.3890 - val_loss: 0.1674 - val_mean_absolute_error: 0.3114 - val_root_mean_squared_error: 0.4086\n",
            "Epoch 41/100\n",
            "388/388 - 7s - loss: 0.1514 - mean_absolute_error: 0.2946 - root_mean_squared_error: 0.3887 - val_loss: 0.1673 - val_mean_absolute_error: 0.3112 - val_root_mean_squared_error: 0.4085\n",
            "Epoch 42/100\n",
            "388/388 - 7s - loss: 0.1513 - mean_absolute_error: 0.2942 - root_mean_squared_error: 0.3886 - val_loss: 0.1672 - val_mean_absolute_error: 0.3110 - val_root_mean_squared_error: 0.4084\n",
            "Epoch 43/100\n",
            "388/388 - 7s - loss: 0.1508 - mean_absolute_error: 0.2937 - root_mean_squared_error: 0.3879 - val_loss: 0.1671 - val_mean_absolute_error: 0.3108 - val_root_mean_squared_error: 0.4083\n",
            "Epoch 44/100\n",
            "388/388 - 7s - loss: 0.1507 - mean_absolute_error: 0.2934 - root_mean_squared_error: 0.3878 - val_loss: 0.1671 - val_mean_absolute_error: 0.3106 - val_root_mean_squared_error: 0.4082\n",
            "Epoch 45/100\n",
            "388/388 - 7s - loss: 0.1501 - mean_absolute_error: 0.2926 - root_mean_squared_error: 0.3869 - val_loss: 0.1670 - val_mean_absolute_error: 0.3104 - val_root_mean_squared_error: 0.4081\n",
            "Epoch 46/100\n",
            "388/388 - 7s - loss: 0.1497 - mean_absolute_error: 0.2922 - root_mean_squared_error: 0.3864 - val_loss: 0.1670 - val_mean_absolute_error: 0.3103 - val_root_mean_squared_error: 0.4081\n",
            "Epoch 47/100\n",
            "388/388 - 7s - loss: 0.1500 - mean_absolute_error: 0.2923 - root_mean_squared_error: 0.3869 - val_loss: 0.1669 - val_mean_absolute_error: 0.3101 - val_root_mean_squared_error: 0.4080\n",
            "Epoch 48/100\n",
            "388/388 - 7s - loss: 0.1498 - mean_absolute_error: 0.2919 - root_mean_squared_error: 0.3865 - val_loss: 0.1669 - val_mean_absolute_error: 0.3100 - val_root_mean_squared_error: 0.4079\n",
            "Epoch 49/100\n",
            "388/388 - 7s - loss: 0.1493 - mean_absolute_error: 0.2916 - root_mean_squared_error: 0.3859 - val_loss: 0.1668 - val_mean_absolute_error: 0.3099 - val_root_mean_squared_error: 0.4079\n",
            "Epoch 50/100\n",
            "388/388 - 7s - loss: 0.1493 - mean_absolute_error: 0.2911 - root_mean_squared_error: 0.3859 - val_loss: 0.1668 - val_mean_absolute_error: 0.3096 - val_root_mean_squared_error: 0.4078\n",
            "Epoch 51/100\n",
            "388/388 - 7s - loss: 0.1492 - mean_absolute_error: 0.2910 - root_mean_squared_error: 0.3858 - val_loss: 0.1667 - val_mean_absolute_error: 0.3095 - val_root_mean_squared_error: 0.4078\n",
            "Epoch 52/100\n",
            "388/388 - 7s - loss: 0.1489 - mean_absolute_error: 0.2907 - root_mean_squared_error: 0.3854 - val_loss: 0.1667 - val_mean_absolute_error: 0.3094 - val_root_mean_squared_error: 0.4078\n",
            "Epoch 53/100\n",
            "388/388 - 7s - loss: 0.1486 - mean_absolute_error: 0.2902 - root_mean_squared_error: 0.3850 - val_loss: 0.1667 - val_mean_absolute_error: 0.3093 - val_root_mean_squared_error: 0.4078\n",
            "Epoch 54/100\n",
            "388/388 - 7s - loss: 0.1483 - mean_absolute_error: 0.2900 - root_mean_squared_error: 0.3846 - val_loss: 0.1667 - val_mean_absolute_error: 0.3092 - val_root_mean_squared_error: 0.4078\n",
            "Epoch 55/100\n",
            "388/388 - 7s - loss: 0.1486 - mean_absolute_error: 0.2899 - root_mean_squared_error: 0.3849 - val_loss: 0.1667 - val_mean_absolute_error: 0.3091 - val_root_mean_squared_error: 0.4078\n",
            "Epoch 56/100\n",
            "388/388 - 7s - loss: 0.1480 - mean_absolute_error: 0.2892 - root_mean_squared_error: 0.3842 - val_loss: 0.1667 - val_mean_absolute_error: 0.3091 - val_root_mean_squared_error: 0.4077\n",
            "Epoch 57/100\n",
            "388/388 - 7s - loss: 0.1476 - mean_absolute_error: 0.2889 - root_mean_squared_error: 0.3836 - val_loss: 0.1667 - val_mean_absolute_error: 0.3090 - val_root_mean_squared_error: 0.4077\n",
            "Epoch 58/100\n",
            "388/388 - 7s - loss: 0.1476 - mean_absolute_error: 0.2889 - root_mean_squared_error: 0.3837 - val_loss: 0.1666 - val_mean_absolute_error: 0.3089 - val_root_mean_squared_error: 0.4076\n",
            "Epoch 59/100\n",
            "388/388 - 7s - loss: 0.1474 - mean_absolute_error: 0.2885 - root_mean_squared_error: 0.3834 - val_loss: 0.1666 - val_mean_absolute_error: 0.3089 - val_root_mean_squared_error: 0.4076\n",
            "Epoch 60/100\n",
            "388/388 - 7s - loss: 0.1474 - mean_absolute_error: 0.2885 - root_mean_squared_error: 0.3834 - val_loss: 0.1666 - val_mean_absolute_error: 0.3088 - val_root_mean_squared_error: 0.4076\n",
            "Epoch 61/100\n",
            "388/388 - 7s - loss: 0.1470 - mean_absolute_error: 0.2881 - root_mean_squared_error: 0.3829 - val_loss: 0.1665 - val_mean_absolute_error: 0.3088 - val_root_mean_squared_error: 0.4076\n",
            "Epoch 62/100\n",
            "388/388 - 7s - loss: 0.1472 - mean_absolute_error: 0.2882 - root_mean_squared_error: 0.3832 - val_loss: 0.1665 - val_mean_absolute_error: 0.3087 - val_root_mean_squared_error: 0.4076\n",
            "Epoch 63/100\n",
            "388/388 - 7s - loss: 0.1473 - mean_absolute_error: 0.2883 - root_mean_squared_error: 0.3833 - val_loss: 0.1665 - val_mean_absolute_error: 0.3086 - val_root_mean_squared_error: 0.4075\n",
            "Epoch 64/100\n",
            "388/388 - 7s - loss: 0.1468 - mean_absolute_error: 0.2879 - root_mean_squared_error: 0.3827 - val_loss: 0.1665 - val_mean_absolute_error: 0.3086 - val_root_mean_squared_error: 0.4075\n",
            "Epoch 65/100\n",
            "388/388 - 7s - loss: 0.1468 - mean_absolute_error: 0.2877 - root_mean_squared_error: 0.3826 - val_loss: 0.1665 - val_mean_absolute_error: 0.3086 - val_root_mean_squared_error: 0.4075\n",
            "Epoch 66/100\n",
            "388/388 - 7s - loss: 0.1468 - mean_absolute_error: 0.2876 - root_mean_squared_error: 0.3826 - val_loss: 0.1665 - val_mean_absolute_error: 0.3086 - val_root_mean_squared_error: 0.4075\n",
            "Epoch 67/100\n",
            "388/388 - 7s - loss: 0.1468 - mean_absolute_error: 0.2875 - root_mean_squared_error: 0.3826 - val_loss: 0.1665 - val_mean_absolute_error: 0.3086 - val_root_mean_squared_error: 0.4075\n",
            "Epoch 68/100\n",
            "388/388 - 7s - loss: 0.1468 - mean_absolute_error: 0.2877 - root_mean_squared_error: 0.3826 - val_loss: 0.1665 - val_mean_absolute_error: 0.3085 - val_root_mean_squared_error: 0.4075\n",
            "Epoch 69/100\n",
            "388/388 - 7s - loss: 0.1467 - mean_absolute_error: 0.2875 - root_mean_squared_error: 0.3824 - val_loss: 0.1665 - val_mean_absolute_error: 0.3085 - val_root_mean_squared_error: 0.4075\n",
            "Epoch 70/100\n",
            "388/388 - 7s - loss: 0.1467 - mean_absolute_error: 0.2875 - root_mean_squared_error: 0.3825 - val_loss: 0.1665 - val_mean_absolute_error: 0.3085 - val_root_mean_squared_error: 0.4075\n",
            "Epoch 71/100\n",
            "388/388 - 7s - loss: 0.1469 - mean_absolute_error: 0.2879 - root_mean_squared_error: 0.3828 - val_loss: 0.1665 - val_mean_absolute_error: 0.3085 - val_root_mean_squared_error: 0.4075\n",
            "Epoch 72/100\n",
            "388/388 - 7s - loss: 0.1465 - mean_absolute_error: 0.2874 - root_mean_squared_error: 0.3823 - val_loss: 0.1665 - val_mean_absolute_error: 0.3085 - val_root_mean_squared_error: 0.4075\n",
            "Epoch 73/100\n",
            "388/388 - 7s - loss: 0.1468 - mean_absolute_error: 0.2875 - root_mean_squared_error: 0.3827 - val_loss: 0.1665 - val_mean_absolute_error: 0.3085 - val_root_mean_squared_error: 0.4075\n",
            "Epoch 74/100\n",
            "388/388 - 7s - loss: 0.1468 - mean_absolute_error: 0.2875 - root_mean_squared_error: 0.3827 - val_loss: 0.1665 - val_mean_absolute_error: 0.3085 - val_root_mean_squared_error: 0.4075\n",
            "Epoch 75/100\n",
            "388/388 - 8s - loss: 0.1465 - mean_absolute_error: 0.2872 - root_mean_squared_error: 0.3822 - val_loss: 0.1665 - val_mean_absolute_error: 0.3085 - val_root_mean_squared_error: 0.4075\n",
            "Epoch 76/100\n",
            "388/388 - 7s - loss: 0.1467 - mean_absolute_error: 0.2875 - root_mean_squared_error: 0.3825 - val_loss: 0.1665 - val_mean_absolute_error: 0.3085 - val_root_mean_squared_error: 0.4075\n",
            "Epoch 77/100\n",
            "388/388 - 8s - loss: 0.1465 - mean_absolute_error: 0.2874 - root_mean_squared_error: 0.3823 - val_loss: 0.1665 - val_mean_absolute_error: 0.3085 - val_root_mean_squared_error: 0.4075\n",
            "Epoch 78/100\n",
            "388/388 - 8s - loss: 0.1467 - mean_absolute_error: 0.2874 - root_mean_squared_error: 0.3825 - val_loss: 0.1665 - val_mean_absolute_error: 0.3085 - val_root_mean_squared_error: 0.4075\n",
            "Epoch 79/100\n",
            "388/388 - 8s - loss: 0.1467 - mean_absolute_error: 0.2874 - root_mean_squared_error: 0.3825 - val_loss: 0.1665 - val_mean_absolute_error: 0.3085 - val_root_mean_squared_error: 0.4075\n",
            "Epoch 80/100\n",
            "388/388 - 8s - loss: 0.1465 - mean_absolute_error: 0.2873 - root_mean_squared_error: 0.3823 - val_loss: 0.1665 - val_mean_absolute_error: 0.3085 - val_root_mean_squared_error: 0.4075\n",
            "Epoch 81/100\n",
            "388/388 - 8s - loss: 0.1466 - mean_absolute_error: 0.2873 - root_mean_squared_error: 0.3823 - val_loss: 0.1665 - val_mean_absolute_error: 0.3085 - val_root_mean_squared_error: 0.4075\n",
            "Epoch 82/100\n",
            "388/388 - 7s - loss: 0.1464 - mean_absolute_error: 0.2872 - root_mean_squared_error: 0.3821 - val_loss: 0.1665 - val_mean_absolute_error: 0.3085 - val_root_mean_squared_error: 0.4075\n",
            "Epoch 83/100\n",
            "388/388 - 7s - loss: 0.1468 - mean_absolute_error: 0.2875 - root_mean_squared_error: 0.3826 - val_loss: 0.1665 - val_mean_absolute_error: 0.3085 - val_root_mean_squared_error: 0.4075\n",
            "Epoch 84/100\n",
            "388/388 - 7s - loss: 0.1465 - mean_absolute_error: 0.2873 - root_mean_squared_error: 0.3822 - val_loss: 0.1665 - val_mean_absolute_error: 0.3085 - val_root_mean_squared_error: 0.4075\n",
            "Epoch 85/100\n",
            "388/388 - 7s - loss: 0.1466 - mean_absolute_error: 0.2873 - root_mean_squared_error: 0.3824 - val_loss: 0.1665 - val_mean_absolute_error: 0.3085 - val_root_mean_squared_error: 0.4075\n",
            "Epoch 86/100\n",
            "388/388 - 7s - loss: 0.1464 - mean_absolute_error: 0.2873 - root_mean_squared_error: 0.3821 - val_loss: 0.1665 - val_mean_absolute_error: 0.3085 - val_root_mean_squared_error: 0.4075\n",
            "Epoch 87/100\n",
            "388/388 - 7s - loss: 0.1465 - mean_absolute_error: 0.2872 - root_mean_squared_error: 0.3822 - val_loss: 0.1665 - val_mean_absolute_error: 0.3085 - val_root_mean_squared_error: 0.4075\n",
            "Epoch 88/100\n",
            "388/388 - 8s - loss: 0.1468 - mean_absolute_error: 0.2875 - root_mean_squared_error: 0.3827 - val_loss: 0.1665 - val_mean_absolute_error: 0.3085 - val_root_mean_squared_error: 0.4075\n",
            "Epoch 89/100\n",
            "388/388 - 8s - loss: 0.1465 - mean_absolute_error: 0.2873 - root_mean_squared_error: 0.3822 - val_loss: 0.1665 - val_mean_absolute_error: 0.3085 - val_root_mean_squared_error: 0.4075\n",
            "Epoch 90/100\n",
            "388/388 - 7s - loss: 0.1468 - mean_absolute_error: 0.2874 - root_mean_squared_error: 0.3826 - val_loss: 0.1665 - val_mean_absolute_error: 0.3085 - val_root_mean_squared_error: 0.4075\n",
            "Epoch 91/100\n",
            "388/388 - 8s - loss: 0.1465 - mean_absolute_error: 0.2873 - root_mean_squared_error: 0.3823 - val_loss: 0.1665 - val_mean_absolute_error: 0.3085 - val_root_mean_squared_error: 0.4075\n",
            "Epoch 92/100\n",
            "388/388 - 7s - loss: 0.1463 - mean_absolute_error: 0.2871 - root_mean_squared_error: 0.3820 - val_loss: 0.1665 - val_mean_absolute_error: 0.3085 - val_root_mean_squared_error: 0.4075\n",
            "Epoch 93/100\n",
            "388/388 - 7s - loss: 0.1469 - mean_absolute_error: 0.2876 - root_mean_squared_error: 0.3827 - val_loss: 0.1665 - val_mean_absolute_error: 0.3085 - val_root_mean_squared_error: 0.4075\n",
            "Epoch 94/100\n",
            "388/388 - 7s - loss: 0.1468 - mean_absolute_error: 0.2874 - root_mean_squared_error: 0.3826 - val_loss: 0.1665 - val_mean_absolute_error: 0.3085 - val_root_mean_squared_error: 0.4075\n",
            "Epoch 95/100\n",
            "388/388 - 8s - loss: 0.1464 - mean_absolute_error: 0.2873 - root_mean_squared_error: 0.3821 - val_loss: 0.1665 - val_mean_absolute_error: 0.3085 - val_root_mean_squared_error: 0.4075\n",
            "Epoch 96/100\n",
            "388/388 - 7s - loss: 0.1465 - mean_absolute_error: 0.2873 - root_mean_squared_error: 0.3822 - val_loss: 0.1665 - val_mean_absolute_error: 0.3085 - val_root_mean_squared_error: 0.4075\n",
            "Epoch 97/100\n",
            "388/388 - 7s - loss: 0.1463 - mean_absolute_error: 0.2871 - root_mean_squared_error: 0.3819 - val_loss: 0.1665 - val_mean_absolute_error: 0.3085 - val_root_mean_squared_error: 0.4075\n",
            "Epoch 98/100\n",
            "388/388 - 7s - loss: 0.1465 - mean_absolute_error: 0.2873 - root_mean_squared_error: 0.3822 - val_loss: 0.1665 - val_mean_absolute_error: 0.3085 - val_root_mean_squared_error: 0.4075\n",
            "Epoch 99/100\n",
            "388/388 - 7s - loss: 0.1465 - mean_absolute_error: 0.2873 - root_mean_squared_error: 0.3823 - val_loss: 0.1665 - val_mean_absolute_error: 0.3085 - val_root_mean_squared_error: 0.4075\n",
            "Epoch 100/100\n",
            "388/388 - 7s - loss: 0.1465 - mean_absolute_error: 0.2873 - root_mean_squared_error: 0.3822 - val_loss: 0.1665 - val_mean_absolute_error: 0.3085 - val_root_mean_squared_error: 0.4075\n"
          ],
          "name": "stdout"
        }
      ]
    },
    {
      "cell_type": "code",
      "metadata": {
        "id": "ZXymQ8K88ozE",
        "colab_type": "code",
        "outputId": "36cfff4a-4617-406f-daac-5d01dbcce2de",
        "colab": {
          "base_uri": "https://localhost:8080/",
          "height": 358
        }
      },
      "source": [
        "plot_history(model_history, ['root_mean_squared', 'loss', 'lr'])"
      ],
      "execution_count": 0,
      "outputs": [
        {
          "output_type": "display_data",
          "data": {
            "image/png": "[encoded data removed]",
            "text/plain": [
              "<Figure size 1440x360 with 3 Axes>"
            ]
          },
          "metadata": {
            "tags": []
          }
        }
      ]
    },
    {
      "cell_type": "code",
      "metadata": {
        "id": "av7shV5V81C9",
        "colab_type": "code",
        "outputId": "1f158c7b-89ef-4f56-ca78-7174a1199443",
        "colab": {
          "base_uri": "https://localhost:8080/",
          "height": 52
        }
      },
      "source": [
        "model.evaluate(val_dataset)"
      ],
      "execution_count": 0,
      "outputs": [
        {
          "output_type": "stream",
          "text": [
            "22/22 [==============================] - 0s 15ms/step - loss: 0.1665 - mean_absolute_error: 0.3085 - root_mean_squared_error: 0.4075\n"
          ],
          "name": "stdout"
        },
        {
          "output_type": "execute_result",
          "data": {
            "text/plain": [
              "[0.16646643050692297, 0.30848673, 0.40745568]"
            ]
          },
          "metadata": {
            "tags": []
          },
          "execution_count": 66
        }
      ]
    },
    {
      "cell_type": "code",
      "metadata": {
        "id": "9wlcy3Mo9Pgp",
        "colab_type": "code",
        "outputId": "22ae2e2f-5430-48e0-f6ec-0a20cdb7c233",
        "colab": {
          "base_uri": "https://localhost:8080/",
          "height": 55
        }
      },
      "source": [
        "model_name = 'Tuned Dot Product'\n",
        "model_hist_file = f'{model_name.strip().replace(\" \", \"_\").lower()}_hist.csv'\n",
        "loaded_model = model_capture(model, model_name, model_history)"
      ],
      "execution_count": 0,
      "outputs": [
        {
          "output_type": "stream",
          "text": [
            "WARNING:tensorflow:Large dropout rate: 0.8 (>0.5). In TensorFlow 2.x, dropout() uses dropout rate instead of keep_prob. Please ensure that this is intended.\n"
          ],
          "name": "stdout"
        }
      ]
    },
    {
      "cell_type": "code",
      "metadata": {
        "id": "93u_cIQL9bP2",
        "colab_type": "code",
        "colab": {}
      },
      "source": [
        "loaded_model.compile(\n",
        "    optimizer=keras.optimizers.Adam(lr=LEARN_RATE),\n",
        "    loss=keras.losses.mse,\n",
        "    metrics=[keras.metrics.mae, keras.metrics.RootMeanSquaredError()],\n",
        ")"
      ],
      "execution_count": 0,
      "outputs": []
    },
    {
      "cell_type": "code",
      "metadata": {
        "id": "-0CS5PYn9otA",
        "colab_type": "code",
        "outputId": "8f970d87-2cf0-430f-940f-f05a6cc1bf46",
        "colab": {
          "base_uri": "https://localhost:8080/",
          "height": 52
        }
      },
      "source": [
        "loaded_model.evaluate(val_dataset)"
      ],
      "execution_count": 0,
      "outputs": [
        {
          "output_type": "stream",
          "text": [
            "22/22 [==============================] - 0s 20ms/step - loss: 0.1665 - mean_absolute_error: 0.3085 - root_mean_squared_error: 0.4075\n"
          ],
          "name": "stdout"
        },
        {
          "output_type": "execute_result",
          "data": {
            "text/plain": [
              "[0.16646643050692297, 0.30848673, 0.40745568]"
            ]
          },
          "metadata": {
            "tags": []
          },
          "execution_count": 69
        }
      ]
    },
    {
      "cell_type": "code",
      "metadata": {
        "id": "T4pJXs6G9wIr",
        "colab_type": "code",
        "colab": {}
      },
      "source": [
        "del model"
      ],
      "execution_count": 0,
      "outputs": []
    },
    {
      "cell_type": "code",
      "metadata": {
        "id": "0LlDDjig95Zs",
        "colab_type": "code",
        "outputId": "feb4310b-a8bc-4248-82d2-e8ac7c0fa2b4",
        "colab": {
          "base_uri": "https://localhost:8080/",
          "height": 35
        }
      },
      "source": [
        "model_rmse = model_metric(loaded_model, val_dataset, scaler)\n",
        "model_rmse"
      ],
      "execution_count": 0,
      "outputs": [
        {
          "output_type": "execute_result",
          "data": {
            "text/plain": [
              "4.074557"
            ]
          },
          "metadata": {
            "tags": []
          },
          "execution_count": 71
        }
      ]
    },
    {
      "cell_type": "code",
      "metadata": {
        "id": "QyP_HTvy-Gnk",
        "colab_type": "code",
        "colab": {}
      },
      "source": [
        "model_metrics.loc[f'{model_name} model', 'RMSE'] = model_rmse\n",
        "model_metrics.loc[f'{model_name} model', 'History'] = model_hist_file"
      ],
      "execution_count": 0,
      "outputs": []
    },
    {
      "cell_type": "code",
      "metadata": {
        "id": "qgDt49XP-cT8",
        "colab_type": "code",
        "outputId": "141ffece-b0e9-48b2-fce3-7f2824f4562a",
        "colab": {
          "base_uri": "https://localhost:8080/",
          "height": 172
        }
      },
      "source": [
        "model_metrics[['RMSE']]"
      ],
      "execution_count": 0,
      "outputs": [
        {
          "output_type": "execute_result",
          "data": {
            "text/html": [
              "<div>\n",
              "<style scoped>\n",
              "    .dataframe tbody tr th:only-of-type {\n",
              "        vertical-align: middle;\n",
              "    }\n",
              "\n",
              "    .dataframe tbody tr th {\n",
              "        vertical-align: top;\n",
              "    }\n",
              "\n",
              "    .dataframe thead th {\n",
              "        text-align: right;\n",
              "    }\n",
              "</style>\n",
              "<table border=\"1\" class=\"dataframe\">\n",
              "  <thead>\n",
              "    <tr style=\"text-align: right;\">\n",
              "      <th></th>\n",
              "      <th>RMSE</th>\n",
              "    </tr>\n",
              "  </thead>\n",
              "  <tbody>\n",
              "    <tr>\n",
              "      <th>Concat model</th>\n",
              "      <td>4.1456</td>\n",
              "    </tr>\n",
              "    <tr>\n",
              "      <th>Dot Product model</th>\n",
              "      <td>4.08796</td>\n",
              "    </tr>\n",
              "    <tr>\n",
              "      <th>Combo model</th>\n",
              "      <td>4.13367</td>\n",
              "    </tr>\n",
              "    <tr>\n",
              "      <th>Tuned Dot Product model</th>\n",
              "      <td>4.07456</td>\n",
              "    </tr>\n",
              "  </tbody>\n",
              "</table>\n",
              "</div>"
            ],
            "text/plain": [
              "                            RMSE\n",
              "Concat model              4.1456\n",
              "Dot Product model        4.08796\n",
              "Combo model              4.13367\n",
              "Tuned Dot Product model  4.07456"
            ]
          },
          "metadata": {
            "tags": []
          },
          "execution_count": 73
        }
      ]
    },
    {
      "cell_type": "markdown",
      "metadata": {
        "id": "z5qtq-zGIS18",
        "colab_type": "text"
      },
      "source": [
        "### ***Mean Model***"
      ]
    },
    {
      "cell_type": "code",
      "metadata": {
        "id": "qcWNNz5lIU_u",
        "colab_type": "code",
        "colab": {}
      },
      "source": [
        "class MeanModel(keras.Model):\n",
        "    def __init__(self, mean):\n",
        "        super().__init__()\n",
        "        self.mean = tf.constant(mean, dtype=tf.float32)\n",
        "\n",
        "    def call(self, inputs):\n",
        "        return tf.ones_like(inputs[0], dtype=tf.float32) * self.mean"
      ],
      "execution_count": 0,
      "outputs": []
    },
    {
      "cell_type": "code",
      "metadata": {
        "id": "ELC69roQIoxs",
        "colab_type": "code",
        "colab": {}
      },
      "source": [
        "mean_model = MeanModel(train_data[target_col].mean())"
      ],
      "execution_count": 0,
      "outputs": []
    },
    {
      "cell_type": "code",
      "metadata": {
        "id": "lHTLtuaaOvya",
        "colab_type": "code",
        "colab": {}
      },
      "source": [
        "model_name = 'Mean'"
      ],
      "execution_count": 0,
      "outputs": []
    },
    {
      "cell_type": "code",
      "metadata": {
        "id": "FmNgPgHDI2pi",
        "colab_type": "code",
        "colab": {}
      },
      "source": [
        "mean_model.compile(\n",
        "    optimizer=keras.optimizers.Adam(lr=LEARN_RATE),\n",
        "    loss=keras.losses.mse,\n",
        "    metrics=[keras.metrics.mae, keras.metrics.RootMeanSquaredError()],\n",
        ")"
      ],
      "execution_count": 0,
      "outputs": []
    },
    {
      "cell_type": "code",
      "metadata": {
        "id": "nkQ0DtY-JJQl",
        "colab_type": "code",
        "outputId": "5f2862ca-51d7-48dc-b1f5-cb0e63b534fe",
        "colab": {
          "base_uri": "https://localhost:8080/",
          "height": 52
        }
      },
      "source": [
        "mean_model.evaluate(val_dataset)"
      ],
      "execution_count": 0,
      "outputs": [
        {
          "output_type": "stream",
          "text": [
            "22/22 [==============================] - 0s 14ms/step - loss: 0.2810 - mean_absolute_error: 0.4348 - root_mean_squared_error: 0.5301\n"
          ],
          "name": "stdout"
        },
        {
          "output_type": "execute_result",
          "data": {
            "text/plain": [
              "[0.281025848605416, 0.4348007, 0.53013974]"
            ]
          },
          "metadata": {
            "tags": []
          },
          "execution_count": 63
        }
      ]
    },
    {
      "cell_type": "code",
      "metadata": {
        "id": "KAuNecviNgl3",
        "colab_type": "code",
        "outputId": "484a8630-3db1-4098-bfff-b8fdfd290443",
        "colab": {
          "base_uri": "https://localhost:8080/",
          "height": 35
        }
      },
      "source": [
        "model_rmse = model_metric(mean_model, val_dataset, scaler)\n",
        "model_rmse"
      ],
      "execution_count": 0,
      "outputs": [
        {
          "output_type": "execute_result",
          "data": {
            "text/plain": [
              "5.301398"
            ]
          },
          "metadata": {
            "tags": []
          },
          "execution_count": 65
        }
      ]
    },
    {
      "cell_type": "code",
      "metadata": {
        "id": "E6a89dwfOTC_",
        "colab_type": "code",
        "colab": {}
      },
      "source": [
        "model_metrics.loc[f'{model_name} model', 'RMSE'] = model_rmse\n",
        "model_metrics.loc[f'{model_name} model', 'History'] = None"
      ],
      "execution_count": 0,
      "outputs": []
    },
    {
      "cell_type": "code",
      "metadata": {
        "id": "cxfEEK9UPKNf",
        "colab_type": "code",
        "outputId": "e064cb3a-7437-447e-b7d7-9b959493e3bf",
        "colab": {
          "base_uri": "https://localhost:8080/",
          "height": 203
        }
      },
      "source": [
        "model_metrics[['RMSE']]"
      ],
      "execution_count": 0,
      "outputs": [
        {
          "output_type": "execute_result",
          "data": {
            "text/html": [
              "<div>\n",
              "<style scoped>\n",
              "    .dataframe tbody tr th:only-of-type {\n",
              "        vertical-align: middle;\n",
              "    }\n",
              "\n",
              "    .dataframe tbody tr th {\n",
              "        vertical-align: top;\n",
              "    }\n",
              "\n",
              "    .dataframe thead th {\n",
              "        text-align: right;\n",
              "    }\n",
              "</style>\n",
              "<table border=\"1\" class=\"dataframe\">\n",
              "  <thead>\n",
              "    <tr style=\"text-align: right;\">\n",
              "      <th></th>\n",
              "      <th>RMSE</th>\n",
              "    </tr>\n",
              "  </thead>\n",
              "  <tbody>\n",
              "    <tr>\n",
              "      <th>Concat model</th>\n",
              "      <td>4.1456</td>\n",
              "    </tr>\n",
              "    <tr>\n",
              "      <th>Dot Product model</th>\n",
              "      <td>4.08796</td>\n",
              "    </tr>\n",
              "    <tr>\n",
              "      <th>Combo model</th>\n",
              "      <td>4.13367</td>\n",
              "    </tr>\n",
              "    <tr>\n",
              "      <th>Tuned Dot Product model</th>\n",
              "      <td>4.07456</td>\n",
              "    </tr>\n",
              "    <tr>\n",
              "      <th>Mean model</th>\n",
              "      <td>5.3014</td>\n",
              "    </tr>\n",
              "  </tbody>\n",
              "</table>\n",
              "</div>"
            ],
            "text/plain": [
              "                            RMSE\n",
              "Concat model              4.1456\n",
              "Dot Product model        4.08796\n",
              "Combo model              4.13367\n",
              "Tuned Dot Product model  4.07456\n",
              "Mean model                5.3014"
            ]
          },
          "metadata": {
            "tags": []
          },
          "execution_count": 69
        }
      ]
    },
    {
      "cell_type": "markdown",
      "metadata": {
        "id": "WvYBC5zwBSgN",
        "colab_type": "text"
      },
      "source": [
        "### ***Model Evaluation with Test Data***"
      ]
    },
    {
      "cell_type": "code",
      "metadata": {
        "id": "-IpbStz4cXyW",
        "colab_type": "code",
        "colab": {}
      },
      "source": [
        "test_data, _ = data_scale(test_data, save_scaler=False)"
      ],
      "execution_count": 0,
      "outputs": []
    },
    {
      "cell_type": "code",
      "metadata": {
        "id": "hJ3UI9esBWjz",
        "colab_type": "code",
        "colab": {}
      },
      "source": [
        "test_dataset = make_dataset(test_data, train_set=False)"
      ],
      "execution_count": 0,
      "outputs": []
    },
    {
      "cell_type": "code",
      "metadata": {
        "id": "MsHob1yWCiMK",
        "colab_type": "code",
        "outputId": "b518683c-51c3-4541-da74-36f6cfa1e879",
        "colab": {
          "base_uri": "https://localhost:8080/",
          "height": 35
        }
      },
      "source": [
        "model_rmse = model_metric(loaded_model, test_dataset, scaler)\n",
        "model_rmse"
      ],
      "execution_count": 0,
      "outputs": [
        {
          "output_type": "execute_result",
          "data": {
            "text/plain": [
              "4.0952873"
            ]
          },
          "metadata": {
            "tags": []
          },
          "execution_count": 76
        }
      ]
    },
    {
      "cell_type": "markdown",
      "metadata": {
        "id": "fMdaP75byAlf",
        "colab_type": "text"
      },
      "source": [
        "## ***Final Model***"
      ]
    },
    {
      "cell_type": "code",
      "metadata": {
        "id": "ZsKoshsmOm3H",
        "colab_type": "code",
        "colab": {}
      },
      "source": [
        "model_history = pd.read_csv(MODEL_DIR/model_hist_file, low_memory=False)"
      ],
      "execution_count": 0,
      "outputs": []
    },
    {
      "cell_type": "code",
      "metadata": {
        "id": "vzON5h0VyT7k",
        "colab_type": "code",
        "outputId": "ae7950bc-6e5e-4c07-a992-f533d222e18e",
        "colab": {
          "base_uri": "https://localhost:8080/",
          "height": 417
        }
      },
      "source": [
        "model_history[['val_loss', 'lr']]"
      ],
      "execution_count": 0,
      "outputs": [
        {
          "output_type": "execute_result",
          "data": {
            "text/html": [
              "<div>\n",
              "<style scoped>\n",
              "    .dataframe tbody tr th:only-of-type {\n",
              "        vertical-align: middle;\n",
              "    }\n",
              "\n",
              "    .dataframe tbody tr th {\n",
              "        vertical-align: top;\n",
              "    }\n",
              "\n",
              "    .dataframe thead th {\n",
              "        text-align: right;\n",
              "    }\n",
              "</style>\n",
              "<table border=\"1\" class=\"dataframe\">\n",
              "  <thead>\n",
              "    <tr style=\"text-align: right;\">\n",
              "      <th></th>\n",
              "      <th>val_loss</th>\n",
              "      <th>lr</th>\n",
              "    </tr>\n",
              "  </thead>\n",
              "  <tbody>\n",
              "    <tr>\n",
              "      <th>0</th>\n",
              "      <td>0.251644</td>\n",
              "      <td>5.000000e-04</td>\n",
              "    </tr>\n",
              "    <tr>\n",
              "      <th>1</th>\n",
              "      <td>0.230083</td>\n",
              "      <td>5.000000e-04</td>\n",
              "    </tr>\n",
              "    <tr>\n",
              "      <th>2</th>\n",
              "      <td>0.213747</td>\n",
              "      <td>5.000000e-04</td>\n",
              "    </tr>\n",
              "    <tr>\n",
              "      <th>3</th>\n",
              "      <td>0.198753</td>\n",
              "      <td>5.000000e-04</td>\n",
              "    </tr>\n",
              "    <tr>\n",
              "      <th>4</th>\n",
              "      <td>0.189561</td>\n",
              "      <td>5.000000e-04</td>\n",
              "    </tr>\n",
              "    <tr>\n",
              "      <th>...</th>\n",
              "      <td>...</td>\n",
              "      <td>...</td>\n",
              "    </tr>\n",
              "    <tr>\n",
              "      <th>95</th>\n",
              "      <td>0.166466</td>\n",
              "      <td>3.280500e-08</td>\n",
              "    </tr>\n",
              "    <tr>\n",
              "      <th>96</th>\n",
              "      <td>0.166466</td>\n",
              "      <td>3.280500e-08</td>\n",
              "    </tr>\n",
              "    <tr>\n",
              "      <th>97</th>\n",
              "      <td>0.166466</td>\n",
              "      <td>3.280500e-08</td>\n",
              "    </tr>\n",
              "    <tr>\n",
              "      <th>98</th>\n",
              "      <td>0.166466</td>\n",
              "      <td>3.280500e-08</td>\n",
              "    </tr>\n",
              "    <tr>\n",
              "      <th>99</th>\n",
              "      <td>0.166466</td>\n",
              "      <td>9.841500e-09</td>\n",
              "    </tr>\n",
              "  </tbody>\n",
              "</table>\n",
              "<p>100 rows × 2 columns</p>\n",
              "</div>"
            ],
            "text/plain": [
              "    val_loss            lr\n",
              "0   0.251644  5.000000e-04\n",
              "1   0.230083  5.000000e-04\n",
              "2   0.213747  5.000000e-04\n",
              "3   0.198753  5.000000e-04\n",
              "4   0.189561  5.000000e-04\n",
              "..       ...           ...\n",
              "95  0.166466  3.280500e-08\n",
              "96  0.166466  3.280500e-08\n",
              "97  0.166466  3.280500e-08\n",
              "98  0.166466  3.280500e-08\n",
              "99  0.166466  9.841500e-09\n",
              "\n",
              "[100 rows x 2 columns]"
            ]
          },
          "metadata": {
            "tags": []
          },
          "execution_count": 78
        }
      ]
    },
    {
      "cell_type": "code",
      "metadata": {
        "id": "7XCO-aqI-1Is",
        "colab_type": "code",
        "outputId": "e38f5f41-05e3-413c-eaac-48f68680c39c",
        "colab": {
          "base_uri": "https://localhost:8080/",
          "height": 35
        }
      },
      "source": [
        "EPOCHS = model_history['val_loss'].idxmin() + 1\n",
        "EPOCHS"
      ],
      "execution_count": 0,
      "outputs": [
        {
          "output_type": "execute_result",
          "data": {
            "text/plain": [
              "99"
            ]
          },
          "metadata": {
            "tags": []
          },
          "execution_count": 79
        }
      ]
    },
    {
      "cell_type": "code",
      "metadata": {
        "id": "Fus-yeCBzN8k",
        "colab_type": "code",
        "colab": {}
      },
      "source": [
        "valtrain_data = pd.concat([train_data, val_data], ignore_index=True)"
      ],
      "execution_count": 0,
      "outputs": []
    },
    {
      "cell_type": "code",
      "metadata": {
        "id": "w_l6x57Ezklz",
        "colab_type": "code",
        "outputId": "ad17c0c3-36e4-418d-a325-3257c2d1d547",
        "colab": {
          "base_uri": "https://localhost:8080/",
          "height": 35
        }
      },
      "source": [
        "print([data.shape for data in (train_data, val_data, valtrain_data)])"
      ],
      "execution_count": 0,
      "outputs": [
        {
          "output_type": "stream",
          "text": [
            "[(1585295, 4), (88072, 4), (1673367, 4)]\n"
          ],
          "name": "stdout"
        }
      ]
    },
    {
      "cell_type": "code",
      "metadata": {
        "id": "J5gEJemi0N6h",
        "colab_type": "code",
        "outputId": "25382b25-574a-44aa-c23f-33cfd076866a",
        "colab": {
          "base_uri": "https://localhost:8080/",
          "height": 203
        }
      },
      "source": [
        "valtrain_data.head()"
      ],
      "execution_count": 0,
      "outputs": [
        {
          "output_type": "execute_result",
          "data": {
            "text/html": [
              "<div>\n",
              "<style scoped>\n",
              "    .dataframe tbody tr th:only-of-type {\n",
              "        vertical-align: middle;\n",
              "    }\n",
              "\n",
              "    .dataframe tbody tr th {\n",
              "        vertical-align: top;\n",
              "    }\n",
              "\n",
              "    .dataframe thead th {\n",
              "        text-align: right;\n",
              "    }\n",
              "</style>\n",
              "<table border=\"1\" class=\"dataframe\">\n",
              "  <thead>\n",
              "    <tr style=\"text-align: right;\">\n",
              "      <th></th>\n",
              "      <th>userId</th>\n",
              "      <th>jokeId</th>\n",
              "      <th>rating</th>\n",
              "      <th>new_rating</th>\n",
              "    </tr>\n",
              "  </thead>\n",
              "  <tbody>\n",
              "    <tr>\n",
              "      <th>0</th>\n",
              "      <td>36445</td>\n",
              "      <td>19</td>\n",
              "      <td>0.1438</td>\n",
              "      <td>1.0</td>\n",
              "    </tr>\n",
              "    <tr>\n",
              "      <th>1</th>\n",
              "      <td>2727</td>\n",
              "      <td>13</td>\n",
              "      <td>0.3781</td>\n",
              "      <td>4.0</td>\n",
              "    </tr>\n",
              "    <tr>\n",
              "      <th>2</th>\n",
              "      <td>33219</td>\n",
              "      <td>53</td>\n",
              "      <td>0.5562</td>\n",
              "      <td>6.0</td>\n",
              "    </tr>\n",
              "    <tr>\n",
              "      <th>3</th>\n",
              "      <td>30926</td>\n",
              "      <td>141</td>\n",
              "      <td>-0.9250</td>\n",
              "      <td>-9.0</td>\n",
              "    </tr>\n",
              "    <tr>\n",
              "      <th>4</th>\n",
              "      <td>36586</td>\n",
              "      <td>104</td>\n",
              "      <td>0.3125</td>\n",
              "      <td>3.0</td>\n",
              "    </tr>\n",
              "  </tbody>\n",
              "</table>\n",
              "</div>"
            ],
            "text/plain": [
              "   userId  jokeId  rating  new_rating\n",
              "0   36445      19  0.1438         1.0\n",
              "1    2727      13  0.3781         4.0\n",
              "2   33219      53  0.5562         6.0\n",
              "3   30926     141 -0.9250        -9.0\n",
              "4   36586     104  0.3125         3.0"
            ]
          },
          "metadata": {
            "tags": []
          },
          "execution_count": 82
        }
      ]
    },
    {
      "cell_type": "code",
      "metadata": {
        "id": "VMuTM_tk0KC8",
        "colab_type": "code",
        "colab": {}
      },
      "source": [
        "valtrain_dataset = make_dataset(valtrain_data, train_set=True)\n",
        "valtrain_dataset_steps = math.ceil(len(valtrain_data) / BATCH_SIZE)"
      ],
      "execution_count": 0,
      "outputs": []
    },
    {
      "cell_type": "code",
      "metadata": {
        "id": "7Y0GdLhn0xuk",
        "colab_type": "code",
        "outputId": "8019b3a3-40c8-4740-f9ab-522b7891c290",
        "colab": {
          "base_uri": "https://localhost:8080/",
          "height": 55
        }
      },
      "source": [
        "model = make_tuned_model(\n",
        "    user_dim=n_users,\n",
        "    item_dim=n_items,\n",
        "    embedding_dim=EMBEDDINGS,\n",
        "    user_embedding_reg_l2=USER_REG_L2,\n",
        "    user_embedding_dropout=USER_DROPOUT,\n",
        "    item_embedding_reg_l2=ITEM_REG_L2,\n",
        "    item_embedding_dropout=ITEM_DROPOUT,\n",
        ")"
      ],
      "execution_count": 0,
      "outputs": [
        {
          "output_type": "stream",
          "text": [
            "WARNING:tensorflow:Large dropout rate: 0.8 (>0.5). In TensorFlow 2.x, dropout() uses dropout rate instead of keep_prob. Please ensure that this is intended.\n"
          ],
          "name": "stdout"
        }
      ]
    },
    {
      "cell_type": "code",
      "metadata": {
        "id": "AxjI5tFi2oNH",
        "colab_type": "code",
        "colab": {}
      },
      "source": [
        "model.compile(\n",
        "    optimizer=keras.optimizers.Adam(lr=LEARN_RATE),\n",
        "    loss=keras.losses.mse,\n",
        "    metrics=[keras.metrics.mae, keras.metrics.RootMeanSquaredError()],\n",
        ")"
      ],
      "execution_count": 0,
      "outputs": []
    },
    {
      "cell_type": "code",
      "metadata": {
        "id": "aZvup9Ex2_FF",
        "colab_type": "code",
        "colab": {}
      },
      "source": [
        "def scheduler(epoch):\n",
        "    lr_series = model_history['lr']\n",
        "    lr = lr_series[epoch]\n",
        "    print(\"Learn Rate: \", lr, \" Epoch: \", epoch + 1)\n",
        "    return lr"
      ],
      "execution_count": 0,
      "outputs": []
    },
    {
      "cell_type": "code",
      "metadata": {
        "id": "S8Mn1Wja3Iy-",
        "colab_type": "code",
        "colab": {}
      },
      "source": [
        "callbacks=[\n",
        "    keras.callbacks.LearningRateScheduler(scheduler)\n",
        "]"
      ],
      "execution_count": 0,
      "outputs": []
    },
    {
      "cell_type": "code",
      "metadata": {
        "id": "ECTTSd9W4mAd",
        "colab_type": "code",
        "outputId": "5b254641-9bbe-4199-f44c-4536c2fc5a58",
        "colab": {
          "base_uri": "https://localhost:8080/",
          "height": 1000
        }
      },
      "source": [
        "model_history = model.fit(\n",
        "    valtrain_dataset,\n",
        "    steps_per_epoch=valtrain_dataset_steps,\n",
        "    validation_data=test_dataset,\n",
        "    epochs=EPOCHS,\n",
        "    callbacks=callbacks,\n",
        "    verbose=2,\n",
        ")"
      ],
      "execution_count": 0,
      "outputs": [
        {
          "output_type": "stream",
          "text": [
            "Train for 409 steps, validate for 22 steps\n",
            "Learn Rate:  0.0005000000237487257  Epoch:  1\n",
            "Epoch 1/99\n"
          ],
          "name": "stdout"
        },
        {
          "output_type": "stream",
          "text": [
            "/tensorflow-2.1.0/python3.6/tensorflow_core/python/framework/indexed_slices.py:433: UserWarning: Converting sparse IndexedSlices to a dense Tensor of unknown shape. This may consume a large amount of memory.\n",
            "  \"Converting sparse IndexedSlices to a dense Tensor of unknown shape. \"\n",
            "/tensorflow-2.1.0/python3.6/tensorflow_core/python/framework/indexed_slices.py:433: UserWarning: Converting sparse IndexedSlices to a dense Tensor of unknown shape. This may consume a large amount of memory.\n",
            "  \"Converting sparse IndexedSlices to a dense Tensor of unknown shape. \"\n"
          ],
          "name": "stderr"
        },
        {
          "output_type": "stream",
          "text": [
            "409/409 - 13s - loss: 0.2739 - mean_absolute_error: 0.4376 - root_mean_squared_error: 0.5233 - val_loss: 0.2504 - val_mean_absolute_error: 0.4139 - val_root_mean_squared_error: 0.5003\n",
            "Learn Rate:  0.0005000000237487257  Epoch:  2\n",
            "Epoch 2/99\n",
            "409/409 - 8s - loss: 0.2358 - mean_absolute_error: 0.3980 - root_mean_squared_error: 0.4855 - val_loss: 0.2275 - val_mean_absolute_error: 0.3885 - val_root_mean_squared_error: 0.4768\n",
            "Learn Rate:  0.0005000000237487257  Epoch:  3\n",
            "Epoch 3/99\n",
            "409/409 - 8s - loss: 0.2151 - mean_absolute_error: 0.3752 - root_mean_squared_error: 0.4637 - val_loss: 0.2088 - val_mean_absolute_error: 0.3679 - val_root_mean_squared_error: 0.4568\n",
            "Learn Rate:  0.0005000000237487257  Epoch:  4\n",
            "Epoch 4/99\n",
            "409/409 - 8s - loss: 0.1986 - mean_absolute_error: 0.3563 - root_mean_squared_error: 0.4456 - val_loss: 0.1952 - val_mean_absolute_error: 0.3520 - val_root_mean_squared_error: 0.4416\n",
            "Learn Rate:  0.0005000000237487257  Epoch:  5\n",
            "Epoch 5/99\n",
            "409/409 - 8s - loss: 0.1885 - mean_absolute_error: 0.3438 - root_mean_squared_error: 0.4341 - val_loss: 0.1878 - val_mean_absolute_error: 0.3424 - val_root_mean_squared_error: 0.4331\n",
            "Learn Rate:  0.0005000000237487257  Epoch:  6\n",
            "Epoch 6/99\n",
            "409/409 - 8s - loss: 0.1831 - mean_absolute_error: 0.3364 - root_mean_squared_error: 0.4277 - val_loss: 0.1833 - val_mean_absolute_error: 0.3364 - val_root_mean_squared_error: 0.4279\n",
            "Learn Rate:  0.0005000000237487257  Epoch:  7\n",
            "Epoch 7/99\n",
            "409/409 - 8s - loss: 0.1787 - mean_absolute_error: 0.3307 - root_mean_squared_error: 0.4226 - val_loss: 0.1805 - val_mean_absolute_error: 0.3323 - val_root_mean_squared_error: 0.4246\n",
            "Learn Rate:  0.0005000000237487257  Epoch:  8\n",
            "Epoch 8/99\n",
            "409/409 - 8s - loss: 0.1765 - mean_absolute_error: 0.3274 - root_mean_squared_error: 0.4199 - val_loss: 0.1786 - val_mean_absolute_error: 0.3296 - val_root_mean_squared_error: 0.4224\n",
            "Learn Rate:  0.0005000000237487257  Epoch:  9\n",
            "Epoch 9/99\n",
            "409/409 - 8s - loss: 0.1736 - mean_absolute_error: 0.3237 - root_mean_squared_error: 0.4164 - val_loss: 0.1772 - val_mean_absolute_error: 0.3273 - val_root_mean_squared_error: 0.4207\n",
            "Learn Rate:  0.0005000000237487257  Epoch:  10\n",
            "Epoch 10/99\n",
            "409/409 - 8s - loss: 0.1716 - mean_absolute_error: 0.3211 - root_mean_squared_error: 0.4141 - val_loss: 0.1761 - val_mean_absolute_error: 0.3257 - val_root_mean_squared_error: 0.4194\n",
            "Learn Rate:  0.0005000000237487257  Epoch:  11\n",
            "Epoch 11/99\n",
            "409/409 - 8s - loss: 0.1701 - mean_absolute_error: 0.3191 - root_mean_squared_error: 0.4122 - val_loss: 0.1754 - val_mean_absolute_error: 0.3244 - val_root_mean_squared_error: 0.4185\n",
            "Learn Rate:  0.0005000000237487257  Epoch:  12\n",
            "Epoch 12/99\n",
            "409/409 - 8s - loss: 0.1688 - mean_absolute_error: 0.3174 - root_mean_squared_error: 0.4106 - val_loss: 0.1748 - val_mean_absolute_error: 0.3232 - val_root_mean_squared_error: 0.4177\n",
            "Learn Rate:  0.0005000000237487257  Epoch:  13\n",
            "Epoch 13/99\n",
            "409/409 - 8s - loss: 0.1674 - mean_absolute_error: 0.3156 - root_mean_squared_error: 0.4089 - val_loss: 0.1741 - val_mean_absolute_error: 0.3222 - val_root_mean_squared_error: 0.4170\n",
            "Learn Rate:  0.0005000000237487257  Epoch:  14\n",
            "Epoch 14/99\n",
            "409/409 - 8s - loss: 0.1665 - mean_absolute_error: 0.3143 - root_mean_squared_error: 0.4078 - val_loss: 0.1736 - val_mean_absolute_error: 0.3212 - val_root_mean_squared_error: 0.4163\n",
            "Learn Rate:  0.0005000000237487257  Epoch:  15\n",
            "Epoch 15/99\n",
            "409/409 - 8s - loss: 0.1654 - mean_absolute_error: 0.3130 - root_mean_squared_error: 0.4065 - val_loss: 0.1731 - val_mean_absolute_error: 0.3205 - val_root_mean_squared_error: 0.4158\n",
            "Learn Rate:  0.0005000000237487257  Epoch:  16\n",
            "Epoch 16/99\n",
            "409/409 - 8s - loss: 0.1643 - mean_absolute_error: 0.3116 - root_mean_squared_error: 0.4051 - val_loss: 0.1728 - val_mean_absolute_error: 0.3198 - val_root_mean_squared_error: 0.4153\n",
            "Learn Rate:  0.0005000000237487257  Epoch:  17\n",
            "Epoch 17/99\n",
            "409/409 - 8s - loss: 0.1637 - mean_absolute_error: 0.3106 - root_mean_squared_error: 0.4042 - val_loss: 0.1725 - val_mean_absolute_error: 0.3193 - val_root_mean_squared_error: 0.4149\n",
            "Learn Rate:  0.0005000000237487257  Epoch:  18\n",
            "Epoch 18/99\n",
            "409/409 - 8s - loss: 0.1626 - mean_absolute_error: 0.3094 - root_mean_squared_error: 0.4029 - val_loss: 0.1721 - val_mean_absolute_error: 0.3186 - val_root_mean_squared_error: 0.4145\n",
            "Learn Rate:  0.0005000000237487257  Epoch:  19\n",
            "Epoch 19/99\n",
            "409/409 - 8s - loss: 0.1618 - mean_absolute_error: 0.3084 - root_mean_squared_error: 0.4019 - val_loss: 0.1719 - val_mean_absolute_error: 0.3181 - val_root_mean_squared_error: 0.4142\n",
            "Learn Rate:  0.0005000000237487257  Epoch:  20\n",
            "Epoch 20/99\n",
            "409/409 - 8s - loss: 0.1612 - mean_absolute_error: 0.3075 - root_mean_squared_error: 0.4012 - val_loss: 0.1716 - val_mean_absolute_error: 0.3176 - val_root_mean_squared_error: 0.4139\n",
            "Learn Rate:  0.0005000000237487257  Epoch:  21\n",
            "Epoch 21/99\n",
            "409/409 - 8s - loss: 0.1608 - mean_absolute_error: 0.3069 - root_mean_squared_error: 0.4007 - val_loss: 0.1714 - val_mean_absolute_error: 0.3172 - val_root_mean_squared_error: 0.4136\n",
            "Learn Rate:  0.0005000000237487257  Epoch:  22\n",
            "Epoch 22/99\n",
            "409/409 - 8s - loss: 0.1601 - mean_absolute_error: 0.3060 - root_mean_squared_error: 0.3997 - val_loss: 0.1712 - val_mean_absolute_error: 0.3167 - val_root_mean_squared_error: 0.4133\n",
            "Learn Rate:  0.0005000000237487257  Epoch:  23\n",
            "Epoch 23/99\n",
            "409/409 - 8s - loss: 0.1594 - mean_absolute_error: 0.3051 - root_mean_squared_error: 0.3989 - val_loss: 0.1711 - val_mean_absolute_error: 0.3165 - val_root_mean_squared_error: 0.4132\n",
            "Learn Rate:  0.0005000000237487257  Epoch:  24\n",
            "Epoch 24/99\n",
            "409/409 - 8s - loss: 0.1588 - mean_absolute_error: 0.3043 - root_mean_squared_error: 0.3981 - val_loss: 0.1708 - val_mean_absolute_error: 0.3161 - val_root_mean_squared_error: 0.4129\n",
            "Learn Rate:  0.0005000000237487257  Epoch:  25\n",
            "Epoch 25/99\n",
            "409/409 - 8s - loss: 0.1581 - mean_absolute_error: 0.3035 - root_mean_squared_error: 0.3973 - val_loss: 0.1706 - val_mean_absolute_error: 0.3157 - val_root_mean_squared_error: 0.4126\n",
            "Learn Rate:  0.0005000000237487257  Epoch:  26\n",
            "Epoch 26/99\n",
            "409/409 - 8s - loss: 0.1579 - mean_absolute_error: 0.3032 - root_mean_squared_error: 0.3970 - val_loss: 0.1704 - val_mean_absolute_error: 0.3152 - val_root_mean_squared_error: 0.4124\n",
            "Learn Rate:  0.0005000000237487257  Epoch:  27\n",
            "Epoch 27/99\n",
            "409/409 - 8s - loss: 0.1572 - mean_absolute_error: 0.3024 - root_mean_squared_error: 0.3962 - val_loss: 0.1702 - val_mean_absolute_error: 0.3149 - val_root_mean_squared_error: 0.4121\n",
            "Learn Rate:  0.0005000000237487257  Epoch:  28\n",
            "Epoch 28/99\n",
            "409/409 - 8s - loss: 0.1570 - mean_absolute_error: 0.3019 - root_mean_squared_error: 0.3959 - val_loss: 0.1701 - val_mean_absolute_error: 0.3147 - val_root_mean_squared_error: 0.4120\n",
            "Learn Rate:  0.0005000000237487257  Epoch:  29\n",
            "Epoch 29/99\n",
            "409/409 - 8s - loss: 0.1562 - mean_absolute_error: 0.3010 - root_mean_squared_error: 0.3949 - val_loss: 0.1699 - val_mean_absolute_error: 0.3143 - val_root_mean_squared_error: 0.4118\n",
            "Learn Rate:  0.0005000000237487257  Epoch:  30\n",
            "Epoch 30/99\n",
            "409/409 - 8s - loss: 0.1560 - mean_absolute_error: 0.3005 - root_mean_squared_error: 0.3946 - val_loss: 0.1698 - val_mean_absolute_error: 0.3141 - val_root_mean_squared_error: 0.4116\n",
            "Learn Rate:  0.0005000000237487257  Epoch:  31\n",
            "Epoch 31/99\n",
            "409/409 - 8s - loss: 0.1553 - mean_absolute_error: 0.2998 - root_mean_squared_error: 0.3937 - val_loss: 0.1696 - val_mean_absolute_error: 0.3137 - val_root_mean_squared_error: 0.4114\n",
            "Learn Rate:  0.0005000000237487257  Epoch:  32\n",
            "Epoch 32/99\n",
            "409/409 - 8s - loss: 0.1555 - mean_absolute_error: 0.2998 - root_mean_squared_error: 0.3939 - val_loss: 0.1695 - val_mean_absolute_error: 0.3134 - val_root_mean_squared_error: 0.4112\n",
            "Learn Rate:  0.0005000000237487257  Epoch:  33\n",
            "Epoch 33/99\n",
            "409/409 - 8s - loss: 0.1545 - mean_absolute_error: 0.2987 - root_mean_squared_error: 0.3926 - val_loss: 0.1693 - val_mean_absolute_error: 0.3131 - val_root_mean_squared_error: 0.4110\n",
            "Learn Rate:  0.0005000000237487257  Epoch:  34\n",
            "Epoch 34/99\n",
            "409/409 - 8s - loss: 0.1543 - mean_absolute_error: 0.2983 - root_mean_squared_error: 0.3924 - val_loss: 0.1693 - val_mean_absolute_error: 0.3129 - val_root_mean_squared_error: 0.4109\n",
            "Learn Rate:  0.0005000000237487257  Epoch:  35\n",
            "Epoch 35/99\n",
            "409/409 - 8s - loss: 0.1539 - mean_absolute_error: 0.2977 - root_mean_squared_error: 0.3919 - val_loss: 0.1691 - val_mean_absolute_error: 0.3127 - val_root_mean_squared_error: 0.4107\n",
            "Learn Rate:  0.0005000000237487257  Epoch:  36\n",
            "Epoch 36/99\n",
            "409/409 - 8s - loss: 0.1539 - mean_absolute_error: 0.2976 - root_mean_squared_error: 0.3918 - val_loss: 0.1690 - val_mean_absolute_error: 0.3125 - val_root_mean_squared_error: 0.4106\n",
            "Learn Rate:  0.0005000000237487257  Epoch:  37\n",
            "Epoch 37/99\n",
            "409/409 - 8s - loss: 0.1529 - mean_absolute_error: 0.2965 - root_mean_squared_error: 0.3906 - val_loss: 0.1689 - val_mean_absolute_error: 0.3122 - val_root_mean_squared_error: 0.4104\n",
            "Learn Rate:  0.0005000000237487257  Epoch:  38\n",
            "Epoch 38/99\n",
            "409/409 - 8s - loss: 0.1532 - mean_absolute_error: 0.2968 - root_mean_squared_error: 0.3910 - val_loss: 0.1689 - val_mean_absolute_error: 0.3121 - val_root_mean_squared_error: 0.4104\n",
            "Learn Rate:  0.0005000000237487257  Epoch:  39\n",
            "Epoch 39/99\n",
            "409/409 - 8s - loss: 0.1529 - mean_absolute_error: 0.2963 - root_mean_squared_error: 0.3906 - val_loss: 0.1688 - val_mean_absolute_error: 0.3118 - val_root_mean_squared_error: 0.4103\n",
            "Learn Rate:  0.0005000000237487257  Epoch:  40\n",
            "Epoch 40/99\n",
            "409/409 - 8s - loss: 0.1521 - mean_absolute_error: 0.2953 - root_mean_squared_error: 0.3895 - val_loss: 0.1687 - val_mean_absolute_error: 0.3116 - val_root_mean_squared_error: 0.4102\n",
            "Learn Rate:  0.0005000000237487257  Epoch:  41\n",
            "Epoch 41/99\n",
            "409/409 - 8s - loss: 0.1520 - mean_absolute_error: 0.2951 - root_mean_squared_error: 0.3894 - val_loss: 0.1686 - val_mean_absolute_error: 0.3113 - val_root_mean_squared_error: 0.4101\n",
            "Learn Rate:  0.0005000000237487257  Epoch:  42\n",
            "Epoch 42/99\n",
            "409/409 - 8s - loss: 0.1517 - mean_absolute_error: 0.2946 - root_mean_squared_error: 0.3890 - val_loss: 0.1685 - val_mean_absolute_error: 0.3112 - val_root_mean_squared_error: 0.4100\n",
            "Learn Rate:  0.0005000000237487257  Epoch:  43\n",
            "Epoch 43/99\n",
            "409/409 - 8s - loss: 0.1516 - mean_absolute_error: 0.2944 - root_mean_squared_error: 0.3889 - val_loss: 0.1684 - val_mean_absolute_error: 0.3110 - val_root_mean_squared_error: 0.4098\n",
            "Learn Rate:  0.0005000000237487257  Epoch:  44\n",
            "Epoch 44/99\n",
            "409/409 - 8s - loss: 0.1507 - mean_absolute_error: 0.2933 - root_mean_squared_error: 0.3878 - val_loss: 0.1684 - val_mean_absolute_error: 0.3108 - val_root_mean_squared_error: 0.4098\n",
            "Learn Rate:  0.0005000000237487257  Epoch:  45\n",
            "Epoch 45/99\n",
            "409/409 - 8s - loss: 0.1512 - mean_absolute_error: 0.2936 - root_mean_squared_error: 0.3883 - val_loss: 0.1684 - val_mean_absolute_error: 0.3107 - val_root_mean_squared_error: 0.4098\n",
            "Learn Rate:  0.0005000000237487257  Epoch:  46\n",
            "Epoch 46/99\n",
            "409/409 - 8s - loss: 0.1510 - mean_absolute_error: 0.2934 - root_mean_squared_error: 0.3881 - val_loss: 0.1683 - val_mean_absolute_error: 0.3105 - val_root_mean_squared_error: 0.4097\n",
            "Learn Rate:  0.0005000000237487257  Epoch:  47\n",
            "Epoch 47/99\n",
            "409/409 - 8s - loss: 0.1506 - mean_absolute_error: 0.2928 - root_mean_squared_error: 0.3876 - val_loss: 0.1683 - val_mean_absolute_error: 0.3103 - val_root_mean_squared_error: 0.4096\n",
            "Learn Rate:  0.0005000000237487257  Epoch:  48\n",
            "Epoch 48/99\n",
            "409/409 - 8s - loss: 0.1505 - mean_absolute_error: 0.2926 - root_mean_squared_error: 0.3874 - val_loss: 0.1683 - val_mean_absolute_error: 0.3102 - val_root_mean_squared_error: 0.4096\n",
            "Learn Rate:  0.0005000000237487257  Epoch:  49\n",
            "Epoch 49/99\n",
            "409/409 - 8s - loss: 0.1504 - mean_absolute_error: 0.2925 - root_mean_squared_error: 0.3873 - val_loss: 0.1683 - val_mean_absolute_error: 0.3102 - val_root_mean_squared_error: 0.4096\n",
            "Learn Rate:  0.0005000000237487257  Epoch:  50\n",
            "Epoch 50/99\n",
            "409/409 - 8s - loss: 0.1500 - mean_absolute_error: 0.2919 - root_mean_squared_error: 0.3868 - val_loss: 0.1682 - val_mean_absolute_error: 0.3100 - val_root_mean_squared_error: 0.4096\n",
            "Learn Rate:  0.0005000000237487257  Epoch:  51\n",
            "Epoch 51/99\n",
            "409/409 - 8s - loss: 0.1499 - mean_absolute_error: 0.2917 - root_mean_squared_error: 0.3867 - val_loss: 0.1682 - val_mean_absolute_error: 0.3099 - val_root_mean_squared_error: 0.4095\n",
            "Learn Rate:  0.0005000000237487257  Epoch:  52\n",
            "Epoch 52/99\n",
            "409/409 - 8s - loss: 0.1496 - mean_absolute_error: 0.2912 - root_mean_squared_error: 0.3862 - val_loss: 0.1682 - val_mean_absolute_error: 0.3098 - val_root_mean_squared_error: 0.4095\n",
            "Learn Rate:  0.0005000000237487257  Epoch:  53\n",
            "Epoch 53/99\n",
            "409/409 - 8s - loss: 0.1494 - mean_absolute_error: 0.2910 - root_mean_squared_error: 0.3859 - val_loss: 0.1682 - val_mean_absolute_error: 0.3097 - val_root_mean_squared_error: 0.4095\n",
            "Learn Rate:  0.0005000000237487257  Epoch:  54\n",
            "Epoch 54/99\n",
            "409/409 - 8s - loss: 0.1492 - mean_absolute_error: 0.2906 - root_mean_squared_error: 0.3857 - val_loss: 0.1682 - val_mean_absolute_error: 0.3096 - val_root_mean_squared_error: 0.4095\n",
            "Learn Rate:  0.0005000000237487257  Epoch:  55\n",
            "Epoch 55/99\n",
            "409/409 - 8s - loss: 0.1490 - mean_absolute_error: 0.2904 - root_mean_squared_error: 0.3855 - val_loss: 0.1680 - val_mean_absolute_error: 0.3093 - val_root_mean_squared_error: 0.4093\n",
            "Learn Rate:  0.00015000000712461767  Epoch:  56\n",
            "Epoch 56/99\n",
            "409/409 - 8s - loss: 0.1491 - mean_absolute_error: 0.2904 - root_mean_squared_error: 0.3856 - val_loss: 0.1680 - val_mean_absolute_error: 0.3093 - val_root_mean_squared_error: 0.4093\n",
            "Learn Rate:  0.00015000000712461767  Epoch:  57\n",
            "Epoch 57/99\n",
            "409/409 - 8s - loss: 0.1487 - mean_absolute_error: 0.2898 - root_mean_squared_error: 0.3850 - val_loss: 0.1680 - val_mean_absolute_error: 0.3092 - val_root_mean_squared_error: 0.4093\n",
            "Learn Rate:  0.00015000000712461767  Epoch:  58\n",
            "Epoch 58/99\n",
            "409/409 - 8s - loss: 0.1481 - mean_absolute_error: 0.2893 - root_mean_squared_error: 0.3842 - val_loss: 0.1680 - val_mean_absolute_error: 0.3092 - val_root_mean_squared_error: 0.4092\n",
            "Learn Rate:  0.00015000000712461767  Epoch:  59\n",
            "Epoch 59/99\n",
            "409/409 - 8s - loss: 0.1483 - mean_absolute_error: 0.2894 - root_mean_squared_error: 0.3846 - val_loss: 0.1680 - val_mean_absolute_error: 0.3092 - val_root_mean_squared_error: 0.4092\n",
            "Learn Rate:  0.00015000000712461767  Epoch:  60\n",
            "Epoch 60/99\n",
            "409/409 - 8s - loss: 0.1484 - mean_absolute_error: 0.2894 - root_mean_squared_error: 0.3846 - val_loss: 0.1680 - val_mean_absolute_error: 0.3091 - val_root_mean_squared_error: 0.4093\n",
            "Learn Rate:  0.00015000000712461767  Epoch:  61\n",
            "Epoch 61/99\n",
            "409/409 - 8s - loss: 0.1478 - mean_absolute_error: 0.2888 - root_mean_squared_error: 0.3839 - val_loss: 0.1680 - val_mean_absolute_error: 0.3090 - val_root_mean_squared_error: 0.4092\n",
            "Learn Rate:  0.00015000000712461767  Epoch:  62\n",
            "Epoch 62/99\n",
            "409/409 - 8s - loss: 0.1481 - mean_absolute_error: 0.2890 - root_mean_squared_error: 0.3843 - val_loss: 0.1679 - val_mean_absolute_error: 0.3090 - val_root_mean_squared_error: 0.4092\n",
            "Learn Rate:  0.00015000000712461767  Epoch:  63\n",
            "Epoch 63/99\n",
            "409/409 - 8s - loss: 0.1480 - mean_absolute_error: 0.2888 - root_mean_squared_error: 0.3842 - val_loss: 0.1679 - val_mean_absolute_error: 0.3090 - val_root_mean_squared_error: 0.4092\n",
            "Learn Rate:  4.5000000682193786e-05  Epoch:  64\n",
            "Epoch 64/99\n",
            "409/409 - 8s - loss: 0.1480 - mean_absolute_error: 0.2888 - root_mean_squared_error: 0.3841 - val_loss: 0.1679 - val_mean_absolute_error: 0.3090 - val_root_mean_squared_error: 0.4092\n",
            "Learn Rate:  4.5000000682193786e-05  Epoch:  65\n",
            "Epoch 65/99\n",
            "409/409 - 8s - loss: 0.1475 - mean_absolute_error: 0.2884 - root_mean_squared_error: 0.3835 - val_loss: 0.1679 - val_mean_absolute_error: 0.3089 - val_root_mean_squared_error: 0.4092\n",
            "Learn Rate:  4.5000000682193786e-05  Epoch:  66\n",
            "Epoch 66/99\n",
            "409/409 - 8s - loss: 0.1477 - mean_absolute_error: 0.2885 - root_mean_squared_error: 0.3838 - val_loss: 0.1679 - val_mean_absolute_error: 0.3089 - val_root_mean_squared_error: 0.4092\n",
            "Learn Rate:  4.5000000682193786e-05  Epoch:  67\n",
            "Epoch 67/99\n",
            "409/409 - 8s - loss: 0.1476 - mean_absolute_error: 0.2884 - root_mean_squared_error: 0.3837 - val_loss: 0.1679 - val_mean_absolute_error: 0.3089 - val_root_mean_squared_error: 0.4092\n",
            "Learn Rate:  4.5000000682193786e-05  Epoch:  68\n",
            "Epoch 68/99\n",
            "409/409 - 8s - loss: 0.1474 - mean_absolute_error: 0.2882 - root_mean_squared_error: 0.3834 - val_loss: 0.1679 - val_mean_absolute_error: 0.3089 - val_root_mean_squared_error: 0.4092\n",
            "Learn Rate:  4.5000000682193786e-05  Epoch:  69\n",
            "Epoch 69/99\n",
            "409/409 - 8s - loss: 0.1477 - mean_absolute_error: 0.2883 - root_mean_squared_error: 0.3837 - val_loss: 0.1679 - val_mean_absolute_error: 0.3089 - val_root_mean_squared_error: 0.4091\n",
            "Learn Rate:  1.3500000022759195e-05  Epoch:  70\n",
            "Epoch 70/99\n",
            "409/409 - 8s - loss: 0.1474 - mean_absolute_error: 0.2882 - root_mean_squared_error: 0.3834 - val_loss: 0.1679 - val_mean_absolute_error: 0.3088 - val_root_mean_squared_error: 0.4091\n",
            "Learn Rate:  1.3500000022759195e-05  Epoch:  71\n",
            "Epoch 71/99\n",
            "409/409 - 8s - loss: 0.1477 - mean_absolute_error: 0.2883 - root_mean_squared_error: 0.3837 - val_loss: 0.1679 - val_mean_absolute_error: 0.3088 - val_root_mean_squared_error: 0.4091\n",
            "Learn Rate:  1.3500000022759195e-05  Epoch:  72\n",
            "Epoch 72/99\n",
            "409/409 - 8s - loss: 0.1475 - mean_absolute_error: 0.2882 - root_mean_squared_error: 0.3835 - val_loss: 0.1679 - val_mean_absolute_error: 0.3088 - val_root_mean_squared_error: 0.4091\n",
            "Learn Rate:  1.3500000022759195e-05  Epoch:  73\n",
            "Epoch 73/99\n",
            "409/409 - 8s - loss: 0.1474 - mean_absolute_error: 0.2882 - root_mean_squared_error: 0.3834 - val_loss: 0.1679 - val_mean_absolute_error: 0.3088 - val_root_mean_squared_error: 0.4091\n",
            "Learn Rate:  1.3500000022759195e-05  Epoch:  74\n",
            "Epoch 74/99\n",
            "409/409 - 8s - loss: 0.1474 - mean_absolute_error: 0.2881 - root_mean_squared_error: 0.3834 - val_loss: 0.1679 - val_mean_absolute_error: 0.3088 - val_root_mean_squared_error: 0.4091\n",
            "Learn Rate:  4.0499999158782884e-06  Epoch:  75\n",
            "Epoch 75/99\n",
            "409/409 - 8s - loss: 0.1471 - mean_absolute_error: 0.2879 - root_mean_squared_error: 0.3830 - val_loss: 0.1679 - val_mean_absolute_error: 0.3088 - val_root_mean_squared_error: 0.4091\n",
            "Learn Rate:  4.0499999158782884e-06  Epoch:  76\n",
            "Epoch 76/99\n",
            "409/409 - 8s - loss: 0.1475 - mean_absolute_error: 0.2883 - root_mean_squared_error: 0.3835 - val_loss: 0.1679 - val_mean_absolute_error: 0.3088 - val_root_mean_squared_error: 0.4091\n",
            "Learn Rate:  4.0499999158782884e-06  Epoch:  77\n",
            "Epoch 77/99\n",
            "409/409 - 8s - loss: 0.1476 - mean_absolute_error: 0.2882 - root_mean_squared_error: 0.3837 - val_loss: 0.1679 - val_mean_absolute_error: 0.3088 - val_root_mean_squared_error: 0.4091\n",
            "Learn Rate:  4.0499999158782884e-06  Epoch:  78\n",
            "Epoch 78/99\n",
            "409/409 - 8s - loss: 0.1473 - mean_absolute_error: 0.2880 - root_mean_squared_error: 0.3832 - val_loss: 0.1679 - val_mean_absolute_error: 0.3088 - val_root_mean_squared_error: 0.4091\n",
            "Learn Rate:  4.0499999158782884e-06  Epoch:  79\n",
            "Epoch 79/99\n",
            "409/409 - 8s - loss: 0.1472 - mean_absolute_error: 0.2881 - root_mean_squared_error: 0.3831 - val_loss: 0.1679 - val_mean_absolute_error: 0.3088 - val_root_mean_squared_error: 0.4091\n",
            "Learn Rate:  1.214999997500854e-06  Epoch:  80\n",
            "Epoch 80/99\n",
            "409/409 - 8s - loss: 0.1474 - mean_absolute_error: 0.2881 - root_mean_squared_error: 0.3834 - val_loss: 0.1679 - val_mean_absolute_error: 0.3088 - val_root_mean_squared_error: 0.4091\n",
            "Learn Rate:  1.214999997500854e-06  Epoch:  81\n",
            "Epoch 81/99\n",
            "409/409 - 8s - loss: 0.1473 - mean_absolute_error: 0.2880 - root_mean_squared_error: 0.3833 - val_loss: 0.1679 - val_mean_absolute_error: 0.3088 - val_root_mean_squared_error: 0.4091\n",
            "Learn Rate:  1.214999997500854e-06  Epoch:  82\n",
            "Epoch 82/99\n",
            "409/409 - 8s - loss: 0.1473 - mean_absolute_error: 0.2880 - root_mean_squared_error: 0.3833 - val_loss: 0.1679 - val_mean_absolute_error: 0.3088 - val_root_mean_squared_error: 0.4091\n",
            "Learn Rate:  1.214999997500854e-06  Epoch:  83\n",
            "Epoch 83/99\n",
            "409/409 - 8s - loss: 0.1474 - mean_absolute_error: 0.2881 - root_mean_squared_error: 0.3833 - val_loss: 0.1679 - val_mean_absolute_error: 0.3088 - val_root_mean_squared_error: 0.4091\n",
            "Learn Rate:  1.214999997500854e-06  Epoch:  84\n",
            "Epoch 84/99\n",
            "409/409 - 8s - loss: 0.1475 - mean_absolute_error: 0.2883 - root_mean_squared_error: 0.3835 - val_loss: 0.1679 - val_mean_absolute_error: 0.3088 - val_root_mean_squared_error: 0.4091\n",
            "Learn Rate:  3.6450001061894e-07  Epoch:  85\n",
            "Epoch 85/99\n",
            "409/409 - 8s - loss: 0.1476 - mean_absolute_error: 0.2884 - root_mean_squared_error: 0.3836 - val_loss: 0.1679 - val_mean_absolute_error: 0.3088 - val_root_mean_squared_error: 0.4091\n",
            "Learn Rate:  3.6450001061894e-07  Epoch:  86\n",
            "Epoch 86/99\n",
            "409/409 - 8s - loss: 0.1474 - mean_absolute_error: 0.2881 - root_mean_squared_error: 0.3834 - val_loss: 0.1679 - val_mean_absolute_error: 0.3088 - val_root_mean_squared_error: 0.4091\n",
            "Learn Rate:  3.6450001061894e-07  Epoch:  87\n",
            "Epoch 87/99\n",
            "409/409 - 8s - loss: 0.1473 - mean_absolute_error: 0.2880 - root_mean_squared_error: 0.3832 - val_loss: 0.1679 - val_mean_absolute_error: 0.3088 - val_root_mean_squared_error: 0.4091\n",
            "Learn Rate:  3.6450001061894e-07  Epoch:  88\n",
            "Epoch 88/99\n",
            "409/409 - 8s - loss: 0.1476 - mean_absolute_error: 0.2884 - root_mean_squared_error: 0.3837 - val_loss: 0.1679 - val_mean_absolute_error: 0.3088 - val_root_mean_squared_error: 0.4091\n",
            "Learn Rate:  3.6450001061894e-07  Epoch:  89\n",
            "Epoch 89/99\n",
            "409/409 - 8s - loss: 0.1471 - mean_absolute_error: 0.2878 - root_mean_squared_error: 0.3830 - val_loss: 0.1679 - val_mean_absolute_error: 0.3088 - val_root_mean_squared_error: 0.4091\n",
            "Learn Rate:  1.0935000460676748e-07  Epoch:  90\n",
            "Epoch 90/99\n",
            "409/409 - 8s - loss: 0.1472 - mean_absolute_error: 0.2879 - root_mean_squared_error: 0.3831 - val_loss: 0.1679 - val_mean_absolute_error: 0.3088 - val_root_mean_squared_error: 0.4091\n",
            "Learn Rate:  1.0935000460676748e-07  Epoch:  91\n",
            "Epoch 91/99\n",
            "409/409 - 8s - loss: 0.1475 - mean_absolute_error: 0.2882 - root_mean_squared_error: 0.3835 - val_loss: 0.1679 - val_mean_absolute_error: 0.3088 - val_root_mean_squared_error: 0.4091\n",
            "Learn Rate:  1.0935000460676748e-07  Epoch:  92\n",
            "Epoch 92/99\n",
            "409/409 - 8s - loss: 0.1475 - mean_absolute_error: 0.2883 - root_mean_squared_error: 0.3835 - val_loss: 0.1679 - val_mean_absolute_error: 0.3088 - val_root_mean_squared_error: 0.4091\n",
            "Learn Rate:  1.0935000460676748e-07  Epoch:  93\n",
            "Epoch 93/99\n",
            "409/409 - 8s - loss: 0.1474 - mean_absolute_error: 0.2882 - root_mean_squared_error: 0.3833 - val_loss: 0.1679 - val_mean_absolute_error: 0.3088 - val_root_mean_squared_error: 0.4091\n",
            "Learn Rate:  1.0935000460676748e-07  Epoch:  94\n",
            "Epoch 94/99\n",
            "409/409 - 8s - loss: 0.1475 - mean_absolute_error: 0.2882 - root_mean_squared_error: 0.3835 - val_loss: 0.1679 - val_mean_absolute_error: 0.3088 - val_root_mean_squared_error: 0.4091\n",
            "Learn Rate:  3.2805001382030234e-08  Epoch:  95\n",
            "Epoch 95/99\n",
            "409/409 - 8s - loss: 0.1471 - mean_absolute_error: 0.2878 - root_mean_squared_error: 0.3830 - val_loss: 0.1679 - val_mean_absolute_error: 0.3088 - val_root_mean_squared_error: 0.4091\n",
            "Learn Rate:  3.2805001382030234e-08  Epoch:  96\n",
            "Epoch 96/99\n",
            "409/409 - 8s - loss: 0.1474 - mean_absolute_error: 0.2882 - root_mean_squared_error: 0.3833 - val_loss: 0.1679 - val_mean_absolute_error: 0.3088 - val_root_mean_squared_error: 0.4091\n",
            "Learn Rate:  3.2805001382030234e-08  Epoch:  97\n",
            "Epoch 97/99\n",
            "409/409 - 8s - loss: 0.1474 - mean_absolute_error: 0.2880 - root_mean_squared_error: 0.3833 - val_loss: 0.1679 - val_mean_absolute_error: 0.3088 - val_root_mean_squared_error: 0.4091\n",
            "Learn Rate:  3.2805001382030234e-08  Epoch:  98\n",
            "Epoch 98/99\n",
            "409/409 - 8s - loss: 0.1474 - mean_absolute_error: 0.2880 - root_mean_squared_error: 0.3834 - val_loss: 0.1679 - val_mean_absolute_error: 0.3088 - val_root_mean_squared_error: 0.4091\n",
            "Learn Rate:  3.2805001382030234e-08  Epoch:  99\n",
            "Epoch 99/99\n",
            "409/409 - 8s - loss: 0.1473 - mean_absolute_error: 0.2880 - root_mean_squared_error: 0.3832 - val_loss: 0.1679 - val_mean_absolute_error: 0.3088 - val_root_mean_squared_error: 0.4091\n"
          ],
          "name": "stdout"
        }
      ]
    },
    {
      "cell_type": "code",
      "metadata": {
        "id": "9ea470xe47Mx",
        "colab_type": "code",
        "outputId": "bf2d84fa-90fd-41cf-d1d8-bcdada741cd0",
        "colab": {
          "base_uri": "https://localhost:8080/",
          "height": 52
        }
      },
      "source": [
        "model.evaluate(test_dataset)"
      ],
      "execution_count": 0,
      "outputs": [
        {
          "output_type": "stream",
          "text": [
            "22/22 [==============================] - 0s 15ms/step - loss: 0.1679 - mean_absolute_error: 0.3088 - root_mean_squared_error: 0.4091\n"
          ],
          "name": "stdout"
        },
        {
          "output_type": "execute_result",
          "data": {
            "text/plain": [
              "[0.16788514974442395, 0.30881774, 0.40912938]"
            ]
          },
          "metadata": {
            "tags": []
          },
          "execution_count": 89
        }
      ]
    },
    {
      "cell_type": "code",
      "metadata": {
        "id": "r63DYduP5OOE",
        "colab_type": "code",
        "colab": {}
      },
      "source": [
        "model_name = 'Final Model'\n",
        "model_hist_file = f'{model_name.strip().replace(\" \", \"_\").lower()}_hist.csv'\n",
        "loaded_model = model_capture(model, model_name, model_history)"
      ],
      "execution_count": 0,
      "outputs": []
    },
    {
      "cell_type": "code",
      "metadata": {
        "id": "SzwFDUlf5P2u",
        "colab_type": "code",
        "colab": {}
      },
      "source": [
        "loaded_model.compile(\n",
        "    optimizer=keras.optimizers.Adam(lr=LEARN_RATE),\n",
        "    loss=keras.losses.mse,\n",
        "    metrics=[keras.metrics.mae, keras.metrics.RootMeanSquaredError()],\n",
        ")"
      ],
      "execution_count": 0,
      "outputs": []
    },
    {
      "cell_type": "code",
      "metadata": {
        "id": "tAathP775wKW",
        "colab_type": "code",
        "outputId": "6afee44f-2a6d-46da-a222-97ec2874b8ce",
        "colab": {
          "base_uri": "https://localhost:8080/",
          "height": 52
        }
      },
      "source": [
        "loaded_model.evaluate(test_dataset)"
      ],
      "execution_count": 0,
      "outputs": [
        {
          "output_type": "stream",
          "text": [
            "22/22 [==============================] - 0s 19ms/step - loss: 0.1679 - mean_absolute_error: 0.3088 - root_mean_squared_error: 0.4091\n"
          ],
          "name": "stdout"
        },
        {
          "output_type": "execute_result",
          "data": {
            "text/plain": [
              "[0.16788514974442395, 0.30881774, 0.40912938]"
            ]
          },
          "metadata": {
            "tags": []
          },
          "execution_count": 92
        }
      ]
    },
    {
      "cell_type": "code",
      "metadata": {
        "id": "aQHqwN9I6DZ1",
        "colab_type": "code",
        "colab": {}
      },
      "source": [
        "del model"
      ],
      "execution_count": 0,
      "outputs": []
    },
    {
      "cell_type": "code",
      "metadata": {
        "id": "QUWGLjnX6E2L",
        "colab_type": "code",
        "outputId": "a47e8b1b-94ad-4721-f017-8cda06b02c25",
        "colab": {
          "base_uri": "https://localhost:8080/",
          "height": 35
        }
      },
      "source": [
        "model_rmse = model_metric(loaded_model, test_dataset, scaler)\n",
        "model_rmse"
      ],
      "execution_count": 0,
      "outputs": [
        {
          "output_type": "execute_result",
          "data": {
            "text/plain": [
              "4.091294"
            ]
          },
          "metadata": {
            "tags": []
          },
          "execution_count": 94
        }
      ]
    },
    {
      "cell_type": "markdown",
      "metadata": {
        "id": "ebhki4PQigav",
        "colab_type": "text"
      },
      "source": [
        "## ***Recommend next joke***"
      ]
    },
    {
      "cell_type": "code",
      "metadata": {
        "id": "gbAqVMWZFlhJ",
        "colab_type": "code",
        "outputId": "cfb12302-55bf-49bd-cbb0-d3d30a98083f",
        "colab": {
          "base_uri": "https://localhost:8080/",
          "height": 35
        }
      },
      "source": [
        "all_users = valtrain_data[user_col].unique()\n",
        "\n",
        "user_id = all_users[np.random.randint(0, len(all_users))]\n",
        "user_id"
      ],
      "execution_count": 0,
      "outputs": [
        {
          "output_type": "execute_result",
          "data": {
            "text/plain": [
              "28419"
            ]
          },
          "metadata": {
            "tags": []
          },
          "execution_count": 167
        }
      ]
    },
    {
      "cell_type": "code",
      "metadata": {
        "id": "A4KXRQD_-VX7",
        "colab_type": "code",
        "colab": {}
      },
      "source": [
        "user_data = valtrain_data[valtrain_data[user_col]==user_id]"
      ],
      "execution_count": 0,
      "outputs": []
    },
    {
      "cell_type": "code",
      "metadata": {
        "id": "PD-bItvGVXyr",
        "colab_type": "code",
        "outputId": "d55c2acc-f1f7-4e2d-e11c-89447eb33d9b",
        "colab": {
          "base_uri": "https://localhost:8080/",
          "height": 35
        }
      },
      "source": [
        "len(user_data)"
      ],
      "execution_count": 0,
      "outputs": [
        {
          "output_type": "execute_result",
          "data": {
            "text/plain": [
              "16"
            ]
          },
          "metadata": {
            "tags": []
          },
          "execution_count": 169
        }
      ]
    },
    {
      "cell_type": "code",
      "metadata": {
        "id": "sdWZqEvFVuh_",
        "colab_type": "code",
        "outputId": "e1c3a778-d88c-4323-fb86-efe95f6eac12",
        "colab": {
          "base_uri": "https://localhost:8080/",
          "height": 52
        }
      },
      "source": [
        "user_jokes = user_data[item_col]\n",
        "user_jokes.values"
      ],
      "execution_count": 0,
      "outputs": [
        {
          "output_type": "execute_result",
          "data": {
            "text/plain": [
              "array([ 53, 142, 108,  18,   7, 138,  13,  66,  26, 121, 132,  15,   8,\n",
              "       106,  17,  19])"
            ]
          },
          "metadata": {
            "tags": []
          },
          "execution_count": 170
        }
      ]
    },
    {
      "cell_type": "code",
      "metadata": {
        "id": "krVOsqQ5XAFw",
        "colab_type": "code",
        "outputId": "7fbb2eb8-9d39-41a7-f989-6656b1aac3d5",
        "colab": {
          "base_uri": "https://localhost:8080/",
          "height": 211
        }
      },
      "source": [
        "all_jokes = valtrain_data[item_col].unique()\n",
        "all_jokes"
      ],
      "execution_count": 0,
      "outputs": [
        {
          "output_type": "execute_result",
          "data": {
            "text/plain": [
              "array([ 19,  13,  53, 141, 104, 109,  35,  93,  83,  63,  18,  97,   8,\n",
              "        30,  49, 129,  84, 139,  65,   7,  96,  60,  15, 147,  50, 127,\n",
              "        78,  92, 106,  54,  16, 148,  76,  26,  74,  28,  95, 130, 121,\n",
              "       113,  66,  39,  77, 126,  87,  17,  89,  22,  64,  90, 131,  33,\n",
              "        47, 142, 108,  32,  48, 119, 125,  44, 150,  86,  21, 144, 115,\n",
              "       136, 107,  36,  41, 143,  23,  94,  68,  46,  59, 102, 137, 145,\n",
              "        88, 138,  79, 111, 120,  99,  72,  70, 132,  37, 134, 105, 123,\n",
              "        45,  34, 118,  56, 114, 101,  40,  85,   5,  55, 112,  24,  98,\n",
              "        42,  91, 133, 135,  75, 149, 117,  25,  81,  62, 110,  69, 103,\n",
              "       140,  38,  71, 122, 128,  29,  58, 124, 146,  82,  27,  52,  57,\n",
              "        67,  43,  20,  51,  31,  61,  73, 100, 116,  80])"
            ]
          },
          "metadata": {
            "tags": []
          },
          "execution_count": 171
        }
      ]
    },
    {
      "cell_type": "code",
      "metadata": {
        "id": "NBFcfVRhYLwW",
        "colab_type": "code",
        "outputId": "167759d0-e285-4b37-f670-158a96e566e0",
        "colab": {
          "base_uri": "https://localhost:8080/",
          "height": 203
        }
      },
      "source": [
        "jokes_data = pd.DataFrame(list(set(all_jokes) - set(user_jokes)), columns=[item_col])\n",
        "jokes_data[user_col] = user_id\n",
        "jokes_data[target_col] = 0\n",
        "jokes_data.head()"
      ],
      "execution_count": 0,
      "outputs": [
        {
          "output_type": "execute_result",
          "data": {
            "text/html": [
              "<div>\n",
              "<style scoped>\n",
              "    .dataframe tbody tr th:only-of-type {\n",
              "        vertical-align: middle;\n",
              "    }\n",
              "\n",
              "    .dataframe tbody tr th {\n",
              "        vertical-align: top;\n",
              "    }\n",
              "\n",
              "    .dataframe thead th {\n",
              "        text-align: right;\n",
              "    }\n",
              "</style>\n",
              "<table border=\"1\" class=\"dataframe\">\n",
              "  <thead>\n",
              "    <tr style=\"text-align: right;\">\n",
              "      <th></th>\n",
              "      <th>jokeId</th>\n",
              "      <th>userId</th>\n",
              "      <th>rating</th>\n",
              "    </tr>\n",
              "  </thead>\n",
              "  <tbody>\n",
              "    <tr>\n",
              "      <th>0</th>\n",
              "      <td>5</td>\n",
              "      <td>28419</td>\n",
              "      <td>0</td>\n",
              "    </tr>\n",
              "    <tr>\n",
              "      <th>1</th>\n",
              "      <td>16</td>\n",
              "      <td>28419</td>\n",
              "      <td>0</td>\n",
              "    </tr>\n",
              "    <tr>\n",
              "      <th>2</th>\n",
              "      <td>20</td>\n",
              "      <td>28419</td>\n",
              "      <td>0</td>\n",
              "    </tr>\n",
              "    <tr>\n",
              "      <th>3</th>\n",
              "      <td>21</td>\n",
              "      <td>28419</td>\n",
              "      <td>0</td>\n",
              "    </tr>\n",
              "    <tr>\n",
              "      <th>4</th>\n",
              "      <td>22</td>\n",
              "      <td>28419</td>\n",
              "      <td>0</td>\n",
              "    </tr>\n",
              "  </tbody>\n",
              "</table>\n",
              "</div>"
            ],
            "text/plain": [
              "   jokeId  userId  rating\n",
              "0       5   28419       0\n",
              "1      16   28419       0\n",
              "2      20   28419       0\n",
              "3      21   28419       0\n",
              "4      22   28419       0"
            ]
          },
          "metadata": {
            "tags": []
          },
          "execution_count": 172
        }
      ]
    },
    {
      "cell_type": "code",
      "metadata": {
        "id": "PuWkqmTUcl-7",
        "colab_type": "code",
        "colab": {}
      },
      "source": [
        "jokes_dataset = make_dataset(jokes_data, train_set=False)"
      ],
      "execution_count": 0,
      "outputs": []
    },
    {
      "cell_type": "code",
      "metadata": {
        "id": "_gpduGDndN0W",
        "colab_type": "code",
        "colab": {}
      },
      "source": [
        "_, preds = model_predictions(loaded_model, jokes_dataset)"
      ],
      "execution_count": 0,
      "outputs": []
    },
    {
      "cell_type": "code",
      "metadata": {
        "id": "C-2qq7qyeCc9",
        "colab_type": "code",
        "outputId": "6c37fc32-bdb0-4ac1-8fd2-54d23aeff850",
        "colab": {
          "base_uri": "https://localhost:8080/",
          "height": 203
        }
      },
      "source": [
        "jokes_data['prediction'] = scaler.inverse_transform(preds)\n",
        "jokes_data.head()"
      ],
      "execution_count": 0,
      "outputs": [
        {
          "output_type": "execute_result",
          "data": {
            "text/html": [
              "<div>\n",
              "<style scoped>\n",
              "    .dataframe tbody tr th:only-of-type {\n",
              "        vertical-align: middle;\n",
              "    }\n",
              "\n",
              "    .dataframe tbody tr th {\n",
              "        vertical-align: top;\n",
              "    }\n",
              "\n",
              "    .dataframe thead th {\n",
              "        text-align: right;\n",
              "    }\n",
              "</style>\n",
              "<table border=\"1\" class=\"dataframe\">\n",
              "  <thead>\n",
              "    <tr style=\"text-align: right;\">\n",
              "      <th></th>\n",
              "      <th>jokeId</th>\n",
              "      <th>userId</th>\n",
              "      <th>rating</th>\n",
              "      <th>prediction</th>\n",
              "    </tr>\n",
              "  </thead>\n",
              "  <tbody>\n",
              "    <tr>\n",
              "      <th>0</th>\n",
              "      <td>5</td>\n",
              "      <td>28419</td>\n",
              "      <td>0</td>\n",
              "      <td>-0.648187</td>\n",
              "    </tr>\n",
              "    <tr>\n",
              "      <th>1</th>\n",
              "      <td>16</td>\n",
              "      <td>28419</td>\n",
              "      <td>0</td>\n",
              "      <td>0.494393</td>\n",
              "    </tr>\n",
              "    <tr>\n",
              "      <th>2</th>\n",
              "      <td>20</td>\n",
              "      <td>28419</td>\n",
              "      <td>0</td>\n",
              "      <td>0.367471</td>\n",
              "    </tr>\n",
              "    <tr>\n",
              "      <th>3</th>\n",
              "      <td>21</td>\n",
              "      <td>28419</td>\n",
              "      <td>0</td>\n",
              "      <td>2.818209</td>\n",
              "    </tr>\n",
              "    <tr>\n",
              "      <th>4</th>\n",
              "      <td>22</td>\n",
              "      <td>28419</td>\n",
              "      <td>0</td>\n",
              "      <td>2.185438</td>\n",
              "    </tr>\n",
              "  </tbody>\n",
              "</table>\n",
              "</div>"
            ],
            "text/plain": [
              "   jokeId  userId  rating  prediction\n",
              "0       5   28419       0   -0.648187\n",
              "1      16   28419       0    0.494393\n",
              "2      20   28419       0    0.367471\n",
              "3      21   28419       0    2.818209\n",
              "4      22   28419       0    2.185438"
            ]
          },
          "metadata": {
            "tags": []
          },
          "execution_count": 175
        }
      ]
    },
    {
      "cell_type": "code",
      "metadata": {
        "id": "HQEN3nzlf4yS",
        "colab_type": "code",
        "colab": {}
      },
      "source": [
        "joke_idx = jokes_data['prediction'].idxmax()\n",
        "\n",
        "joke_id = jokes_data[item_col][joke_idx]\n",
        "joke_rating = jokes_data['prediction'][joke_idx]"
      ],
      "execution_count": 0,
      "outputs": []
    },
    {
      "cell_type": "code",
      "metadata": {
        "id": "7EsdgfVBhFAP",
        "colab_type": "code",
        "colab": {}
      },
      "source": [
        "content_data = pd.read_csv(DATA_DIR/'jester_items.csv', low_memory=False)"
      ],
      "execution_count": 0,
      "outputs": []
    },
    {
      "cell_type": "code",
      "metadata": {
        "id": "0jPXEFDGkEFB",
        "colab_type": "code",
        "outputId": "1c17f7ac-0733-4684-be4b-b75c59b6b89f",
        "colab": {
          "base_uri": "https://localhost:8080/",
          "height": 203
        }
      },
      "source": [
        "content_data.head()"
      ],
      "execution_count": 0,
      "outputs": [
        {
          "output_type": "execute_result",
          "data": {
            "text/html": [
              "<div>\n",
              "<style scoped>\n",
              "    .dataframe tbody tr th:only-of-type {\n",
              "        vertical-align: middle;\n",
              "    }\n",
              "\n",
              "    .dataframe tbody tr th {\n",
              "        vertical-align: top;\n",
              "    }\n",
              "\n",
              "    .dataframe thead th {\n",
              "        text-align: right;\n",
              "    }\n",
              "</style>\n",
              "<table border=\"1\" class=\"dataframe\">\n",
              "  <thead>\n",
              "    <tr style=\"text-align: right;\">\n",
              "      <th></th>\n",
              "      <th>jokeId</th>\n",
              "      <th>jokeText</th>\n",
              "    </tr>\n",
              "  </thead>\n",
              "  <tbody>\n",
              "    <tr>\n",
              "      <th>0</th>\n",
              "      <td>1</td>\n",
              "      <td>A man visits the doctor. The doctor says \"I ha...</td>\n",
              "    </tr>\n",
              "    <tr>\n",
              "      <th>1</th>\n",
              "      <td>2</td>\n",
              "      <td>This couple had an excellent relationship goin...</td>\n",
              "    </tr>\n",
              "    <tr>\n",
              "      <th>2</th>\n",
              "      <td>3</td>\n",
              "      <td>Q. What's 200 feet long and has 4 teeth? \\n\\nA...</td>\n",
              "    </tr>\n",
              "    <tr>\n",
              "      <th>3</th>\n",
              "      <td>4</td>\n",
              "      <td>Q. What's the difference between a man and a t...</td>\n",
              "    </tr>\n",
              "    <tr>\n",
              "      <th>4</th>\n",
              "      <td>5</td>\n",
              "      <td>Q.\\tWhat's O. J. Simpson's Internet address? \\...</td>\n",
              "    </tr>\n",
              "  </tbody>\n",
              "</table>\n",
              "</div>"
            ],
            "text/plain": [
              "   jokeId                                           jokeText\n",
              "0       1  A man visits the doctor. The doctor says \"I ha...\n",
              "1       2  This couple had an excellent relationship goin...\n",
              "2       3  Q. What's 200 feet long and has 4 teeth? \\n\\nA...\n",
              "3       4  Q. What's the difference between a man and a t...\n",
              "4       5  Q.\\tWhat's O. J. Simpson's Internet address? \\..."
            ]
          },
          "metadata": {
            "tags": []
          },
          "execution_count": 178
        }
      ]
    },
    {
      "cell_type": "code",
      "metadata": {
        "id": "7yyjf1zckKre",
        "colab_type": "code",
        "outputId": "d677b076-588e-49cb-a4a3-0a02fd89aa6f",
        "colab": {
          "base_uri": "https://localhost:8080/",
          "height": 90
        }
      },
      "source": [
        "idx = content_data[content_data[item_col]==joke_id].index[0]\n",
        "print(content_data['jokeText'][idx])\n",
        "print(f'\\nPredicted joke rating: {joke_rating:.6f}')"
      ],
      "execution_count": 0,
      "outputs": [
        {
          "output_type": "stream",
          "text": [
            "A couple of hunters are out in the woods in the deep south when one of them falls to the ground. He doesn't seem to be breathing, and his eyes are rolled back in his head. The other guy whips out his cell phone and calls 911. He gasps to the operator, \"My friend is dead! What can I do?\" The operator, in a calm and soothing voice, says, \"Alright, take it easy. I can help. First, let's make sure he's dead.\" There is silence, and then a gun shot is heard. The hunter comes back on the line. \"Okay. Now what??\"\n",
            "\n",
            "Predicted joke rating: 3.899993\n"
          ],
          "name": "stdout"
        }
      ]
    },
    {
      "cell_type": "markdown",
      "metadata": {
        "id": "HQGsu9UK5dD0",
        "colab_type": "text"
      },
      "source": [
        "## ***The End***"
      ]
    }
  ]
}